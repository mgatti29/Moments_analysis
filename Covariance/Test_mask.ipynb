{
 "cells": [
  {
   "cell_type": "markdown",
   "metadata": {},
   "source": [
    "# test on masks"
   ]
  },
  {
   "cell_type": "markdown",
   "metadata": {},
   "source": [
    "In this notebook I will load two maps from T17 (density and convergence) and I will compute the masked and unmasked momoments. I will also compute the skew-spectra and try to see if I can manage to account for mask effects"
   ]
  },
  {
   "cell_type": "code",
   "execution_count": 360,
   "metadata": {},
   "outputs": [],
   "source": [
    "%matplotlib inline\n",
    "import matplotlib.pyplot as plt\n",
    "import cosmolopy\n",
    "import h5py as h5\n",
    "import numpy as np\n",
    "import healpy as hp\n",
    "from Moments_analysis import convert_to_pix_coord, make_covariance\n",
    "from Moments_analysis import moments_map\n",
    "import pyfits as pf\n",
    "import cosmolopy.distance as cd\n",
    "import pickle\n",
    "def save_obj(name, obj):\n",
    "    with open(name + '.pkl', 'wb') as f:\n",
    "        pickle.dump(obj, f, protocol = 2)\n",
    "        \n",
    "def load_obj(name):\n",
    "    with open(name + '.pkl', 'rb') as f:\n",
    "        return pickle.load(f)#, encoding='latin1')\n",
    "\n",
    "import healpy as hp\n",
    "\n",
    "'''\n",
    "This notebook checks if the modelling of the mask effects is adequate.\n",
    "\n",
    "'''\n",
    "# load the mask\n",
    "mask = load_obj(\"mask_DES_y3_py2\")\n",
    "nside =1024\n",
    "lmax = nside*2\n",
    "# load the mixing matrix\n",
    "mode_coupling_matrix ='/global/project/projectdirs/des/mgatti/Moments_analysis/mode_coupling_matrix_{0}_{1}.h5'.format(lmax,nside)\n",
    "f_sky = len(mask[mask])*1./len(mask)\n",
    "import h5py\n",
    "matrix = h5py.File(mode_coupling_matrix,'r')\n",
    "\n",
    "mode_coupling_matrix ='/global/project/projectdirs/des/mgatti/Moments_analysis/mode_coupling_matrix_NaMaster_{0}_{1}.h5'.format(lmax,nside)\n",
    "f_sky = len(mask[mask])*1./len(mask)\n",
    "import h5py\n",
    "matrix_NaMaster = h5py.File(mode_coupling_matrix,'r')\n",
    "\n",
    "mode_coupling_matrix ='/global/project/projectdirs/des/mgatti/Moments_analysis/mode_coupling_matrix_NaMaster_3arcmin_sm_{0}_{1}.h5'.format(lmax,nside)\n",
    "f_sky = len(mask[mask])*1./len(mask)\n",
    "import h5py\n",
    "matrix_NaMaster1 = h5py.File(mode_coupling_matrix,'r')\n",
    "\n"
   ]
  },
  {
   "cell_type": "code",
   "execution_count": 361,
   "metadata": {},
   "outputs": [
    {
     "data": {
      "text/plain": [
       "1"
      ]
     },
     "execution_count": 361,
     "metadata": {},
     "output_type": "execute_result"
    }
   ],
   "source": [
    "1"
   ]
  },
  {
   "cell_type": "code",
   "execution_count": 6,
   "metadata": {},
   "outputs": [
    {
     "name": "stderr",
     "output_type": "stream",
     "text": [
      "/global/homes/m/mgatti/.conda/envs/py3s/lib/python3.6/site-packages/ipykernel_launcher.py:15: RuntimeWarning: divide by zero encountered in true_divide\n",
      "  from ipykernel import kernelapp as app\n",
      "/global/homes/m/mgatti/.conda/envs/py3s/lib/python3.6/site-packages/ipykernel_launcher.py:15: RuntimeWarning: invalid value encountered in true_divide\n",
      "  from ipykernel import kernelapp as app\n"
     ]
    },
    {
     "name": "stdout",
     "output_type": "stream",
     "text": [
      "Sigma is 0.000000 arcmin (0.000000 rad) \n",
      "-> fwhm is 0.000000 arcmin\n"
     ]
    }
   ],
   "source": [
    "# Load T17 map\n",
    "mute = pf.open('/global/cscratch1/sd/mgatti/Mass_Mapping/taka/maps_0/k_1024_10.fits')\n",
    "k = mute[1].data['field']\n",
    "mute = pf.open('/global/cscratch1/sd/mgatti/Mass_Mapping/taka/maps_0/lens_layer_1024_5.fits')\n",
    "d = mute[1].data['field']\n",
    "\n",
    "# compute Cl\n",
    "Cl_k = hp.anafast(k)\n",
    "Cl_d = hp.anafast(d)\n",
    "\n",
    "\n",
    "# compute g1,g2\n",
    "alms_flask_nomask = hp.map2alm(k, lmax=2048)  # Spin transform\n",
    "ell, emm = hp.Alm.getlm(lmax=2048)\n",
    "almsE_flask_nomask = alms_flask_nomask / ( ((ell * (ell + 1.)) / ((ell + 2.) * (ell - 1))) ** 0.5)\n",
    "almsE_flask_nomask[ell==0.] = 0.\n",
    "_,g1,g2 = hp.alm2map([almsE_flask_nomask,almsE_flask_nomask,almsE_flask_nomask*0.], nside=1024, lmax=2048, pol=True)\n",
    "\n",
    "\n",
    "# copy the fields and create masked versions of them\n",
    "g1_masked = np.zeros_like(g1)\n",
    "g2_masked = np.zeros_like(g1)\n",
    "d_masked = np.zeros_like(g1)\n",
    "\n",
    "g1_masked[mask] = g1[mask]\n",
    "g2_masked[mask] = g2[mask]\n",
    "d_masked[mask] = d[mask]\n",
    "\n",
    "Cl_k_masked = hp.anafast(k)\n",
    "Cl_d_masked = hp.anafast(d_masked)\n"
   ]
  },
  {
   "cell_type": "code",
   "execution_count": 7,
   "metadata": {},
   "outputs": [
    {
     "name": "stdout",
     "output_type": "stream",
     "text": [
      "d 0\n",
      "3.2\n",
      "5.1\n",
      "8.2\n",
      "13.1\n",
      "21.0\n",
      "33.6\n",
      "54.0\n",
      "86.0\n",
      "138.0\n",
      "221.0\n",
      "d_masked 0\n",
      "3.2\n",
      "5.1\n",
      "8.2\n",
      "13.1\n",
      "21.0\n",
      "33.6\n",
      "54.0\n",
      "86.0\n",
      "138.0\n",
      "221.0\n",
      "convergence 0\n"
     ]
    },
    {
     "name": "stderr",
     "output_type": "stream",
     "text": [
      "/global/homes/m/mgatti/.conda/envs/py3s/lib/python3.6/site-packages/Moments_analysis-0.1-py3.6.egg/Moments_analysis/Compute_moments.py:82: RuntimeWarning: divide by zero encountered in true_divide\n",
      "/global/homes/m/mgatti/.conda/envs/py3s/lib/python3.6/site-packages/Moments_analysis-0.1-py3.6.egg/Moments_analysis/Compute_moments.py:82: RuntimeWarning: invalid value encountered in multiply\n",
      "/global/homes/m/mgatti/.conda/envs/py3s/lib/python3.6/site-packages/Moments_analysis-0.1-py3.6.egg/Moments_analysis/Compute_moments.py:84: RuntimeWarning: divide by zero encountered in true_divide\n",
      "/global/homes/m/mgatti/.conda/envs/py3s/lib/python3.6/site-packages/Moments_analysis-0.1-py3.6.egg/Moments_analysis/Compute_moments.py:84: RuntimeWarning: invalid value encountered in multiply\n"
     ]
    },
    {
     "name": "stdout",
     "output_type": "stream",
     "text": [
      "3.2\n",
      "5.1\n",
      "8.2\n",
      "13.1\n",
      "21.0\n",
      "33.6\n",
      "54.0\n",
      "86.0\n",
      "138.0\n",
      "221.0\n",
      "3.2\n",
      "5.1\n",
      "8.2\n",
      "13.1\n",
      "21.0\n",
      "33.6\n",
      "54.0\n",
      "86.0\n",
      "138.0\n",
      "221.0\n",
      "convergence_masked 0\n",
      "3.2\n",
      "5.1\n",
      "8.2\n",
      "13.1\n",
      "21.0\n",
      "33.6\n",
      "54.0\n",
      "86.0\n",
      "138.0\n",
      "221.0\n",
      "3.2\n",
      "5.1\n",
      "8.2\n",
      "13.1\n",
      "21.0\n",
      "33.6\n",
      "54.0\n",
      "86.0\n",
      "138.0\n",
      "221.0\n"
     ]
    }
   ],
   "source": [
    "import os\n",
    "\n",
    "conf = dict()\n",
    "conf['smoothing_scales'] = np.array([3.2,5.1,8.2,13.1,21.0,33.6,54.,86.,138,221.]) # arcmin\n",
    "conf['nside'] = 1024\n",
    "conf['lmax'] = 2048\n",
    "conf['verbose'] = True\n",
    "conf['output_folder'] = '/global/cscratch1/sd/mgatti/Mass_Mapping/moments/test_T/'\n",
    "\n",
    "\n",
    "mcal_moments = moments_map(conf)\n",
    "i = 0\n",
    "    \n",
    "mcal_moments.add_map(g1, field_label = 'e1', tomo_bin = i)\n",
    "mcal_moments.add_map(g2, field_label = 'e2', tomo_bin = i)\n",
    "\n",
    "mcal_moments.add_map(g1_masked, field_label = 'e1_masked', tomo_bin = i)\n",
    "mcal_moments.add_map(g2_masked, field_label = 'e2_masked', tomo_bin = i)\n",
    "\n",
    "mcal_moments.add_map(d, field_label = 'd', tomo_bin = i)\n",
    "mcal_moments.add_map(d_masked, field_label = 'd_masked', tomo_bin = i)\n",
    "\n",
    "\n",
    "mcal_moments.transform_and_smooth('d','d', shear = False, tomo_bins = [0], overwrite = False)                \n",
    "mcal_moments.transform_and_smooth('d_masked','d_masked', shear = False, tomo_bins = [0], overwrite = False)                \n",
    "  \n",
    "mcal_moments.transform_and_smooth('convergence','e1','e2', shear = True, tomo_bins = [0], overwrite = False)                \n",
    "mcal_moments.transform_and_smooth('convergence_masked','e1_masked','e2_masked', shear = True, tomo_bins = [0], overwrite = False)                \n",
    "\n",
    "mcal_moments.compute_moments( label_moments='kEkE', field_label1 ='convergence_kE',  tomo_bins1 = [0,])\n",
    "mcal_moments.compute_moments( label_moments='kEkE_masked', field_label1 ='convergence_masked_kE',  tomo_bins1 = [0,])\n",
    "\n",
    "mcal_moments.compute_moments( label_moments='dd', field_label1 ='d_kE',  tomo_bins1 = [0,])\n",
    "mcal_moments.compute_moments( label_moments='dd_masked', field_label1 ='d_masked_kE',  tomo_bins1 = [0,])\n"
   ]
  },
  {
   "cell_type": "code",
   "execution_count": 278,
   "metadata": {},
   "outputs": [],
   "source": [
    "mapp_ave = load_obj('/global/project/projectdirs/des/mgatti/Moments_analysis/Ave_FLASK_Y3')\n",
    "\n",
    "path_cov = \"/global/project/projectdirs/des/mgatti/Moments_analysis/Cov_FLASK_Y3\"\n",
    "map_flask_reals = load_obj(path_cov)\n",
    "\n",
    "bins_dictionary = dict()\n",
    "bins_dictionary['auto'] = dict()\n",
    "#bins_dictionary['auto']['kEkE'] = {'bins':[[1,1],[1,1,1]], 'scale_cut': None, 'Nz_mean': None}\n",
    "#bins_dictionary['auto']['dd'] = {'bins':[[1,1,1]], 'scale_cut': None, 'Nz_mean': None}\n",
    "bins_dictionary['auto']['noiseless_kEkE'] = {'bins':[[1,1],[1,1,1]],'scale_cut': None, 'Nz_mean': None}\n",
    "\n",
    "\n",
    "import numpy as np\n",
    "smoothing_scales = np.array([3.2,5.1,8.2,13.1,21.0,33.6,54.,86.,138,221.])\n",
    "\n",
    "numb_of_real = 100\n",
    "cov2a,v2,err2 = make_covariance(map_flask_reals, numb_of_real, smoothing_scales, bins_dictionary['auto'])\n",
    "\n"
   ]
  },
  {
   "cell_type": "code",
   "execution_count": 217,
   "metadata": {},
   "outputs": [],
   "source": [
    "import scipy\n",
    "def compute_masked_2m(P_lz, smoothing_scales, lmax = 2048):\n",
    "    '''\n",
    "    It computes the smoothed (by a top-hat filter) 2nd moments of the density field given the\n",
    "    3D power spectrum at fixed z. (l=k/chi(z)).\n",
    "    '''\n",
    "    moments = []\n",
    "    ell = np.arange(lmax)\n",
    "    for i, sm in enumerate(smoothing_scales):\n",
    "        sm_rad =(sm/60.)*np.pi/180.  \n",
    "        # smoothing kernel (top-hat)\n",
    "  \n",
    "        A = 1./(2*np.pi*(1.-np.cos(sm_rad)))\n",
    "        B = np.sqrt(np.pi/(2.*ell+1.0))\n",
    "        \n",
    "        fact = -B*(scipy.special.eval_legendre(ell+1,np.cos(sm_rad))-scipy.special.eval_legendre(ell-1,np.cos(sm_rad)))*A\n",
    "        fact[0] = 1\n",
    "        moments.append((1.)*np.sum(fact[:lmax]**2*P_lz[:lmax]))\n",
    "    return np.array(moments)\n",
    "\n",
    "\n",
    "\n",
    "\n",
    "\n",
    "def compute_masked_3m(P_lz, smoothing_scales, P_lz_masked = None,lmax = 2048, \n",
    "                      sm_formulae = 'SC', z = 0.5,cosmo = {'baryonic_effects':False,'omega_n_0':0.,'N_nu':0,'omega_M_0':0.3, 'omega_b_0': 0.004,'sigma_8' : 0.8, 'omega_lambda_0':1-0.3, 'omega_k_0':0.0, 'h':0.72, 'n' :0.92},\n",
    "                     expansion = False,xx=1):\n",
    "    '''\n",
    "    It computes the smoothed (by a top-hat filter) 3rd moments of the density field given the\n",
    "    3D power spectrum at fixed z. (l=k/chi(z)). It implements small-scales fitting formulae\n",
    "    '''\n",
    "    \n",
    "    d = cd.comoving_distance(z, **cosmo)\n",
    "    ell = np.arange(lmax+1)\n",
    "\n",
    "    # this should be the NL powe spectrum given as inut ***\n",
    "    Pl = cosmolopy.perturbation.power_spectrum(ell/d,z, **cosmo) \n",
    "    # NL scale:\n",
    "    l_nl = ell[(Pl*(ell/d)**3)/(2.*np.pi**2)>1][0]\n",
    "\n",
    "    ell = np.arange(lmax)\n",
    "    # PS index.\n",
    "    ns = np.diff((Pl))/Pl[:lmax]*ell\n",
    "    ns[ns != ns] = 1.\n",
    "    \n",
    "    #growth\n",
    "    Dp = cosmolopy.perturbation.fgrowth(z,cosmo['omega_M_0'])/(1.+z)\n",
    "    \n",
    "    # Initialise coefficients small-scales fitting formulae.\n",
    "    if sm_formulae == 'SC':\n",
    "        coeff = [0.25,3.5,2.,1.,2.,-0.2,1.,0.,0.]\n",
    "    elif sm_formulae == 'GM':\n",
    "        coeff = [0.484,3.740,-0.849,0.392,1.013,-0.575,0.128,-0.722,-0.926]\n",
    "    if (sm_formulae == 'NL'):\n",
    "        a = 1.;\n",
    "        b = 1.;\n",
    "        c = 1.;\n",
    "    else:\n",
    "        # transition l from linear to non linear\n",
    "        q= ell*1./l_nl*xx\n",
    "\n",
    "        a = (1. + ((cosmo['sigma_8']*Dp)**coeff[5])*(0.7*(4.-2.**ns)/(1.+2.**(2.*ns+1)))**0.5*(q*coeff[0])**(ns+coeff[1]))/(1.+(q*coeff[0])**(ns+coeff[1]))\n",
    "        b = (1. + 0.2*coeff[2]*(ns+3)*(q*coeff[6])**(ns+coeff[7]+3))/(1.+(q*coeff[6])**(ns+coeff[7]+3.5));\n",
    "        c = (1. + 4.5*coeff[3]/(1.5+(ns+3)**4)*(q*coeff[4])**(ns+3+coeff[8]))/(1+(q*coeff[4])**(ns+3.5+coeff[8]));\n",
    "        a[0] =1\n",
    "        b[0] =1\n",
    "        c[0] =1\n",
    "\n",
    "    mu = 3./7.\n",
    "    moments = []\n",
    "    ell = np.arange(lmax)\n",
    "    for i, sm in enumerate(smoothing_scales):\n",
    "        sm_rad =(sm/60.)*np.pi/180.  \n",
    "    \n",
    "    \n",
    "        A = -1./(2*np.pi*(1.-np.cos(sm_rad)))\n",
    "        B = np.sqrt(np.pi/(2.*ell+1.0))\n",
    "        B1 = np.sqrt(np.pi*(2.*ell+1.0))\n",
    "        fact = B*(scipy.special.eval_legendre(ell+1,np.cos(sm_rad))-scipy.special.eval_legendre(ell-1,np.cos(sm_rad)))*A\n",
    "        d_fact =  -B1*A*np.sin(sm_rad)*scipy.special.eval_legendre(ell,np.cos(sm_rad))\n",
    "        d_fact += A*np.pi*2*np.sin(sm_rad)*fact\n",
    "    \n",
    "    \n",
    "        moment_2d = np.sum(fact[:lmax]**2*P_lz[:lmax])\n",
    "        moment_2d_a = np.sum(a*fact[:lmax]**2*P_lz[:lmax])\n",
    "        moment_2d_b = np.sum(b*fact[:lmax]**2*P_lz[:lmax])\n",
    "        moment_2d_c = np.sum(c*fact[:lmax]**2*P_lz[:lmax])\n",
    "    \n",
    "    \n",
    "        try:\n",
    "            moment_2d_masked = np.sum(fact[:lmax]**2*P_lz_masked[:lmax])\n",
    "    \n",
    "        except:\n",
    "            moment_2d_masked = np.sum(fact[:lmax]**2*P_lz[:lmax])\n",
    "    \n",
    "        dvL_dlnR = sm_rad*np.sum(b*fact*d_fact*P_lz[:lmax])\n",
    "        dlnvL_dlnR = dvL_dlnR/moment_2d_b\n",
    "    \n",
    "    \n",
    "        m3 = 6*moment_2d_masked**2 * (0.5*(2*mu*moment_2d_a**2+(1.-mu)*moment_2d_c**2)+moment_2d_b**2*0.25*dlnvL_dlnR)/(moment_2d**2)\n",
    "        if not expansion:\n",
    "            moments.append(m3)   \n",
    "        else:\n",
    "        \n",
    "            #'''\n",
    "            #https://arxiv.org/pdf/astro-ph/9903486.pdf\n",
    "            # There's one integral that in my paper which is actually approximated . /int dphi W const.. Here's the exact solution\n",
    "            #fact_sp = copy.copy(fact[:lmax])\n",
    "    \n",
    "            \n",
    "            moment2_2d_a_sp = 0.\n",
    "            moment2_2d_b_sp = 0.\n",
    "            moment2_2d_c_sp = 0.\n",
    "    \n",
    "             # first 2*3+1 bessel functions. (only the first two matters..)\n",
    "            for ii in range(0,3):\n",
    "                fact_sp = ((2.*ell+1)*scipy.special.jv(1,sm_rad*ell)*scipy.special.jv(2*ii+1,sm_rad*ell)/(sm_rad*ell)**2/(np.pi))\n",
    "                if ii == 0:\n",
    "                    fact_sp = copy.copy(fact**2)\n",
    "                else:\n",
    "                    fact_sp[0] = 0.\n",
    "                moment2_2d_a_sp += (2*ii+1)*np.sum(a*fact_sp[:lmax]*P_lz[:lmax])**2\n",
    "                moment2_2d_b_sp += (2*ii+1)*np.sum(b*fact_sp[:lmax]*P_lz[:lmax])**2\n",
    "                moment2_2d_c_sp += (2*ii+1)*np.sum(c*fact_sp[:lmax]*P_lz[:lmax])**2\n",
    "           \n",
    "            m3 = moment_2d_masked**2 * 3*(2*moment_2d_b**2-(1.-mu)*moment_2d_c**2+\n",
    "            2*mu*moment2_2d_a_sp-2*moment2_2d_b_sp+\n",
    "            2*(1.-mu)*moment2_2d_c_sp+moment_2d_b**2*0.5*dlnvL_dlnR)/(moment_2d**2)\n",
    "            moments.append(m3)     \n",
    "    return np.array(moments)"
   ]
  },
  {
   "cell_type": "code",
   "execution_count": 19,
   "metadata": {},
   "outputs": [
    {
     "name": "stderr",
     "output_type": "stream",
     "text": [
      "/global/homes/m/mgatti/.conda/envs/py3s/lib/python3.6/site-packages/numpy/lib/function_base.py:2167: RuntimeWarning: overflow encountered in ? (vectorized)\n",
      "  outputs = ufunc(*inputs)\n",
      "/global/homes/m/mgatti/.conda/envs/py3s/lib/python3.6/site-packages/numpy/lib/function_base.py:2167: RuntimeWarning: divide by zero encountered in ? (vectorized)\n",
      "  outputs = ufunc(*inputs)\n",
      "/global/homes/m/mgatti/.conda/envs/py3s/lib/python3.6/site-packages/ipykernel_launcher.py:43: RuntimeWarning: divide by zero encountered in true_divide\n",
      "/global/homes/m/mgatti/.conda/envs/py3s/lib/python3.6/site-packages/ipykernel_launcher.py:43: RuntimeWarning: invalid value encountered in multiply\n"
     ]
    }
   ],
   "source": [
    "m2_k = compute_masked_2m(Cl_k, conf['smoothing_scales'], lmax = 2048)\n",
    "Cl_k_masked = np.matmul(Cl_k[:2048],np.array(matrix['ME']).reshape(2048,2048).T)\n",
    "m2_k_masked = compute_masked_2m(Cl_k_masked, conf['smoothing_scales'], lmax = 2048)\n",
    "\n",
    "\n",
    "m2 = compute_masked_2m(Cl_d, conf['smoothing_scales'], lmax = 2048)\n",
    "m3 = compute_masked_3m(Cl_d, conf['smoothing_scales'], lmax = 2048, z = 0.5,sm_formulae = 'GM')\n",
    "\n",
    "Cl_d_masked = np.matmul(Cl_d[:2048],np.array(matrix['Mgg']).reshape(2048,2048).T)\n",
    "m2_masked = compute_masked_2m(Cl_d_masked, conf['smoothing_scales'], lmax = 2048)\n",
    "m3_masked = 1./f_sky*compute_masked_3m(Cl_d, conf['smoothing_scales'],P_lz_masked = Cl_d_masked, lmax = 2048, sm_formulae = 'GM')\n",
    "\n",
    "Cl_d_masked = np.matmul(Cl_d[:2048],np.array(matrix['ME']).reshape(2048,2048).T)\n",
    "m3_maskedE = 1./f_sky*compute_masked_3m(Cl_d, conf['smoothing_scales'],P_lz_masked = Cl_d_masked, lmax = 2048, sm_formulae = 'GM')\n"
   ]
  },
  {
   "cell_type": "code",
   "execution_count": 20,
   "metadata": {},
   "outputs": [
    {
     "data": {
      "text/plain": [
       "<matplotlib.legend.Legend at 0x2aaaf9f98320>"
      ]
     },
     "execution_count": 20,
     "metadata": {},
     "output_type": "execute_result"
    },
    {
     "data": {
      "image/png": "[encoded data removed]",
      "text/plain": [
       "<Figure size 432x216 with 2 Axes>"
      ]
     },
     "metadata": {
      "needs_background": "light"
     },
     "output_type": "display_data"
    }
   ],
   "source": [
    "fig, ax = plt.subplots(1,2, figsize=(6,3),sharey = True)\n",
    "\n",
    "plt.suptitle('measured full/partial sky vs f_sky.')\n",
    "ax[0].plot(mcal_moments.moments['kEkE_masked']['0_0']/mcal_moments.moments['kEkE']['0_0'],color='r')\n",
    "ax[0].plot(mcal_moments.moments['dd_masked']['0_0']/mcal_moments.moments['dd']['0_0'],color='blue')\n",
    "ax[0].plot(f_sky*np.ones(len(conf['smoothing_scales'])),color='black',linestyle = 'dashed')\n",
    "ax[0].plot(m2_masked/m2, label='density mask theory',color='g')\n",
    "\n",
    "\n",
    "ax[0].plot(m2_k_masked/m2_k,color='r',linestyle='dashed')\n",
    "ax[1].plot(m3_maskedE/m3,color='r',linestyle='dashed')\n",
    "\n",
    "\n",
    "\n",
    "ax[1].plot(mcal_moments.moments['kEkE_masked']['0_0_0']/mcal_moments.moments['kEkE']['0_0_0'], label='meas shear',color='r')\n",
    "ax[1].plot(m3_masked/m3, label='density mask theory',color='g')\n",
    "\n",
    "ax[1].plot(mcal_moments.moments['dd_masked']['0_0_0']/mcal_moments.moments['dd']['0_0_0'], label='meas density',color='blue')\n",
    "ax[1].plot(f_sky*np.ones(len(conf['smoothing_scales'])),color='black',linestyle = 'dashed', label = 'f_sky')\n",
    "ax[0].set_ylabel('2nd_moment')\n",
    "ax[1].set_ylabel('3rd_moment')\n",
    "ax[1].legend(loc='upper center', bbox_to_anchor=(-0.15, -0.3), ncol=4)\n",
    "\n",
    "# comparison with theory.\n"
   ]
  },
  {
   "cell_type": "code",
   "execution_count": 309,
   "metadata": {},
   "outputs": [
    {
     "data": {
      "text/plain": [
       "dict_keys(['field_full_kEkE', 'field_kEkE', 'density_full_kEkE', 'density_kEkE', 'density_KK_full', 'K_densitydensity_full', 'density_KK', 'K_densitydensity', 'noiseless_kEkE', 'noiseless_kBkB', 'kEkE', 'kBkB', 'kEkN', 'kNkN', 'kNBkNB', 'kNkE', 'dKK', 'Kdd', 'dkNkN', 'nKK', 'nkNkN', 'kNdd', 'knn', 'kNnn', 'dd', 'nn', 'dnn', 'ndd'])"
      ]
     },
     "execution_count": 309,
     "metadata": {},
     "output_type": "execute_result"
    }
   ],
   "source": [
    "mapp_ave.moments.keys()"
   ]
  },
  {
   "cell_type": "code",
   "execution_count": 362,
   "metadata": {},
   "outputs": [
    {
     "name": "stderr",
     "output_type": "stream",
     "text": [
      "/global/homes/m/mgatti/.conda/envs/py3s/lib/python3.6/site-packages/ipykernel_launcher.py:3: RuntimeWarning: divide by zero encountered in true_divide\n",
      "  This is separate from the ipykernel package so we can avoid doing imports until\n",
      "/global/homes/m/mgatti/.conda/envs/py3s/lib/python3.6/site-packages/ipykernel_launcher.py:11: RuntimeWarning: invalid value encountered in true_divide\n",
      "  # This is added back by InteractiveShellApp.init_path()\n"
     ]
    },
    {
     "data": {
      "text/plain": [
       "<matplotlib.legend.Legend at 0x2aaae832fdd8>"
      ]
     },
     "execution_count": 362,
     "metadata": {},
     "output_type": "execute_result"
    },
    {
     "data": {
      "image/png": "[encoded data removed]",
      "text/plain": [
       "<Figure size 432x216 with 2 Axes>"
      ]
     },
     "metadata": {
      "needs_background": "light"
     },
     "output_type": "display_data"
    }
   ],
   "source": [
    "fig, ax = plt.subplots(1,2, figsize=(6,3),sharey = True)\n",
    "\n",
    "ff  = (np.arange(2048)+2)*(np.arange(2048)-1)/(np.arange(2048)*(np.arange(2048)+1))\n",
    "\n",
    "\n",
    "\n",
    "_,Cl_pix = hp.sphtfunc.pixwin(1024,pol=True)\n",
    "_,Cl_pix_4096 = hp.sphtfunc.pixwin(4096,pol=True)\n",
    "\n",
    "\n",
    "Cl_k= mapp_ave.PS['k_1_1'][:2048]*Cl_pix[:2048]**2/Cl_pix_4096[:2048]**2\n",
    "ff[:2] =1.\n",
    "Cl_k[:2] = 0\n",
    "m2_k = compute_masked_2m(Cl_k, conf['smoothing_scales'], lmax = 2048)\n",
    "Cl_k_masked = np.matmul(Cl_k[:2048]*ff,np.array(matrix_NaMaster['ME']).reshape(2048,2048).T)\n",
    "m2_k_masked = compute_masked_2m(Cl_k_masked/ff, conf['smoothing_scales'], lmax = 2048)\n",
    "m2 = compute_masked_2m(Cl_k, conf['smoothing_scales'], lmax = 2048)\n",
    "plt.suptitle('measured full/partial sky vs f_sky.')\n",
    "ax[0].errorbar(np.arange(len(m2)),(mapp_ave.moments['noiseless_kEkE']['0_0'])/(m2_k_masked),err2['noiseless_kEkE_0_0']/np.sqrt(100.)/m2_k_masked,color='b', label = 'measured vs theo')\n",
    "ax[0].plot(((m2)/m2_k_masked)/((mapp_ave.moments['field_full_kEkE']['0_0'])/(mapp_ave.moments['field_kEkE']['0_0'])),color='r')\n",
    "\n",
    "\n",
    "Cl_k_masked = np.matmul(Cl_k[:2048]*ff,np.array(matrix_NaMaster1['ME']).reshape(2048,2048).T)\n",
    "m2_k_masked = compute_masked_2m(Cl_k_masked/ff, conf['smoothing_scales'], lmax = 2048)\n",
    "m2 = compute_masked_2m(Cl_k, conf['smoothing_scales'], lmax = 2048)\n",
    "plt.suptitle('measured full/partial sky vs f_sky.')\n",
    "ax[1].errorbar(np.arange(len(m2)),(mapp_ave.moments['noiseless_kEkE']['0_0'])/(m2_k_masked),err2['noiseless_kEkE_0_0']/np.sqrt(100.)/m2_k_masked,color='b', label = 'measured vs theo')\n",
    "ax[1].plot(((m2)/m2_k_masked)/((mapp_ave.moments['field_full_kEkE']['0_0'])/(mapp_ave.moments['field_kEkE']['0_0'])),color='r')\n",
    "\n",
    "plt.legend()"
   ]
  },
  {
   "cell_type": "markdown",
   "metadata": {},
   "source": [
    "# err2"
   ]
  },
  {
   "cell_type": "code",
   "execution_count": 359,
   "metadata": {},
   "outputs": [
    {
     "data": {
      "text/plain": [
       "<matplotlib.legend.Legend at 0x2aaae8249c50>"
      ]
     },
     "execution_count": 359,
     "metadata": {},
     "output_type": "execute_result"
    },
    {
     "data": {
      "image/png": "[encoded data removed]",
      "text/plain": [
       "<Figure size 432x216 with 2 Axes>"
      ]
     },
     "metadata": {
      "needs_background": "light"
     },
     "output_type": "display_data"
    }
   ],
   "source": [
    "Cl_pix = hp.sphtfunc.pixwin(1024,pol=False)\n",
    "Cl_pix_4096 = hp.sphtfunc.pixwin(4096,pol=False)\n",
    "\n",
    "fig, ax = plt.subplots(1,2, figsize=(6,3),sharey = True)\n",
    "\n",
    "Cl_k= mapp_ave.PS['lens_1_1'][:2048]*Cl_pix[:2048]**2/Cl_pix_4096[:2048]**2\n",
    "\n",
    "\n",
    "#Cl_k = Cl_d_T17\n",
    "Cl_k[:2] = 0\n",
    "m2_k = compute_masked_2m(Cl_k, conf['smoothing_scales'], lmax = 2048)\n",
    "Cl_k_masked = np.matmul(Cl_k[:2048],np.array(matrix_NaMaster['Mgg']).reshape(2048,2048).T)\n",
    "m2_k_masked = compute_masked_2m(Cl_k_masked, conf['smoothing_scales'], lmax = 2048)\n",
    "m2 = compute_masked_2m(Cl_k, conf['smoothing_scales'])\n",
    "\n",
    "plt.suptitle('measured full/partial sky vs f_sky.')\n",
    "\n",
    "# this doesn't have additional pixel mask. maybe just some shot noise that needs to be subtracted.\n",
    "#ax[0].plot((mapp_ave.moments['density_kEkE']['0_0'])/(m2_k_masked),color='b', label = 'measured (density) vs theo')\n",
    "ax[0].plot((mapp_ave.moments['dd']['0_0'])/(m2_k_masked),color='b', label = 'measured (gg) vs theo')\n",
    "ax[0].plot(((m2)/m2_k_masked)/((mapp_ave.moments['density_full_kEkE']['0_0'])/(mapp_ave.moments['density_kEkE']['0_0'])),color='r')\n",
    "ax[0].legend()\n",
    "\n",
    "\n",
    "\n",
    "Cl_k_masked = np.matmul(Cl_k[:2048],np.array(matrix_NaMaster1['Mgg']).reshape(2048,2048).T)\n",
    "m2_k_masked = compute_masked_2m(Cl_k_masked, conf['smoothing_scales'], lmax = 2048)\n",
    "m2 = compute_masked_2m(Cl_k, conf['smoothing_scales'])\n",
    "\n",
    "plt.suptitle('measured full/partial sky vs f_sky.')\n",
    "\n",
    "# this doesn't have additional pixel mask. maybe just some shot noise that needs to be subtracted.\n",
    "#ax[0].plot((mapp_ave.moments['density_kEkE']['0_0'])/(m2_k_masked),color='b', label = 'measured (density) vs theo')\n",
    "ax[1].plot((mapp_ave.moments['dd']['0_0'])/(m2_k_masked),color='b', label = 'measured (gg) vs theo')\n",
    "ax[1].plot(((m2)/m2_k_masked)/((mapp_ave.moments['density_full_kEkE']['0_0'])/(mapp_ave.moments['density_kEkE']['0_0'])),color='r')\n",
    "ax[1].legend()"
   ]
  },
  {
   "cell_type": "code",
   "execution_count": 168,
   "metadata": {},
   "outputs": [
    {
     "data": {
      "image/png": "[encoded data removed]",
      "text/plain": [
       "<Figure size 288x180 with 1 Axes>"
      ]
     },
     "metadata": {
      "needs_background": "light"
     },
     "output_type": "display_data"
    }
   ],
   "source": [
    "fig, ax = plt.subplots(1,1, figsize=(4,2.5))\n",
    "\n",
    "\n",
    "plt.plot(conf['smoothing_scales'],m2_k_masked*conf['smoothing_scales'])\n",
    "plt.errorbar(conf['smoothing_scales'],mapp_ave.moments['dd']['0_0']*conf['smoothing_scales'],err2['dd_0_0']*conf['smoothing_scales'])\n",
    "\n",
    "ax.set_xscale('log')"
   ]
  },
  {
   "cell_type": "code",
   "execution_count": 252,
   "metadata": {},
   "outputs": [
    {
     "data": {
      "image/png": "[encoded data removed]",
      "text/plain": [
       "<Figure size 288x180 with 1 Axes>"
      ]
     },
     "metadata": {
      "needs_background": "light"
     },
     "output_type": "display_data"
    }
   ],
   "source": [
    "fig, ax = plt.subplots(1,1, figsize=(4,2.5))\n",
    "\n",
    "\n",
    "plt.plot(conf['smoothing_scales'],m3*conf['smoothing_scales']**2,label = 'theo')\n",
    "#plt.errorbar(conf['smoothing_scales'],mapp_ave.moments['density_full_kEkE']['0_0_0']*conf['smoothing_scales']**2,err2['dd_0_0_0']*conf['smoothing_scales']**2)\n",
    "plt.plot(conf['smoothing_scales'],mcal_moments.moments['dd']['0_0_0']*conf['smoothing_scales']**2)\n",
    "plt.legend()\n",
    "\n",
    "ax.set_xscale('log')"
   ]
  },
  {
   "cell_type": "code",
   "execution_count": 268,
   "metadata": {},
   "outputs": [
    {
     "name": "stderr",
     "output_type": "stream",
     "text": [
      "/global/homes/m/mgatti/.conda/envs/py3s/lib/python3.6/site-packages/numpy/lib/function_base.py:2167: RuntimeWarning: overflow encountered in ? (vectorized)\n",
      "  outputs = ufunc(*inputs)\n",
      "/global/homes/m/mgatti/.conda/envs/py3s/lib/python3.6/site-packages/numpy/lib/function_base.py:2167: RuntimeWarning: divide by zero encountered in ? (vectorized)\n",
      "  outputs = ufunc(*inputs)\n",
      "/global/homes/m/mgatti/.conda/envs/py3s/lib/python3.6/site-packages/ipykernel_launcher.py:43: RuntimeWarning: divide by zero encountered in true_divide\n",
      "/global/homes/m/mgatti/.conda/envs/py3s/lib/python3.6/site-packages/ipykernel_launcher.py:43: RuntimeWarning: invalid value encountered in multiply\n"
     ]
    },
    {
     "data": {
      "image/png": "[encoded data removed]",
      "text/plain": [
       "<Figure size 288x180 with 1 Axes>"
      ]
     },
     "metadata": {
      "needs_background": "light"
     },
     "output_type": "display_data"
    }
   ],
   "source": [
    "fig, ax = plt.subplots(1,1, figsize=(4,2.5))\n",
    "m3_maskedE = 1./f_sky*compute_masked_3m(Cl_k, conf['smoothing_scales'],P_lz_masked = Cl_k_masked, lmax = 2048, sm_formulae = 'SC',xx=0.001)\n",
    "\n",
    "\n",
    "#plt.plot(conf['smoothing_scales'],m3*conf['smoothing_scales']**2,label = 'theo')\n",
    "plt.plot(conf['smoothing_scales'],m3_maskedE*conf['smoothing_scales']**2,label = 'theo')\n",
    "plt.errorbar(conf['smoothing_scales'],mapp_ave.moments['density_kEkE']['0_0_0']*conf['smoothing_scales']**2,err2['dd_0_0_0']*conf['smoothing_scales']**2)\n",
    "#plt.plot(conf['smoothing_scales'],mcal_moments.moments['dd']['0_0_0']*conf['smoothing_scales']**2)\n",
    "plt.legend()\n",
    "\n",
    "ax.set_xscale('log')"
   ]
  },
  {
   "cell_type": "code",
   "execution_count": 263,
   "metadata": {},
   "outputs": [
    {
     "name": "stderr",
     "output_type": "stream",
     "text": [
      "/global/homes/m/mgatti/.conda/envs/py3s/lib/python3.6/site-packages/ipykernel_launcher.py:1: RuntimeWarning: divide by zero encountered in true_divide\n",
      "  \"\"\"Entry point for launching an IPython kernel.\n",
      "/global/homes/m/mgatti/.conda/envs/py3s/lib/python3.6/site-packages/ipykernel_launcher.py:1: RuntimeWarning: invalid value encountered in multiply\n",
      "  \"\"\"Entry point for launching an IPython kernel.\n",
      "/global/homes/m/mgatti/.conda/envs/py3s/lib/python3.6/site-packages/numpy/lib/function_base.py:2167: RuntimeWarning: overflow encountered in ? (vectorized)\n",
      "  outputs = ufunc(*inputs)\n",
      "/global/homes/m/mgatti/.conda/envs/py3s/lib/python3.6/site-packages/numpy/lib/function_base.py:2167: RuntimeWarning: divide by zero encountered in ? (vectorized)\n",
      "  outputs = ufunc(*inputs)\n",
      "/global/homes/m/mgatti/.conda/envs/py3s/lib/python3.6/site-packages/ipykernel_launcher.py:43: RuntimeWarning: divide by zero encountered in true_divide\n",
      "/global/homes/m/mgatti/.conda/envs/py3s/lib/python3.6/site-packages/ipykernel_launcher.py:43: RuntimeWarning: invalid value encountered in multiply\n"
     ]
    }
   ],
   "source": []
  },
  {
   "cell_type": "markdown",
   "metadata": {},
   "source": [
    "# test masked theory"
   ]
  },
  {
   "cell_type": "code",
   "execution_count": 19,
   "metadata": {},
   "outputs": [],
   "source": []
  },
  {
   "cell_type": "code",
   "execution_count": null,
   "metadata": {},
   "outputs": [],
   "source": [
    "# theory comparison!\n",
    "m2 = compute_masked_2m(Cl_d, conf['smoothing_scales'], lmax = 2048)\n",
    "m3 = compute_masked_3m(Cl_d, conf['smoothing_scales'], lmax = 2048, sm_formulae = 'GM')\n",
    "\n",
    "Cl_d_masked = np.matmul(Cl_d[:2048],np.array(matrix['Mgg']).reshape(2048,2048).T)\n",
    "\n",
    "m2_masked = compute_masked_2m(Cl_d_masked, conf['smoothing_scales'], lmax = 2048)\n",
    "m3_masked = compute_masked_3m(Cl_d, conf['smoothing_scales'],P_lz_masked = Cl_d_masked/f_sky, lmax = 2048, sm_formulae = 'GM')\n",
    "\n",
    "fig, ax = plt.subplots(1,2, figsize=(5,2))\n",
    "ax[0].plot(mcal_moments.moments['dd']['0_0']/m2)\n",
    "ax[1].plot(mcal_moments.moments['dd']['0_0_0']/m3)\n",
    "#ax[1].plot(m3)\n",
    "\n",
    "mcal_moments.moments['dd']['0_0_0']/m3"
   ]
  },
  {
   "cell_type": "code",
   "execution_count": 418,
   "metadata": {},
   "outputs": [
    {
     "data": {
      "image/png": "[encoded data removed]",
      "text/plain": [
       "<Figure size 360x144 with 2 Axes>"
      ]
     },
     "metadata": {
      "needs_background": "light"
     },
     "output_type": "display_data"
    },
    {
     "data": {
      "text/plain": [
       "(0.8, 1.2)"
      ]
     },
     "execution_count": 418,
     "metadata": {},
     "output_type": "execute_result"
    },
    {
     "data": {
      "image/png": "[encoded data removed]",
      "text/plain": [
       "<Figure size 360x144 with 2 Axes>"
      ]
     },
     "metadata": {
      "needs_background": "light"
     },
     "output_type": "display_data"
    }
   ],
   "source": [
    "Cl_k_masked = np.matmul(Cl_k[:2048],np.array(matrix['ME']).reshape(2048,2048).T)\n",
    "#Cl_k_masked = np.matmul(MEE[:2048,:][:,:2048],Cl_k[:2048])\n",
    "\n",
    "\n",
    "m2 = compute_masked_2m(Cl_k, conf['smoothing_scales'], lmax = 2048)\n",
    "m2_masked = compute_masked_2m(Cl_k_masked, conf['smoothing_scales'], lmax = 2048)\n",
    "\n",
    "fig, ax = plt.subplots(1,2, figsize=(5,2))\n",
    "ax[0].plot(mcal_moments.moments['kEkE']['0_0']/m2)\n",
    "ax[1].plot(mcal_moments.moments['kEkE_masked']['0_0']/m2_masked)\n",
    "ax[0].set_ylim([0.8,1.2])\n",
    "ax[1].set_ylim([0.8,1.2])\n",
    "plt.show()\n",
    "\n",
    "Cl_d_masked_th = np.matmul(np.array(matrix['Mgg']).reshape(2048,2048),Cl_d[:2048])\n",
    "#Cl_d_masked_th = np.matmul(Mgg[:2048,:][:,:2048],Cl_d[:2048])\n",
    "m2 = compute_masked_2m(Cl_d, conf['smoothing_scales'], lmax = 2048)\n",
    "m2_masked = compute_masked_2m(Cl_d_masked_th, conf['smoothing_scales'], lmax = 2048)\n",
    "\n",
    "fig, ax = plt.subplots(1,2, figsize=(5,2))\n",
    "ax[0].plot(mcal_moments.moments['dd']['0_0']/m2)\n",
    "ax[1].plot(mcal_moments.moments['dd_masked']['0_0']/m2_masked)\n",
    "\n",
    "\n",
    "ax[1].plot(mcal_moments.moments['dd_masked']['0_0']/f_sky/mcal_moments.moments['dd']['0_0'])\n",
    "\n",
    "ax[0].set_ylim([0.8,1.2])\n",
    "ax[1].set_ylim([0.8,1.2])\n",
    "#\n"
   ]
  },
  {
   "cell_type": "markdown",
   "metadata": {},
   "source": [
    "# test extra information in FLASK 4096 maps"
   ]
  },
  {
   "cell_type": "code",
   "execution_count": null,
   "metadata": {},
   "outputs": [
    {
     "name": "stdout",
     "output_type": "stream",
     "text": [
      "1024\n",
      "4096\n"
     ]
    }
   ],
   "source": [
    "%matplotlib inline\n",
    "import matplotlib.pyplot as plt\n",
    "import healpy as hp\n",
    "import numpy as np\n",
    "import pyfits as pf\n",
    "mute = pf.open('/global/cscratch1/sd/mgatti/Mass_Mapping/taka/maps_0/k_1024_10.fits')\n",
    "k = mute[1].data['field']\n",
    "mute = pf.open('/global/cscratch1/sd/mgatti/Mass_Mapping/taka/maps_0/k_4096_10.fits')\n",
    "k_4096 = mute[1].data['field']\n",
    "\n",
    "# compute Cl\n",
    "print (1024)\n",
    "Cl_k = hp.anafast(k)\n",
    "print (4096)\n",
    "Cl_k_4096 = hp.anafast(k_4096)\n",
    "\n",
    "print('done')\n",
    "conf = dict()\n",
    "conf['smoothing_scales'] = np.array([3.2,5.1,8.2,13.1,21.0,33.6,54.,86.,138,221.]) # arcmin\n",
    "_,Cl_pix = hp.sphtfunc.pixwin(1024,pol=True)\n",
    "\n",
    "m2 = compute_masked_2m(Cl_k, conf['smoothing_scales'], lmax = 2048)\n",
    "m2_4096_2048 = compute_masked_2m(Cl_k_4096[:len(Cl_pix)]*Cl_pix**2, conf['smoothing_scales'], lmax = 2048)\n",
    "m2_4096 = compute_masked_2m(Cl_k_4096[:len(Cl_pix)]*Cl_pix**2, conf['smoothing_scales'], lmax = 3072)\n",
    "\n",
    "\n",
    "plt.plot(conf['smoothing_scales'],m2_4096/m2_4096_2048,label = 'lmax cut')\n",
    "plt.plot(conf['smoothing_scales'],m2_4096_2048/m2, label ='ud_grade')\n",
    "plt.legend()\n",
    "plt.xscale('log', nonposx='clip')\n",
    "\n",
    "'''\n",
    "caveat: \n",
    "ud_grade : 4096 should be deconvolved by pix functionat nside = 4096.\n",
    "lmax_cut: in principle, we cut that bit during the KS process, so it should'nt really be important\n",
    "\n",
    "'''"
   ]
  },
  {
   "cell_type": "code",
   "execution_count": 111,
   "metadata": {},
   "outputs": [
    {
     "data": {
      "text/plain": [
       "1"
      ]
     },
     "execution_count": 111,
     "metadata": {},
     "output_type": "execute_result"
    }
   ],
   "source": [
    "1"
   ]
  },
  {
   "cell_type": "code",
   "execution_count": null,
   "metadata": {},
   "outputs": [],
   "source": [
    "IndexToDeclRa(index, nside,nest= False):\n",
    "theta,phi=hp.pixelfunc.pix2ang(nside ,index,nest=nest)\n",
    "return -np.degrees(theta-np.pi/2.),np.degrees(phi)"
   ]
  },
  {
   "cell_type": "code",
   "execution_count": 109,
   "metadata": {},
   "outputs": [],
   "source": [
    "'''\n",
    "Need to compare four cases\n",
    "1) uniform distribution across the footprint\n",
    "2) not uniform distribution\n",
    "3) impact of weights\n",
    "4) de-noise\n",
    "\n",
    "'''\n",
    "\n",
    "\n",
    "import gc\n",
    "import pyfits as pf\n",
    "import pickle\n",
    "import numpy as np\n",
    "import healpy as hp\n",
    "import os\n",
    "from Moments_analysis import convert_to_pix_coord, IndexToDeclRa, apply_random_rotation, addSourceEllipticity\n",
    "def save_obj(name, obj):\n",
    "    with open(name + '.pkl', 'wb') as f:\n",
    "        pickle.dump(obj, f, pickle.HIGHEST_PROTOCOL)\n",
    "        f.close()\n",
    "\n",
    "def load_obj(name):\n",
    "    with open(name + '.pkl', 'rb') as f:\n",
    "        mute =  pickle.load(f)\n",
    "        f.close()\n",
    "    return mute\n",
    "\n"
   ]
  },
  {
   "cell_type": "code",
   "execution_count": 110,
   "metadata": {},
   "outputs": [],
   "source": [
    "\n",
    "\n",
    "seed = 1\n",
    "\n",
    "FLASK_path = '/global/cscratch1/sd/faoli/flask_desy3/4096/'\n",
    "output = '/global/cscratch1/sd/mgatti/Mass_Mapping/moments/flask/'\n",
    "mcal_catalog = load_obj('/project/projectdirs/des/mass_maps/Maps_final/data_catalogs_weighted')\n",
    "    \n",
    "i = 0 # first tomo bin\n",
    "FLASK_shear = pf.open(FLASK_path+'seed'+str(seed+1)+'/kappa-gamma-f10z'+str(i+1)+'.fits')\n",
    "k = FLASK_shear[1].data['signal'].reshape(196608*1024)\n",
    "g1 = FLASK_shear[1].data['Q-pol'].reshape(196608*1024)\n",
    "g2 = FLASK_shear[1].data['U-pol'].reshape(196608*1024)\n",
    "del FLASK_shear\n",
    "\n",
    "# pixels & random pixels **********\n",
    "dec1 = mcal_catalog[i]['dec']\n",
    "ra1 = mcal_catalog[i]['ra']\n",
    "w = mcal_catalog[i]['w']\n",
    "pix = convert_to_pix_coord(ra1,dec1, nside=4096)"
   ]
  },
  {
   "cell_type": "code",
   "execution_count": 112,
   "metadata": {},
   "outputs": [
    {
     "data": {
      "text/plain": [
       "array([100149233, 100149233, 100149233, ..., 103848030, 103831646,\n",
       "       103831647])"
      ]
     },
     "execution_count": 112,
     "metadata": {},
     "output_type": "execute_result"
    }
   ],
   "source": [
    "g1_1024 = hp.alm2map(hp.map2alm(g1,lmax = 2048),nside = 1024)"
   ]
  },
  {
   "cell_type": "code",
   "execution_count": 16,
   "metadata": {},
   "outputs": [],
   "source": [
    "\n",
    "\n",
    "nside = 1024\n",
    "pix_1024 = convert_to_pix_coord(ra1,dec1, nside=nside)\n",
    "\n",
    "index_pix_rndm = np.random.randint(0,len(np.unique(pix)),len(pix))  \n",
    "pix_rndm = np.unique(pix)[index_pix_rndm]\n",
    "dec1_rndm, ra1_rndm = IndexToDeclRa(pix_rndm, 4096,nest= False)\n",
    "pix_rndm_1024 = convert_to_pix_coord(ra1_rndm,dec1_rndm, nside=nside)\n",
    "\n",
    "\n",
    "g1_y3 = g1[pix]\n",
    "g2_y3 = g2[pix]\n",
    "g1_rndm = g1[pix_rndm]\n",
    "g2_rndm = g2[pix_rndm]\n",
    "\n",
    "\n",
    "es1,es2 = apply_random_rotation(mcal_catalog[i]['e1'], mcal_catalog[i]['e2'])\n",
    "e1_y3,e2_y3 = addSourceEllipticity({'shear1':g1_y3,'shear2':g2_y3},{'e1':es1,'e2':es2},es_colnames=(\"e1\",\"e2\"))\n",
    "e1_y3_rndm,e2_y3_rndm = addSourceEllipticity({'shear1':g1_rndm,'shear2':g2_rndm},{'e1':es1,'e2':es2},es_colnames=(\"e1\",\"e2\"))\n",
    "         \n",
    "# repeat the rotation such that we have a different noise realisation for the noise map.\n",
    "es1,es2 = apply_random_rotation(mcal_catalog[i]['e1'], mcal_catalog[i]['e2'])\n",
    "        \n",
    "    \n",
    "\n",
    "k_orig = np.zeros(hp.nside2npix(nside))\n",
    "n_map = np.zeros(hp.nside2npix(nside))\n",
    "n_map_unif = np.zeros(hp.nside2npix(nside))\n",
    "\n",
    "g1_map = np.zeros(hp.nside2npix(nside))\n",
    "g2_map = np.zeros(hp.nside2npix(nside))\n",
    "g1_map_unif = np.zeros(hp.nside2npix(nside))\n",
    "g2_map_unif = np.zeros(hp.nside2npix(nside))\n",
    "e1_map = np.zeros(hp.nside2npix(nside))\n",
    "e2_map = np.zeros(hp.nside2npix(nside))\n",
    "e1_map_unif = np.zeros(hp.nside2npix(nside))\n",
    "e2_map_unif = np.zeros(hp.nside2npix(nside))\n",
    "       \n",
    "e1_noise_map = np.zeros(hp.nside2npix(nside))\n",
    "e2_noise_map = np.zeros(hp.nside2npix(nside))\n",
    "e1_noise_map_unif = np.zeros(hp.nside2npix(nside))\n",
    "e2_noise_map_unif = np.zeros(hp.nside2npix(nside))\n",
    "  \n",
    "unique_pix, idx, idx_rep = np.unique(pix_1024, return_index=True, return_inverse=True)\n",
    "n_map[unique_pix] += np.bincount(idx_rep, weights=np.ones(len(pix_1024)))\n",
    "g1_map[unique_pix] += np.bincount(idx_rep, weights= g1_y3)\n",
    "g2_map[unique_pix] += np.bincount(idx_rep, weights= g2_y3)\n",
    "e1_map[unique_pix] += np.bincount(idx_rep, weights= e1_y3)\n",
    "e2_map[unique_pix] += np.bincount(idx_rep, weights= e2_y3)\n",
    "e1_noise_map[unique_pix] += np.bincount(idx_rep, weights= es1)\n",
    "e2_noise_map[unique_pix] += np.bincount(idx_rep, weights= es2)\n",
    "mask_sims = n_map != 0.\n",
    "g1_map[mask_sims] = g1_map[mask_sims]/n_map[mask_sims]\n",
    "g2_map[mask_sims] = g2_map[mask_sims]/n_map[mask_sims]\n",
    "e1_map[mask_sims] = e1_map[mask_sims]/n_map[mask_sims]\n",
    "e2_map[mask_sims] = e2_map[mask_sims]/n_map[mask_sims]\n",
    "e1_noise_map[mask_sims] = e1_noise_map[mask_sims]/n_map[mask_sims]\n",
    "e2_noise_map[mask_sims] = e2_noise_map[mask_sims]/n_map[mask_sims]\n",
    "\n",
    "\n",
    "unique_pix, idx, idx_rep = np.unique(pix_rndm_1024, return_index=True, return_inverse=True)\n",
    "n_map_unif[unique_pix] += np.bincount(idx_rep, weights=np.ones(len(pix_rndm_1024)))\n",
    "g1_map_unif[unique_pix] += np.bincount(idx_rep, weights= g1_y3)\n",
    "g2_map_unif[unique_pix] += np.bincount(idx_rep, weights= g2_y3)\n",
    "e1_map_unif[unique_pix] += np.bincount(idx_rep, weights= e1_y3)\n",
    "e2_map_unif[unique_pix] += np.bincount(idx_rep, weights= e2_y3)\n",
    "e1_noise_map_unif[unique_pix] += np.bincount(idx_rep, weights= es1)\n",
    "e2_noise_map_unif[unique_pix] += np.bincount(idx_rep, weights= es2)\n",
    "\n",
    "mask_sims = n_map_unif != 0.\n",
    "g1_map_unif[mask_sims] = g1_map_unif[mask_sims]/n_map_unif[mask_sims]\n",
    "g2_map_unif[mask_sims] = g2_map_unif[mask_sims]/n_map_unif[mask_sims]\n",
    "e1_map_unif[mask_sims] = e1_map_unif[mask_sims]/n_map_unif[mask_sims]\n",
    "e2_map_unif[mask_sims] = e2_map_unif[mask_sims]/n_map_unif[mask_sims]\n",
    "e1_noise_map_unif[mask_sims] = e1_noise_map_unif[mask_sims]/n_map_unif[mask_sims]\n",
    "e2_noise_map_unif[mask_sims] = e2_noise_map_unif[mask_sims]/n_map_unif[mask_sims]\n"
   ]
  },
  {
   "cell_type": "code",
   "execution_count": 39,
   "metadata": {},
   "outputs": [
    {
     "data": {
      "image/png": "[encoded data removed]",
      "text/plain": [
       "<Figure size 612x388.8 with 2 Axes>"
      ]
     },
     "metadata": {
      "needs_background": "light"
     },
     "output_type": "display_data"
    }
   ],
   "source": [
    "hp.mollview(g1_map_unif-g1_map)"
   ]
  },
  {
   "cell_type": "code",
   "execution_count": 32,
   "metadata": {},
   "outputs": [
    {
     "name": "stderr",
     "output_type": "stream",
     "text": [
      "/global/homes/m/mgatti/.conda/envs/py3s/lib/python3.6/site-packages/ipykernel_launcher.py:7: RuntimeWarning: divide by zero encountered in true_divide\n",
      "  import sys\n",
      "/global/homes/m/mgatti/.conda/envs/py3s/lib/python3.6/site-packages/ipykernel_launcher.py:7: RuntimeWarning: invalid value encountered in multiply\n",
      "  import sys\n"
     ]
    }
   ],
   "source": [
    "# measure convergence field\n",
    "def return_Cl(shear1,shear2):\n",
    "    lmax = 2*nside\n",
    "    KQU_masked_maps = [shear1,shear1,shear2]\n",
    "    ell, emm = hp.Alm.getlm(lmax=lmax)\n",
    "    alms = hp.map2alm(KQU_masked_maps, lmax=lmax, pol=True)  # Spin transform!\n",
    "    alms_E = alms[1] * 1. * ((ell * (ell + 1.)) / ((ell + 2.) * (ell - 1))) ** 0.5\n",
    "    return hp.alm2cl(alms_E,lmax=lmax )\n",
    "    \n",
    "Cl_uniform = return_Cl(g1_map_unif,g2_map_unif)\n",
    "Cl = return_Cl(g1_map,g2_map)\n",
    "\n",
    "Cl_e_uniform = return_Cl(e1_map_unif,e2_map_unif)\n",
    "Cl_e = return_Cl(e1_map,e2_map)\n",
    "\n",
    "Cl_n_uniform = return_Cl(e1_noise_map_unif,e2_noise_map_unif)\n",
    "Cl_n = return_Cl(e1_noise_map,e2_noise_map)"
   ]
  },
  {
   "cell_type": "code",
   "execution_count": 46,
   "metadata": {},
   "outputs": [
    {
     "data": {
      "text/plain": [
       "[<matplotlib.lines.Line2D at 0x2aaae690bef0>]"
      ]
     },
     "execution_count": 46,
     "metadata": {},
     "output_type": "execute_result"
    },
    {
     "data": {
      "image/png": "[encoded data removed]",
      "text/plain": [
       "<Figure size 432x288 with 1 Axes>"
      ]
     },
     "metadata": {
      "needs_background": "light"
     },
     "output_type": "display_data"
    }
   ],
   "source": [
    "#plt.plot((Cl_e[3:]-Cl_n[3:])*np.arange(len(Cl_uniform[3:])))\n",
    "plt.plot(Cl_uniform[3:]*np.arange(len(Cl_uniform[3:])))\n",
    "plt.plot(Cl[3:]*np.arange(len(Cl_uniform[3:])))"
   ]
  },
  {
   "cell_type": "code",
   "execution_count": 50,
   "metadata": {},
   "outputs": [],
   "source": [
    "output_FLASK = '/global/cscratch1/sd/mgatti/Mass_Mapping/moments/flask/'\n",
    "\n",
    "n_FLASK_real = 50\n",
    "tomo_bins = [0]\n",
    "tomo_bins_lens = [0]\n",
    "\n",
    "\n",
    "seed = 1\n",
    "# I want to compute the full power spectrum of FLASK covariance for KS and density field as well. \n",
    "PS_dict = dict()\n",
    "for i in tomo_bins:\n",
    "    mute = pf.open(FLASK_path+'seed'+str(seed+1)+'/kappa-gamma-f10z{0}.fits'.format(i+1))\n",
    "#for i in tomo_bins_lens:\n",
    "    mute = pf.open(FLASK_path+'seed'+str(seed+1)+'/map-f{0}z{0}.fits'.format(i+1))\n",
    "#"
   ]
  },
  {
   "cell_type": "code",
   "execution_count": 121,
   "metadata": {},
   "outputs": [],
   "source": [
    "import copy\n"
   ]
  },
  {
   "cell_type": "code",
   "execution_count": 166,
   "metadata": {},
   "outputs": [],
   "source": [
    "  \n",
    "mask_DES_y3 = load_obj('/global/homes/m/mgatti/Mass_Mapping/Moments_analysis/Covariance/mask_DES_y3')\n",
    "nside = 1024\n",
    "\n",
    "seed = 1\n",
    "FLASK_lens = pf.open(FLASK_path+'seed'+str(seed+1)+'/lens-catalog.fits.gz')\n",
    "lens_ra = FLASK_lens[1].data['ra']\n",
    "lens_dec = FLASK_lens[1].data['dec']\n",
    "lens_bin = FLASK_lens[1].data['galtype']\n",
    "\n",
    "\n",
    "#density_full_maps = dict()\n",
    "#density_maps = dict()\n",
    "lenses_maps = dict()\n",
    "random_maps = dict()\n",
    "sources_maps = dict()\n",
    "sources_cat = dict()\n",
    "# loop over tomographic bins (lenses)\n",
    "for i in range(1):\n",
    "    mask_z = lens_bin == i+1\n",
    "    lenses_maps[i] = np.zeros(hp.nside2npix(nside))\n",
    "    pix1 = convert_to_pix_coord(lens_ra[mask_z],lens_dec[mask_z], nside=nside)\n",
    "    unique_pix1, idx1, idx_rep1 = np.unique(pix1, return_index=True, return_inverse=True)\n",
    "    lenses_maps[i][unique_pix1] += np.bincount(idx_rep1, weights=np.ones(len(pix1)))\n",
    "    mask = lenses_maps[i] != 0.\n",
    "    number_of_lenses = np.int(np.sum(lenses_maps[i]))\n",
    "    mean_N = np.mean(lenses_maps[i][mask_DES_y3])\n",
    "    lenses_maps[i][mask_DES_y3] = (1.*lenses_maps[i][mask_DES_y3]-np.mean(lenses_maps[i][mask_DES_y3]))/np.mean(lenses_maps[i][mask_DES_y3])\n",
    "    lenses_maps[i][~mask_DES_y3] =0.\n",
    "\n",
    "    random_maps[i] = np.zeros(hp.nside2npix(nside))\n",
    "    indexes = np.arange(len(lenses_maps[i]))[mask_DES_y3]\n",
    "    pix_randoms = indexes[np.random.randint(0,len(indexes),number_of_lenses)]\n",
    "    unique_pix1, idx1, idx_rep1 = np.unique(pix_randoms, return_index=True, return_inverse=True)\n",
    "    random_maps[i][unique_pix1] += np.bincount(idx_rep1, weights=np.ones(len(pix_randoms)))\n",
    "    mask = random_maps[i] != 0.\n",
    "    random_maps[i][mask_DES_y3] = (random_maps[i][mask_DES_y3]-np.mean(random_maps[i][mask_DES_y3]))/np.mean(random_maps[i][mask_DES_y3])\n",
    "    random_maps[i][~mask_DES_y3] =0.\n",
    "\n",
    "    #mute = pf.open(FLASK_path+'seed'+str(seed+1)+'/map-f{0}z{0}.fits'.format(i+1))\n",
    "    #density = mute[1].data['signal'].reshape(196608*1024)\n",
    "    #density_full_maps[i]  = hp.alm2map(hp.map2alm(density,lmax = 2048),nside = 1024)\n",
    "    #density_maps[i]  = copy.copy(density_full_maps[i])\n",
    "    #density_maps[i][~mask_DES_y3] = 0"
   ]
  },
  {
   "cell_type": "code",
   "execution_count": 193,
   "metadata": {},
   "outputs": [
    {
     "name": "stderr",
     "output_type": "stream",
     "text": [
      "/global/homes/m/mgatti/.conda/envs/py3s/lib/python3.6/site-packages/ipykernel_launcher.py:1: RuntimeWarning: invalid value encountered in true_divide\n",
      "  \"\"\"Entry point for launching an IPython kernel.\n"
     ]
    },
    {
     "data": {
      "text/plain": [
       "(array([4.3270e+03, 4.5610e+03, 4.7130e+03, 4.9660e+03, 5.1700e+03,\n",
       "        5.2940e+03, 5.5220e+03, 5.6690e+03, 5.9060e+03, 6.1350e+03,\n",
       "        6.2570e+03, 6.2700e+03, 6.6730e+03, 6.8930e+03, 7.0530e+03,\n",
       "        7.0900e+03, 7.2160e+03, 7.4620e+03, 7.4060e+03, 7.3590e+03,\n",
       "        7.4060e+03, 6.8190e+03, 6.6250e+03, 6.1250e+03, 5.3180e+03,\n",
       "        4.4720e+03, 3.2780e+03, 2.2790e+03, 1.2450e+03, 4.9000e+02,\n",
       "        9.2000e+01, 3.0000e+00, 0.0000e+00, 0.0000e+00, 0.0000e+00,\n",
       "        0.0000e+00, 0.0000e+00, 2.0000e+00, 9.0000e+00, 3.8000e+01,\n",
       "        8.1000e+01, 1.2600e+02, 2.1400e+02, 3.7400e+02, 6.8400e+02,\n",
       "        1.4730e+03, 3.1100e+03, 5.6990e+03, 9.5500e+03, 1.3622e+04,\n",
       "        1.7057e+04, 2.0446e+04, 2.2187e+04, 2.3440e+04, 2.4362e+04,\n",
       "        2.3883e+04, 2.3863e+04, 2.3351e+04, 2.2320e+04, 2.1758e+04,\n",
       "        2.0442e+04, 1.9527e+04, 1.8344e+04, 1.7689e+04, 1.6872e+04,\n",
       "        1.6047e+04, 1.5454e+04, 1.4554e+04, 1.3834e+04, 1.3327e+04,\n",
       "        1.2522e+04, 1.1948e+04, 1.1283e+04, 1.0918e+04, 1.0320e+04,\n",
       "        1.0006e+04, 9.5130e+03, 9.1950e+03, 8.7650e+03, 8.3990e+03,\n",
       "        8.2360e+03, 7.7680e+03, 7.4130e+03, 7.0570e+03, 6.8050e+03,\n",
       "        6.6160e+03, 6.3220e+03, 6.2040e+03, 6.0270e+03, 5.8680e+03,\n",
       "        5.6010e+03, 5.5080e+03, 5.2120e+03, 5.1480e+03, 4.9900e+03,\n",
       "        4.7770e+03, 4.5530e+03, 4.4840e+03, 4.3470e+03]),\n",
       " array([-2.        , -1.93939394, -1.87878788, -1.81818182, -1.75757576,\n",
       "        -1.6969697 , -1.63636364, -1.57575758, -1.51515152, -1.45454545,\n",
       "        -1.39393939, -1.33333333, -1.27272727, -1.21212121, -1.15151515,\n",
       "        -1.09090909, -1.03030303, -0.96969697, -0.90909091, -0.84848485,\n",
       "        -0.78787879, -0.72727273, -0.66666667, -0.60606061, -0.54545455,\n",
       "        -0.48484848, -0.42424242, -0.36363636, -0.3030303 , -0.24242424,\n",
       "        -0.18181818, -0.12121212, -0.06060606,  0.        ,  0.06060606,\n",
       "         0.12121212,  0.18181818,  0.24242424,  0.3030303 ,  0.36363636,\n",
       "         0.42424242,  0.48484848,  0.54545455,  0.60606061,  0.66666667,\n",
       "         0.72727273,  0.78787879,  0.84848485,  0.90909091,  0.96969697,\n",
       "         1.03030303,  1.09090909,  1.15151515,  1.21212121,  1.27272727,\n",
       "         1.33333333,  1.39393939,  1.45454545,  1.51515152,  1.57575758,\n",
       "         1.63636364,  1.6969697 ,  1.75757576,  1.81818182,  1.87878788,\n",
       "         1.93939394,  2.        ,  2.06060606,  2.12121212,  2.18181818,\n",
       "         2.24242424,  2.3030303 ,  2.36363636,  2.42424242,  2.48484848,\n",
       "         2.54545455,  2.60606061,  2.66666667,  2.72727273,  2.78787879,\n",
       "         2.84848485,  2.90909091,  2.96969697,  3.03030303,  3.09090909,\n",
       "         3.15151515,  3.21212121,  3.27272727,  3.33333333,  3.39393939,\n",
       "         3.45454545,  3.51515152,  3.57575758,  3.63636364,  3.6969697 ,\n",
       "         3.75757576,  3.81818182,  3.87878788,  3.93939394,  4.        ]),\n",
       " <a list of 99 Patch objects>)"
      ]
     },
     "execution_count": 193,
     "metadata": {},
     "output_type": "execute_result"
    },
    {
     "data": {
      "image/png": "[encoded data removed]",
      "text/plain": [
       "<Figure size 432x288 with 1 Axes>"
      ]
     },
     "metadata": {
      "needs_background": "light"
     },
     "output_type": "display_data"
    }
   ],
   "source": [
    "plt.hist((1.*lenses_maps[i]/density_maps[i])[mask_DES_y3], bins =  np.linspace(-2,4,100))\n",
    "\n"
   ]
  },
  {
   "cell_type": "code",
   "execution_count": 180,
   "metadata": {},
   "outputs": [],
   "source": [
    "#Cl_d_full = hp.anafast(density_full_maps[i])\n",
    "#Cl_d = hp.anafast(density_maps[i])\n",
    "Cl_g = hp.anafast(lenses_maps[i])\n",
    "Cl_n = hp.anafast(random_maps[i])"
   ]
  },
  {
   "cell_type": "code",
   "execution_count": 181,
   "metadata": {},
   "outputs": [],
   "source": [
    "m2_d_full = compute_masked_2m(Cl_d_full, conf['smoothing_scales'], lmax = 2048)\n",
    "m2_d_masked_t = compute_masked_2m(np.matmul(Cl_d_full[:2048],np.array(matrix['Mgg']).reshape(2048,2048).T), conf['smoothing_scales'], lmax = 2048)\n",
    "m2_d_masked = compute_masked_2m(Cl_d, conf['smoothing_scales'], lmax = 2048)\n",
    "m2_g_masked = compute_masked_2m(Cl_g, conf['smoothing_scales'], lmax = 2048)\n",
    "m2_n_masked = compute_masked_2m(Cl_n, conf['smoothing_scales'], lmax = 2048)\n"
   ]
  },
  {
   "cell_type": "code",
   "execution_count": 164,
   "metadata": {},
   "outputs": [
    {
     "data": {
      "text/plain": [
       "array([1.07701594e-03, 6.18041225e-04, 2.71951169e-04, 1.26089844e-04,\n",
       "       5.91711057e-05, 2.88650138e-05, 1.45489217e-05, 7.47361904e-06,\n",
       "       3.68884709e-06, 1.70577158e-06])"
      ]
     },
     "execution_count": 164,
     "metadata": {},
     "output_type": "execute_result"
    }
   ],
   "source": [
    "m2_g_masked"
   ]
  },
  {
   "cell_type": "code",
   "execution_count": 187,
   "metadata": {},
   "outputs": [
    {
     "data": {
      "text/plain": [
       "[<matplotlib.lines.Line2D at 0x2aaae1994ef0>]"
      ]
     },
     "execution_count": 187,
     "metadata": {},
     "output_type": "execute_result"
    },
    {
     "data": {
      "image/png": "[encoded data removed]",
      "text/plain": [
       "<Figure size 432x288 with 1 Axes>"
      ]
     },
     "metadata": {
      "needs_background": "light"
     },
     "output_type": "display_data"
    }
   ],
   "source": [
    "plt.plot((m2_g_masked-m2_n_masked)/m2_d_masked)"
   ]
  },
  {
   "cell_type": "code",
   "execution_count": 213,
   "metadata": {},
   "outputs": [
    {
     "data": {
      "text/plain": [
       "(0.03030610084533691,\n",
       " array([0.05231163, 0.03933386, 0.02646798, 0.01799315, 0.01225475,\n",
       "        0.00833015, 0.00548452, 0.00343975, 0.00197463, 0.00103129]))"
      ]
     },
     "execution_count": 213,
     "metadata": {},
     "output_type": "execute_result"
    }
   ],
   "source": [
    "mean_N*f_sky,m2_d_masked"
   ]
  },
  {
   "cell_type": "code",
   "execution_count": 214,
   "metadata": {},
   "outputs": [
    {
     "data": {
      "text/plain": [
       "<matplotlib.legend.Legend at 0x2aaae1e66d68>"
      ]
     },
     "execution_count": 214,
     "metadata": {},
     "output_type": "execute_result"
    },
    {
     "data": {
      "image/png": "[encoded data removed]",
      "text/plain": [
       "<Figure size 432x288 with 1 Axes>"
      ]
     },
     "metadata": {
      "needs_background": "light"
     },
     "output_type": "display_data"
    }
   ],
   "source": [
    "#plt.plot(m2_n_masked, label = 'n')\n",
    "#plt.plot(m2_g_masked, label = 'g')\n",
    "plt.plot((m2_g_masked-m2_n_masked)/m2_d_masked, label = 'd')\n",
    "plt.legend()"
   ]
  },
  {
   "cell_type": "code",
   "execution_count": 177,
   "metadata": {},
   "outputs": [],
   "source": [
    "mask_z = lens_bin == i+1\n",
    "lenses_maps[i] = np.zeros(hp.nside2npix(nside))\n",
    "pix1 = convert_to_pix_coord(lens_ra[mask_z],lens_dec[mask_z], nside=nside)\n",
    "unique_pix1, idx1, idx_rep1 = np.unique(pix1, return_index=True, return_inverse=True)\n",
    "lenses_maps[i][unique_pix1] += np.bincount(idx_rep1, weights=np.ones(len(pix1)))\n",
    "mask = lenses_maps[i] != 0.\n",
    "number_of_lenses = np.int(np.sum(lenses_maps[i]))\n",
    "lenses_maps[i][mask_DES_y3] = (1.*lenses_maps[i][mask_DES_y3]-np.mean(lenses_maps[i][mask_DES_y3]))/np.mean(lenses_maps[i][mask_DES_y3])\n",
    "lenses_maps[i][~mask_DES_y3] =0.\n",
    "\n",
    "random_maps[i] = np.zeros(hp.nside2npix(nside))\n",
    "indexes = np.arange(len(lenses_maps[i]))[mask_DES_y3]\n",
    "pix_randoms = indexes[np.random.randint(0,len(indexes),number_of_lenses)]\n",
    "unique_pix1, idx1, idx_rep1 = np.unique(pix_randoms, return_index=True, return_inverse=True)\n",
    "random_maps[i][unique_pix1] += np.bincount(idx_rep1, weights=np.ones(len(pix_randoms)))\n",
    "mask = random_maps[i] != 0.\n",
    "random_maps[i][mask_DES_y3] = (random_maps[i][mask_DES_y3]-np.mean(random_maps[i][mask_DES_y3]))/np.mean(random_maps[i][mask_DES_y3])\n",
    "random_maps[i][~mask_DES_y3] =0."
   ]
  },
  {
   "cell_type": "code",
   "execution_count": 185,
   "metadata": {},
   "outputs": [
    {
     "data": {
      "image/png": "[encoded data removed]",
      "text/plain": [
       "<Figure size 612x388.8 with 2 Axes>"
      ]
     },
     "metadata": {
      "needs_background": "light"
     },
     "output_type": "display_data"
    }
   ],
   "source": [
    "hp.mollview(random_maps[i])"
   ]
  },
  {
   "cell_type": "code",
   "execution_count": 186,
   "metadata": {},
   "outputs": [
    {
     "data": {
      "text/plain": [
       "(array([     0.,      0.,      0., 341728., 678676., 165354., 102953.,\n",
       "          9148.,   3233.]),\n",
       " array([-3.        , -2.33333333, -1.66666667, -1.        , -0.33333333,\n",
       "         0.33333333,  1.        ,  1.66666667,  2.33333333,  3.        ]),\n",
       " <a list of 1 Patch objects>)"
      ]
     },
     "execution_count": 186,
     "metadata": {},
     "output_type": "execute_result"
    },
    {
     "data": {
      "image/png": "[encoded data removed]",
      "text/plain": [
       "<Figure size 432x288 with 1 Axes>"
      ]
     },
     "metadata": {
      "needs_background": "light"
     },
     "output_type": "display_data"
    }
   ],
   "source": [
    "plt.hist(density_maps[i][mask], bins = np.linspace(-3,3,10), histtype = 'step')\n",
    "plt.hist(random_maps[i][mask], bins = np.linspace(-3,3,10), histtype = 'step')"
   ]
  },
  {
   "cell_type": "code",
   "execution_count": 138,
   "metadata": {},
   "outputs": [
    {
     "data": {
      "text/plain": [
       "'/global/cscratch1/sd/faoli/flask_desy3/4096/seed2'"
      ]
     },
     "execution_count": 138,
     "metadata": {},
     "output_type": "execute_result"
    }
   ],
   "source": [
    "FLASK_path+'seed'+str(seed+1)"
   ]
  },
  {
   "cell_type": "code",
   "execution_count": 198,
   "metadata": {},
   "outputs": [],
   "source": [
    "    mask_z = lens_bin == i+1\n",
    "    lenses_maps[i] = np.zeros(hp.nside2npix(nside))\n",
    "    pix1 = convert_to_pix_coord(lens_ra[mask_z],lens_dec[mask_z], nside=nside)\n",
    "    unique_pix1, idx1, idx_rep1 = np.unique(pix1, return_index=True, return_inverse=True)\n",
    "    lenses_maps[i][unique_pix1] += np.bincount(idx_rep1, weights=np.ones(len(pix1)))\n",
    "    mask = lenses_maps[i] != 0.\n",
    "    number_of_lenses = np.int(np.sum(lenses_maps[i]))\n",
    "    mean_N = np.mean(lenses_maps[i][mask_DES_y3])\n",
    "    N_tot = np.sum(lenses_maps[i][mask_DES_y3])\n",
    "    lenses_maps[i][mask_DES_y3] = (1.*lenses_maps[i][mask_DES_y3]-np.mean(lenses_maps[i][mask_DES_y3]))/np.mean(lenses_maps[i][mask_DES_y3])\n",
    "    lenses_maps[i][~mask_DES_y3] =0."
   ]
  },
  {
   "cell_type": "code",
   "execution_count": 201,
   "metadata": {},
   "outputs": [
    {
     "data": {
      "text/plain": [
       "0.030306100845336914"
      ]
     },
     "execution_count": 201,
     "metadata": {},
     "output_type": "execute_result"
    }
   ],
   "source": []
  },
  {
   "cell_type": "code",
   "execution_count": null,
   "metadata": {},
   "outputs": [],
   "source": []
  }
 ],
 "metadata": {
  "kernelspec": {
   "display_name": "Custom Env",
   "language": "python",
   "name": "py3s"
  },
  "language_info": {
   "codemirror_mode": {
    "name": "ipython",
    "version": 3
   },
   "file_extension": ".py",
   "mimetype": "text/x-python",
   "name": "python",
   "nbconvert_exporter": "python",
   "pygments_lexer": "ipython3",
   "version": "3.6.10"
  }
 },
 "nbformat": 4,
 "nbformat_minor": 4
}
