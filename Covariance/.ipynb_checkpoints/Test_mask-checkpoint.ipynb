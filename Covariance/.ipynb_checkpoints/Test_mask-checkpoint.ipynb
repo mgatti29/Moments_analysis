{
 "cells": [
  {
   "cell_type": "markdown",
   "metadata": {},
   "source": [
    "# test on masks"
   ]
  },
  {
   "cell_type": "markdown",
   "metadata": {},
   "source": [
    "In this notebook I will load two maps from T17 (density and convergence) and I will compute the masked and unmasked momoments. I will also compute the skew-spectra and try to see if I can manage to account for mask effects"
   ]
  },
  {
   "cell_type": "code",
   "execution_count": 63,
   "metadata": {},
   "outputs": [
    {
     "data": {
      "text/plain": [
       "'\\nThis notebook checks if the modelling of the mask effects is adequate.\\n\\n'"
      ]
     },
     "execution_count": 63,
     "metadata": {},
     "output_type": "execute_result"
    }
   ],
   "source": [
    "%matplotlib inline\n",
    "import matplotlib.pyplot as plt\n",
    "import cosmolopy\n",
    "import h5py as h5\n",
    "import numpy as np\n",
    "import healpy as hp\n",
    "from Moments_analysis import convert_to_pix_coord, make_covariance\n",
    "from Moments_analysis import moments_map\n",
    "import pyfits as pf\n",
    "import cosmolopy.distance as cd\n",
    "import pickle\n",
    "def save_obj(name, obj):\n",
    "    with open(name + '.pkl', 'wb') as f:\n",
    "        pickle.dump(obj, f, protocol = 2)\n",
    "        \n",
    "def load_obj(name):\n",
    "    with open(name + '.pkl', 'rb') as f:\n",
    "        return pickle.load(f)#, encoding='latin1')\n",
    "\n",
    "import healpy as hp\n",
    "\n",
    "'''\n",
    "This notebook checks if the modelling of the mask effects is adequate.\n",
    "\n",
    "'''\n",
    "# load the mask\n",
    "mask = load_obj(\"mask_DES_y3_py2\")\n",
    "nside =1024\n",
    "lmax = nside*2\n",
    "# load the mixing matrix\n",
    "mode_coupling_matrix ='/global/project/projectdirs/des/mgatti/Moments_analysis/mode_coupling_matrix_{0}_{1}.h5'.format(lmax,nside)\n",
    "f_sky = len(mask[mask])*1./len(mask)\n",
    "import h5py\n",
    "matrix = h5py.File(mode_coupling_matrix,'r')\n",
    "#Mgg = load_obj('Mgg')\n",
    "#MEE = load_obj('MEE')"
   ]
  },
  {
   "cell_type": "code",
   "execution_count": 58,
   "metadata": {},
   "outputs": [
    {
     "name": "stderr",
     "output_type": "stream",
     "text": [
      "/global/homes/m/mgatti/.conda/envs/py3s/lib/python3.6/site-packages/ipykernel_launcher.py:15: RuntimeWarning: divide by zero encountered in true_divide\n",
      "  from ipykernel import kernelapp as app\n",
      "/global/homes/m/mgatti/.conda/envs/py3s/lib/python3.6/site-packages/ipykernel_launcher.py:15: RuntimeWarning: invalid value encountered in true_divide\n",
      "  from ipykernel import kernelapp as app\n"
     ]
    },
    {
     "name": "stdout",
     "output_type": "stream",
     "text": [
      "Sigma is 0.000000 arcmin (0.000000 rad) \n",
      "-> fwhm is 0.000000 arcmin\n"
     ]
    },
    {
     "ename": "NameError",
     "evalue": "name 'mask' is not defined",
     "output_type": "error",
     "traceback": [
      "\u001b[0;31m---------------------------------------------------------------------------\u001b[0m",
      "\u001b[0;31mNameError\u001b[0m                                 Traceback (most recent call last)",
      "\u001b[0;32m<ipython-input-58-1d3c6f0ac97a>\u001b[0m in \u001b[0;36m<module>\u001b[0;34m\u001b[0m\n\u001b[1;32m     23\u001b[0m \u001b[0md_masked\u001b[0m \u001b[0;34m=\u001b[0m \u001b[0mnp\u001b[0m\u001b[0;34m.\u001b[0m\u001b[0mzeros_like\u001b[0m\u001b[0;34m(\u001b[0m\u001b[0mg1\u001b[0m\u001b[0;34m)\u001b[0m\u001b[0;34m\u001b[0m\u001b[0;34m\u001b[0m\u001b[0m\n\u001b[1;32m     24\u001b[0m \u001b[0;34m\u001b[0m\u001b[0m\n\u001b[0;32m---> 25\u001b[0;31m \u001b[0mg1_masked\u001b[0m\u001b[0;34m[\u001b[0m\u001b[0mmask\u001b[0m\u001b[0;34m]\u001b[0m \u001b[0;34m=\u001b[0m \u001b[0mg1\u001b[0m\u001b[0;34m[\u001b[0m\u001b[0mmask\u001b[0m\u001b[0;34m]\u001b[0m\u001b[0;34m\u001b[0m\u001b[0;34m\u001b[0m\u001b[0m\n\u001b[0m\u001b[1;32m     26\u001b[0m \u001b[0mg2_masked\u001b[0m\u001b[0;34m[\u001b[0m\u001b[0mmask\u001b[0m\u001b[0;34m]\u001b[0m \u001b[0;34m=\u001b[0m \u001b[0mg2\u001b[0m\u001b[0;34m[\u001b[0m\u001b[0mmask\u001b[0m\u001b[0;34m]\u001b[0m\u001b[0;34m\u001b[0m\u001b[0;34m\u001b[0m\u001b[0m\n\u001b[1;32m     27\u001b[0m \u001b[0md_masked\u001b[0m\u001b[0;34m[\u001b[0m\u001b[0mmask\u001b[0m\u001b[0;34m]\u001b[0m \u001b[0;34m=\u001b[0m \u001b[0md\u001b[0m\u001b[0;34m[\u001b[0m\u001b[0mmask\u001b[0m\u001b[0;34m]\u001b[0m\u001b[0;34m\u001b[0m\u001b[0;34m\u001b[0m\u001b[0m\n",
      "\u001b[0;31mNameError\u001b[0m: name 'mask' is not defined"
     ]
    }
   ],
   "source": [
    "# Load T17 map\n",
    "mute = pf.open('/global/cscratch1/sd/mgatti/Mass_Mapping/taka/maps_0/k_1024_10.fits')\n",
    "k = mute[1].data['field']\n",
    "mute = pf.open('/global/cscratch1/sd/mgatti/Mass_Mapping/taka/maps_0/lens_layer_1024_5.fits')\n",
    "d = mute[1].data['field']\n",
    "\n",
    "# compute Cl\n",
    "Cl_k = hp.anafast(k)\n",
    "Cl_d = hp.anafast(d)\n",
    "\n",
    "\n",
    "# compute g1,g2\n",
    "alms_flask_nomask = hp.map2alm(k, lmax=2048)  # Spin transform\n",
    "ell, emm = hp.Alm.getlm(lmax=2048)\n",
    "almsE_flask_nomask = alms_flask_nomask / ( ((ell * (ell + 1.)) / ((ell + 2.) * (ell - 1))) ** 0.5)\n",
    "almsE_flask_nomask[ell==0.] = 0.\n",
    "_,g1,g2 = hp.alm2map([almsE_flask_nomask,almsE_flask_nomask,almsE_flask_nomask*0.], nside=1024, lmax=2048, pol=True)\n",
    "\n",
    "\n",
    "# copy the fields and create masked versions of them\n",
    "g1_masked = np.zeros_like(g1)\n",
    "g2_masked = np.zeros_like(g1)\n",
    "d_masked = np.zeros_like(g1)\n",
    "\n",
    "g1_masked[mask] = g1[mask]\n",
    "g2_masked[mask] = g2[mask]\n",
    "d_masked[mask] = d[mask]\n",
    "\n",
    "Cl_k_masked = hp.anafast(k)\n",
    "Cl_d_masked = hp.anafast(d_masked)\n"
   ]
  },
  {
   "cell_type": "code",
   "execution_count": 61,
   "metadata": {},
   "outputs": [],
   "source": [
    "\n"
   ]
  },
  {
   "cell_type": "code",
   "execution_count": 3,
   "metadata": {},
   "outputs": [
    {
     "name": "stdout",
     "output_type": "stream",
     "text": [
      "d 0\n",
      "3.2\n",
      "5.1\n",
      "8.2\n",
      "13.1\n",
      "21.0\n",
      "33.6\n",
      "54.0\n",
      "86.0\n",
      "138.0\n",
      "221.0\n",
      "d_masked 0\n",
      "3.2\n",
      "5.1\n",
      "8.2\n",
      "13.1\n",
      "21.0\n",
      "33.6\n",
      "54.0\n",
      "86.0\n",
      "138.0\n",
      "221.0\n",
      "convergence 0\n"
     ]
    },
    {
     "name": "stderr",
     "output_type": "stream",
     "text": [
      "/global/homes/m/mgatti/.conda/envs/py3s/lib/python3.6/site-packages/Moments_analysis-0.1-py3.6.egg/Moments_analysis/Compute_moments.py:82: RuntimeWarning: divide by zero encountered in true_divide\n",
      "/global/homes/m/mgatti/.conda/envs/py3s/lib/python3.6/site-packages/Moments_analysis-0.1-py3.6.egg/Moments_analysis/Compute_moments.py:82: RuntimeWarning: invalid value encountered in multiply\n",
      "/global/homes/m/mgatti/.conda/envs/py3s/lib/python3.6/site-packages/Moments_analysis-0.1-py3.6.egg/Moments_analysis/Compute_moments.py:84: RuntimeWarning: divide by zero encountered in true_divide\n",
      "/global/homes/m/mgatti/.conda/envs/py3s/lib/python3.6/site-packages/Moments_analysis-0.1-py3.6.egg/Moments_analysis/Compute_moments.py:84: RuntimeWarning: invalid value encountered in multiply\n"
     ]
    },
    {
     "name": "stdout",
     "output_type": "stream",
     "text": [
      "3.2\n",
      "5.1\n",
      "8.2\n",
      "13.1\n",
      "21.0\n",
      "33.6\n",
      "54.0\n",
      "86.0\n",
      "138.0\n",
      "221.0\n",
      "3.2\n",
      "5.1\n",
      "8.2\n",
      "13.1\n",
      "21.0\n",
      "33.6\n",
      "54.0\n",
      "86.0\n",
      "138.0\n",
      "221.0\n",
      "convergence_masked 0\n",
      "3.2\n",
      "5.1\n",
      "8.2\n",
      "13.1\n",
      "21.0\n",
      "33.6\n",
      "54.0\n",
      "86.0\n",
      "138.0\n",
      "221.0\n",
      "3.2\n",
      "5.1\n",
      "8.2\n",
      "13.1\n",
      "21.0\n",
      "33.6\n",
      "54.0\n",
      "86.0\n",
      "138.0\n",
      "221.0\n"
     ]
    }
   ],
   "source": [
    "import os\n",
    "\n",
    "conf = dict()\n",
    "conf['smoothing_scales'] = np.array([3.2,5.1,8.2,13.1,21.0,33.6,54.,86.,138,221.]) # arcmin\n",
    "conf['nside'] = 1024\n",
    "conf['lmax'] = 2048\n",
    "conf['verbose'] = True\n",
    "conf['output_folder'] = '/global/cscratch1/sd/mgatti/Mass_Mapping/moments/test_T/'\n",
    "\n",
    "\n",
    "mcal_moments = moments_map(conf)\n",
    "i = 0\n",
    "    \n",
    "mcal_moments.add_map(g1, field_label = 'e1', tomo_bin = i)\n",
    "mcal_moments.add_map(g2, field_label = 'e2', tomo_bin = i)\n",
    "\n",
    "mcal_moments.add_map(g1_masked, field_label = 'e1_masked', tomo_bin = i)\n",
    "mcal_moments.add_map(g2_masked, field_label = 'e2_masked', tomo_bin = i)\n",
    "\n",
    "mcal_moments.add_map(d, field_label = 'd', tomo_bin = i)\n",
    "mcal_moments.add_map(d_masked, field_label = 'd_masked', tomo_bin = i)\n",
    "\n",
    "\n",
    "mcal_moments.transform_and_smooth('d','d', shear = False, tomo_bins = [0], overwrite = False)                \n",
    "mcal_moments.transform_and_smooth('d_masked','d_masked', shear = False, tomo_bins = [0], overwrite = False)                \n",
    "  \n",
    "mcal_moments.transform_and_smooth('convergence','e1','e2', shear = True, tomo_bins = [0], overwrite = False)                \n",
    "mcal_moments.transform_and_smooth('convergence_masked','e1_masked','e2_masked', shear = True, tomo_bins = [0], overwrite = False)                \n",
    "\n",
    "mcal_moments.compute_moments( label_moments='kEkE', field_label1 ='convergence_kE',  tomo_bins1 = [0,])\n",
    "mcal_moments.compute_moments( label_moments='kEkE_masked', field_label1 ='convergence_masked_kE',  tomo_bins1 = [0,])\n",
    "\n",
    "mcal_moments.compute_moments( label_moments='dd', field_label1 ='d_kE',  tomo_bins1 = [0,])\n",
    "mcal_moments.compute_moments( label_moments='dd_masked', field_label1 ='d_masked_kE',  tomo_bins1 = [0,])\n"
   ]
  },
  {
   "cell_type": "code",
   "execution_count": 129,
   "metadata": {},
   "outputs": [],
   "source": [
    "import scipy\n",
    "def compute_masked_2m(P_lz, smoothing_scales, lmax = 2048):\n",
    "    '''\n",
    "    It computes the smoothed (by a top-hat filter) 2nd moments of the density field given the\n",
    "    3D power spectrum at fixed z. (l=k/chi(z)).\n",
    "    '''\n",
    "    moments = []\n",
    "    ell = np.arange(lmax)\n",
    "    for i, sm in enumerate(smoothing_scales):\n",
    "        sm_rad =(sm/60.)*np.pi/180.  \n",
    "        # smoothing kernel (top-hat)\n",
    "  \n",
    "        A = 1./(2*np.pi*(1.-np.cos(sm_rad)))\n",
    "        B = np.sqrt(np.pi/(2.*ell+1.0))\n",
    "        \n",
    "        fact = -B*(scipy.special.eval_legendre(ell+1,np.cos(sm_rad))-scipy.special.eval_legendre(ell-1,np.cos(sm_rad)))*A\n",
    "        fact[0] = 1\n",
    "        moments.append((1.)*np.sum(fact[:lmax]**2*P_lz[:lmax]))\n",
    "    return np.array(moments)\n",
    "\n",
    "\n",
    "\n",
    "\n",
    "\n",
    "def compute_masked_3m(P_lz, smoothing_scales, P_lz_masked = None,lmax = 2048, \n",
    "                      sm_formulae = 'SC', z = 0.5,cosmo = {'baryonic_effects':False,'omega_n_0':0.,'N_nu':0,'omega_M_0':0.3, 'omega_b_0': 0.004,'sigma_8' : 0.8, 'omega_lambda_0':1-0.3, 'omega_k_0':0.0, 'h':0.72, 'n' :0.92}):\n",
    "    '''\n",
    "    It computes the smoothed (by a top-hat filter) 3rd moments of the density field given the\n",
    "    3D power spectrum at fixed z. (l=k/chi(z)). It implements small-scales fitting formulae\n",
    "    '''\n",
    "    \n",
    "    d = cd.comoving_distance(z, **cosmo)\n",
    "    ell = np.arange(lmax+1)\n",
    "\n",
    "    # this should be the NL powe spectrum given as inut ***\n",
    "    Pl = cosmolopy.perturbation.power_spectrum(ell/d,z, **cosmo) \n",
    "    # NL scale:\n",
    "    l_nl = ell[(Pl*(ell/d)**3)/(2.*np.pi**2)>1][0]\n",
    "\n",
    "    ell = np.arange(lmax)\n",
    "    # PS index.\n",
    "    ns = np.diff((Pl))/Pl[:lmax]*ell\n",
    "    ns[ns != ns] = 1.\n",
    "    \n",
    "    #growth\n",
    "    Dp = cosmolopy.perturbation.fgrowth(z,cosmo['omega_M_0'])/(1.+z)\n",
    "    if sm_formulae == 'SC':\n",
    "        coeff = [0.25,3.5,2.,1.,2.,-0.2,1.,0.,0.]\n",
    "    elif sm_formulae == 'GM':\n",
    "        coeff = [0.484,3.740,-0.849,0.392,1.013,-0.575,0.128,-0.722,-0.926]\n",
    "\n",
    "    \n",
    "    if (sm_formulae == 'NL'):\n",
    "        a = 1.;\n",
    "        b = 1.;\n",
    "        c = 1.;\n",
    "    else:\n",
    "        \n",
    "        \n",
    "        # transition l from linear to non linear\n",
    "        q= ell*1./l_nl\n",
    "\n",
    "        \n",
    "\n",
    "        a = (1. + ((cosmo['sigma_8']*Dp)**coeff[5])*(0.7*(4.-2.**ns)/(1.+2.**(2.*ns+1)))**0.5*(q*coeff[0])**(ns+coeff[1]))/(1.+(q*coeff[0])**(ns+coeff[1]))\n",
    "        b = (1. + 0.2*coeff[2]*(ns+3)*(q*coeff[6])**(ns+coeff[7]+3))/(1.+(q*coeff[6])**(ns+coeff[7]+3.5));\n",
    "        c = (1. + 4.5*coeff[3]/(1.5+(ns+3)**4)*(q*coeff[4])**(ns+3+coeff[8]))/(1+(q*coeff[4])**(ns+3.5+coeff[8]));\n",
    "        a[0] =1\n",
    "        b[0] =1\n",
    "        c[0] =1\n",
    "    #plt.plot(a**2*5./7.-b**2)\n",
    "    #plt.plot(c**2*2./7.)\n",
    "    #plt.legend()\n",
    "    mu = 3./7.\n",
    "    moments = []\n",
    "    ell = np.arange(lmax)\n",
    "    for i, sm in enumerate(smoothing_scales):\n",
    "        sm_rad =(sm/60.)*np.pi/180.  \n",
    "    \n",
    "    \n",
    "        A = -1./(2*np.pi*(1.-np.cos(sm_rad)))\n",
    "        B = np.sqrt(np.pi/(2.*ell+1.0))\n",
    "        B1 = np.sqrt(np.pi*(2.*ell+1.0))\n",
    "        fact = B*(scipy.special.eval_legendre(ell+1,np.cos(sm_rad))-scipy.special.eval_legendre(ell-1,np.cos(sm_rad)))*A\n",
    "        d_fact =  -B1*A*np.sin(sm_rad)*scipy.special.eval_legendre(ell,np.cos(sm_rad))\n",
    "        d_fact += A*np.pi*2*np.sin(sm_rad)*fact\n",
    "    \n",
    "    \n",
    "        moment_2d = np.sum(fact[:lmax]**2*P_lz[:lmax])\n",
    "        moment_2d_a = np.sum(a*fact[:lmax]**2*P_lz[:lmax])\n",
    "        moment_2d_b = np.sum(b*fact[:lmax]**2*P_lz[:lmax])\n",
    "        moment_2d_c = np.sum(c*fact[:lmax]**2*P_lz[:lmax])\n",
    "    \n",
    "    \n",
    "        try:\n",
    "            moment_2d_masked = np.sum(fact[:lmax]**2*P_lz_masked[:lmax])\n",
    "    \n",
    "        except:\n",
    "            moment_2d_masked = np.sum(fact[:lmax]**2*P_lz[:lmax])\n",
    "    \n",
    "        dvL_dlnR = sm_rad*np.sum(b*fact*d_fact*P_lz[:lmax])\n",
    "        dlnvL_dlnR = dvL_dlnR/moment_2d_b\n",
    "    \n",
    "    \n",
    "        m3 = 6*moment_2d_masked**2 * (0.5*(2*mu*moment_2d_a**2+(1.-mu)*moment_2d_c**2)+moment_2d_b**2*0.25*dlnvL_dlnR)/(moment_2d**2)\n",
    "        \n",
    "        '''\n",
    "        https://arxiv.org/pdf/astro-ph/9903486.pdf\n",
    "        \n",
    "        fact_sp = fact[:lmax]\n",
    "        # first 2*20+1 bessel functions.\n",
    "        for ii in range(1,20):\n",
    "            fact_sp += J_2np1 = scipy.special.jv(2*ii+1,sm_rad*ell)/(sm_rad*ell)*np.sqrt(2*ell+1)/np.sqrt(np.pi)\n",
    "        fact_sp = fact_sp**2\n",
    "        2b^2 + 0.5 dlnb/dlnR-c^2+   [2 mu a^2-2 b^2 +(1-mu)c^2] delta_sp.\n",
    "        moment_2d_a_sp = np.sum(a*fact_sp[:lmax]**2*P_lz[:lmax])\n",
    "        moment_2d_b_sp = np.sum(b*fact_sp[:lmax]**2*P_lz[:lmax])\n",
    "        moment_2d_c_sp = np.sum(c*fact_sp[:lmax]**2*P_lz[:lmax])\n",
    "    \n",
    "        m3 = moment_2d_masked**2 * 3*(2*moment_2d_b**2-(1.-mu)*moment_2d_c**2+\n",
    "        2*mu*moment_2d_a_sp**2-2*moment_2d_b_sp**2+\n",
    "        2*(1.-mu)*moment_2d_c_sp**2+moment_2d_b**2*0.25*dlnvL_dlnR)/(moment_2d**2)\n",
    "        \n",
    "        \n",
    "        (0.5*(4*mu*moment_2d_a**2-2.*moment_2d_b**2 +3*(1.-mu)*moment_2d_c**2)+moment_2d_b**2*0.25*dlnvL_dlnR)/(moment_2d**2)\n",
    "        \n",
    "        \n",
    "        \n",
    "        '''\n",
    "        \n",
    "        # at large scales, it should converge to \n",
    "        \n",
    "        moments.append(m3)     \n",
    "    return np.array(moments)"
   ]
  },
  {
   "cell_type": "code",
   "execution_count": 130,
   "metadata": {},
   "outputs": [
    {
     "name": "stderr",
     "output_type": "stream",
     "text": [
      "/global/homes/m/mgatti/.conda/envs/py3s/lib/python3.6/site-packages/numpy/lib/function_base.py:2167: RuntimeWarning: overflow encountered in ? (vectorized)\n",
      "  outputs = ufunc(*inputs)\n",
      "/global/homes/m/mgatti/.conda/envs/py3s/lib/python3.6/site-packages/numpy/lib/function_base.py:2167: RuntimeWarning: divide by zero encountered in ? (vectorized)\n",
      "  outputs = ufunc(*inputs)\n",
      "/global/homes/m/mgatti/.conda/envs/py3s/lib/python3.6/site-packages/ipykernel_launcher.py:42: RuntimeWarning: divide by zero encountered in true_divide\n",
      "/global/homes/m/mgatti/.conda/envs/py3s/lib/python3.6/site-packages/ipykernel_launcher.py:42: RuntimeWarning: invalid value encountered in multiply\n"
     ]
    },
    {
     "data": {
      "text/plain": [
       "[<matplotlib.lines.Line2D at 0x2aaae2b43908>]"
      ]
     },
     "execution_count": 130,
     "metadata": {},
     "output_type": "execute_result"
    },
    {
     "data": {
      "image/png": "[encoded data removed]",
      "text/plain": [
       "<Figure size 432x288 with 1 Axes>"
      ]
     },
     "metadata": {
      "needs_background": "light"
     },
     "output_type": "display_data"
    }
   ],
   "source": [
    "#m3 = compute_masked_3m(Cl_d, conf['smoothing_scales'], lmax = 2048, z = 0.5,sm_formulae = 'SC')\n",
    "m3A = compute_masked_3m(Cl_d, conf['smoothing_scales'], lmax = 2048, z = 0.5,sm_formulae = 'SC')\n",
    "plt.plot(m3A/m3)\n",
    "#ltheta = sm_rad =(3./60.)*np.pi/180. *2000\n",
    "#ltheta\n"
   ]
  },
  {
   "cell_type": "code",
   "execution_count": null,
   "metadata": {},
   "outputs": [],
   "source": []
  },
  {
   "cell_type": "code",
   "execution_count": 154,
   "metadata": {},
   "outputs": [
    {
     "name": "stderr",
     "output_type": "stream",
     "text": [
      "/global/homes/m/mgatti/.conda/envs/py3s/lib/python3.6/site-packages/ipykernel_launcher.py:12: RuntimeWarning: invalid value encountered in true_divide\n",
      "  if sys.path[0] == '':\n",
      "No handles with labels found to put in legend.\n"
     ]
    },
    {
     "name": "stdout",
     "output_type": "stream",
     "text": [
      "1.0010965753417933\n"
     ]
    },
    {
     "data": {
      "text/plain": [
       "<matplotlib.legend.Legend at 0x2aaae3921dd8>"
      ]
     },
     "execution_count": 154,
     "metadata": {},
     "output_type": "execute_result"
    },
    {
     "data": {
      "image/png": "[encoded data removed]",
      "text/plain": [
       "<Figure size 432x288 with 1 Axes>"
      ]
     },
     "metadata": {
      "needs_background": "light"
     },
     "output_type": "display_data"
    }
   ],
   "source": [
    "sm = 30.\n",
    "ell = np.arange(2000)\n",
    "sm_rad =(sm/60.)*np.pi/180.  \n",
    "A = -1./(2*np.pi*(1.-np.cos(sm_rad)))\n",
    "B = np.sqrt(np.pi/(2.*ell+1.0))\n",
    "B1 = np.sqrt(np.pi*(2.*ell+1.0))\n",
    "fact = B*(scipy.special.eval_legendre(ell+1,np.cos(sm_rad))-scipy.special.eval_legendre(ell-1,np.cos(sm_rad)))*A\n",
    "\n",
    "\n",
    "# J0 \n",
    "i = 0\n",
    "\n",
    "dn = \n",
    "J_2np1 = scipy.special.jv(2*i+1,sm_rad*ell)/(sm_rad*ell)*np.sqrt(2*ell+1)/np.sqrt(np.pi)\n",
    "print (np.mean((fact/J0)[30:]))\n",
    "plt.plot(fact/J0)\n",
    "#plt.plot(J0*(2*ell+1)/(4.*np.pi), label = 'j0')\n",
    "plt.legend()\n",
    "#plt.ylim([0,2])"
   ]
  },
  {
   "cell_type": "code",
   "execution_count": 115,
   "metadata": {},
   "outputs": [
    {
     "name": "stdout",
     "output_type": "stream",
     "text": [
      "65.52584208389402\n",
      "66.12367265729436\n"
     ]
    },
    {
     "data": {
      "text/plain": [
       "[<matplotlib.lines.Line2D at 0x2aaae2e55da0>]"
      ]
     },
     "execution_count": 115,
     "metadata": {},
     "output_type": "execute_result"
    },
    {
     "data": {
      "image/png": "[encoded data removed]",
      "text/plain": [
       "<Figure size 432x288 with 1 Axes>"
      ]
     },
     "metadata": {
      "needs_background": "light"
     },
     "output_type": "display_data"
    }
   ],
   "source": [
    "i = 0\n",
    "x = np.arange(1,20)*1./10.\n",
    "f = 0\n",
    "for x1 in x:\n",
    "    for x2 in x:\n",
    "        f += scipy.special.jv(2*i+1,x1)/x1*scipy.special.jv(2*i+1,x2)/x2\n",
    "print (f)\n",
    "\n",
    "fa = []\n",
    "f = 0.\n",
    "for  i in range(10):\n",
    "    for x1 in x:\n",
    "        for x2 in x:\n",
    "        \n",
    "            f += (2*i+1)*scipy.special.jv(2*i+1,x1)/x1*scipy.special.jv(2*i+1,x2)/x2\n",
    "    fa.append(f)\n",
    "print (f)\n",
    "plt.plot(fa)\n",
    "#for  i in range(1,100):\n",
    "#    f += scipy.special.jv(2*i+1,np.arange(100)/10.)**2\n",
    "#plt.plot(f)\n",
    "#i =0\n",
    "#plt.plot(scipy.special.jv(2*i+1,np.arange(100)/10.)**2)"
   ]
  },
  {
   "cell_type": "code",
   "execution_count": 78,
   "metadata": {},
   "outputs": [
    {
     "name": "stderr",
     "output_type": "stream",
     "text": [
      "/global/homes/m/mgatti/.conda/envs/py3s/lib/python3.6/site-packages/numpy/lib/function_base.py:2167: RuntimeWarning: overflow encountered in ? (vectorized)\n",
      "  outputs = ufunc(*inputs)\n",
      "/global/homes/m/mgatti/.conda/envs/py3s/lib/python3.6/site-packages/numpy/lib/function_base.py:2167: RuntimeWarning: divide by zero encountered in ? (vectorized)\n",
      "  outputs = ufunc(*inputs)\n",
      "/global/homes/m/mgatti/.conda/envs/py3s/lib/python3.6/site-packages/ipykernel_launcher.py:38: RuntimeWarning: divide by zero encountered in true_divide\n",
      "/global/homes/m/mgatti/.conda/envs/py3s/lib/python3.6/site-packages/ipykernel_launcher.py:38: RuntimeWarning: invalid value encountered in multiply\n",
      "/global/homes/m/mgatti/.conda/envs/py3s/lib/python3.6/site-packages/ipykernel_launcher.py:127: RuntimeWarning: divide by zero encountered in true_divide\n",
      "/global/homes/m/mgatti/.conda/envs/py3s/lib/python3.6/site-packages/ipykernel_launcher.py:127: RuntimeWarning: invalid value encountered in multiply\n"
     ]
    },
    {
     "data": {
      "text/plain": [
       "<matplotlib.legend.Legend at 0x2aaae269e390>"
      ]
     },
     "execution_count": 78,
     "metadata": {},
     "output_type": "execute_result"
    },
    {
     "data": {
      "image/png": "[encoded data removed]",
      "text/plain": [
       "<Figure size 432x288 with 1 Axes>"
      ]
     },
     "metadata": {
      "needs_background": "light"
     },
     "output_type": "display_data"
    }
   ],
   "source": [
    "m3 = compute_masked_3m(Cl_d, conf['smoothing_scales'], lmax = 2048, z = 0.5,sm_formulae = 'SC')\n",
    "m3a = compute_masked_3mA(Cl_d, conf['smoothing_scales'], lmax = 2048, z = 0.5,sm_formulae = 'SC')\n",
    "m3PT = compute_masked_3mA(Cl_d, conf['smoothing_scales'], lmax = 2048, z = 0.5,sm_formulae = 'NL')\n",
    "\n",
    "plt.plot(m3a/m3PT, label = 'new')\n",
    "plt.plot(m3/m3PT, label = 'wrong')\n",
    "plt.legend()"
   ]
  },
  {
   "cell_type": "code",
   "execution_count": 22,
   "metadata": {},
   "outputs": [
    {
     "name": "stderr",
     "output_type": "stream",
     "text": [
      "/global/homes/m/mgatti/.conda/envs/py3s/lib/python3.6/site-packages/ipykernel_launcher.py:38: RuntimeWarning: divide by zero encountered in true_divide\n",
      "/global/homes/m/mgatti/.conda/envs/py3s/lib/python3.6/site-packages/ipykernel_launcher.py:38: RuntimeWarning: invalid value encountered in multiply\n"
     ]
    }
   ],
   "source": [
    "m2_k = compute_masked_2m(Cl_k, conf['smoothing_scales'], lmax = 2048)\n",
    "Cl_k_masked = np.matmul(Cl_k[:2048],np.array(matrix['ME']).reshape(2048,2048).T)\n",
    "m2_k_masked = compute_masked_2m(Cl_k_masked, conf['smoothing_scales'], lmax = 2048)\n",
    "\n",
    "\n",
    "m2 = compute_masked_2m(Cl_d, conf['smoothing_scales'], lmax = 2048)\n",
    "m3 = compute_masked_3m(Cl_d, conf['smoothing_scales'], lmax = 2048, z = 0.5,sm_formulae = 'GM')\n",
    "\n",
    "Cl_d_masked = np.matmul(Cl_d[:2048],np.array(matrix['Mgg']).reshape(2048,2048).T)\n",
    "\n",
    "m2_masked = compute_masked_2m(Cl_d_masked, conf['smoothing_scales'], lmax = 2048)\n",
    "m3_masked = 1./f_sky*compute_masked_3m(Cl_d, conf['smoothing_scales'],P_lz_masked = Cl_d_masked, lmax = 2048, sm_formulae = 'GM')\n"
   ]
  },
  {
   "cell_type": "code",
   "execution_count": 38,
   "metadata": {},
   "outputs": [
    {
     "data": {
      "text/plain": [
       "<matplotlib.legend.Legend at 0x2aaafa284ac8>"
      ]
     },
     "execution_count": 38,
     "metadata": {},
     "output_type": "execute_result"
    },
    {
     "data": {
      "image/png": "[encoded data removed]",
      "text/plain": [
       "<Figure size 432x216 with 2 Axes>"
      ]
     },
     "metadata": {
      "needs_background": "light"
     },
     "output_type": "display_data"
    }
   ],
   "source": [
    "fig, ax = plt.subplots(1,2, figsize=(6,3),sharey = True)\n",
    "\n",
    "plt.suptitle('measured full/partial sky vs f_sky.')\n",
    "ax[0].plot(mcal_moments.moments['kEkE_masked']['0_0']/mcal_moments.moments['kEkE']['0_0'],color='r')\n",
    "ax[0].plot(mcal_moments.moments['dd_masked']['0_0']/mcal_moments.moments['dd']['0_0'],color='blue')\n",
    "ax[0].plot(f_sky*np.ones(len(conf['smoothing_scales'])),color='black',linestyle = 'dashed')\n",
    "ax[0].plot(m2_masked/m2, label='density mask theory',color='g')\n",
    "\n",
    "\n",
    "ax[0].plot(m2_k_masked/m2_k,color='r',linestyle='dashed')\n",
    "\n",
    "ax[1].plot(mcal_moments.moments['kEkE_masked']['0_0_0']/mcal_moments.moments['kEkE']['0_0_0'], label='meas shear',color='r')\n",
    "ax[1].plot(m3_masked/m3, label='density mask theory',color='g')\n",
    "\n",
    "ax[1].plot(mcal_moments.moments['dd_masked']['0_0_0']/mcal_moments.moments['dd']['0_0_0'], label='meas density',color='blue')\n",
    "ax[1].plot(f_sky*np.ones(len(conf['smoothing_scales'])),color='black',linestyle = 'dashed', label = 'f_sky')\n",
    "ax[0].set_ylabel('2nd_moment')\n",
    "ax[1].set_ylabel('3rd_moment')\n",
    "ax[1].legend(loc='upper center', bbox_to_anchor=(-0.15, -0.3), ncol=4)\n",
    "\n",
    "# comparison with theory.\n"
   ]
  },
  {
   "cell_type": "markdown",
   "metadata": {},
   "source": [
    "# test masked theory"
   ]
  },
  {
   "cell_type": "code",
   "execution_count": 19,
   "metadata": {},
   "outputs": [],
   "source": []
  },
  {
   "cell_type": "code",
   "execution_count": 416,
   "metadata": {},
   "outputs": [
    {
     "name": "stderr",
     "output_type": "stream",
     "text": [
      "/global/homes/m/mgatti/.conda/envs/py3s/lib/python3.6/site-packages/numpy/lib/function_base.py:2167: RuntimeWarning: overflow encountered in ? (vectorized)\n",
      "  outputs = ufunc(*inputs)\n",
      "/global/homes/m/mgatti/.conda/envs/py3s/lib/python3.6/site-packages/numpy/lib/function_base.py:2167: RuntimeWarning: divide by zero encountered in ? (vectorized)\n",
      "  outputs = ufunc(*inputs)\n",
      "/global/homes/m/mgatti/.conda/envs/py3s/lib/python3.6/site-packages/ipykernel_launcher.py:38: RuntimeWarning: divide by zero encountered in true_divide\n",
      "/global/homes/m/mgatti/.conda/envs/py3s/lib/python3.6/site-packages/ipykernel_launcher.py:38: RuntimeWarning: invalid value encountered in multiply\n"
     ]
    },
    {
     "data": {
      "text/plain": [
       "array([0.79601053, 0.9816215 , 1.12489252, 1.14309135, 1.09217771,\n",
       "       1.03805051, 0.97945415, 0.93331433, 0.90612968, 0.80106955])"
      ]
     },
     "execution_count": 416,
     "metadata": {},
     "output_type": "execute_result"
    },
    {
     "data": {
      "image/png": "[encoded data removed]",
      "text/plain": [
       "<Figure size 360x144 with 2 Axes>"
      ]
     },
     "metadata": {
      "needs_background": "light"
     },
     "output_type": "display_data"
    }
   ],
   "source": [
    "# theory comparison!\n",
    "m2 = compute_masked_2m(Cl_d, conf['smoothing_scales'], lmax = 2048)\n",
    "m3 = compute_masked_3m(Cl_d, conf['smoothing_scales'], lmax = 2048, sm_formulae = 'GM')\n",
    "\n",
    "Cl_d_masked = np.matmul(Cl_d[:2048],np.array(matrix['Mgg']).reshape(2048,2048).T)\n",
    "\n",
    "m2_masked = compute_masked_2m(Cl_d_masked, conf['smoothing_scales'], lmax = 2048)\n",
    "m3_masked = compute_masked_3m(Cl_d, conf['smoothing_scales'],P_lz_masked = Cl_d_masked/f_sky, lmax = 2048, sm_formulae = 'GM')\n",
    "\n",
    "fig, ax = plt.subplots(1,2, figsize=(5,2))\n",
    "ax[0].plot(mcal_moments.moments['dd']['0_0']/m2)\n",
    "ax[1].plot(mcal_moments.moments['dd']['0_0_0']/m3)\n",
    "#ax[1].plot(m3)\n",
    "\n",
    "mcal_moments.moments['dd']['0_0_0']/m3"
   ]
  },
  {
   "cell_type": "code",
   "execution_count": 418,
   "metadata": {},
   "outputs": [
    {
     "data": {
      "image/png": "[encoded data removed]",
      "text/plain": [
       "<Figure size 360x144 with 2 Axes>"
      ]
     },
     "metadata": {
      "needs_background": "light"
     },
     "output_type": "display_data"
    },
    {
     "data": {
      "text/plain": [
       "(0.8, 1.2)"
      ]
     },
     "execution_count": 418,
     "metadata": {},
     "output_type": "execute_result"
    },
    {
     "data": {
      "image/png": "[encoded data removed]",
      "text/plain": [
       "<Figure size 360x144 with 2 Axes>"
      ]
     },
     "metadata": {
      "needs_background": "light"
     },
     "output_type": "display_data"
    }
   ],
   "source": [
    "Cl_k_masked = np.matmul(Cl_k[:2048],np.array(matrix['ME']).reshape(2048,2048).T)\n",
    "#Cl_k_masked = np.matmul(MEE[:2048,:][:,:2048],Cl_k[:2048])\n",
    "\n",
    "\n",
    "m2 = compute_masked_2m(Cl_k, conf['smoothing_scales'], lmax = 2048)\n",
    "m2_masked = compute_masked_2m(Cl_k_masked, conf['smoothing_scales'], lmax = 2048)\n",
    "\n",
    "fig, ax = plt.subplots(1,2, figsize=(5,2))\n",
    "ax[0].plot(mcal_moments.moments['kEkE']['0_0']/m2)\n",
    "ax[1].plot(mcal_moments.moments['kEkE_masked']['0_0']/m2_masked)\n",
    "ax[0].set_ylim([0.8,1.2])\n",
    "ax[1].set_ylim([0.8,1.2])\n",
    "plt.show()\n",
    "\n",
    "Cl_d_masked_th = np.matmul(np.array(matrix['Mgg']).reshape(2048,2048),Cl_d[:2048])\n",
    "#Cl_d_masked_th = np.matmul(Mgg[:2048,:][:,:2048],Cl_d[:2048])\n",
    "m2 = compute_masked_2m(Cl_d, conf['smoothing_scales'], lmax = 2048)\n",
    "m2_masked = compute_masked_2m(Cl_d_masked_th, conf['smoothing_scales'], lmax = 2048)\n",
    "\n",
    "fig, ax = plt.subplots(1,2, figsize=(5,2))\n",
    "ax[0].plot(mcal_moments.moments['dd']['0_0']/m2)\n",
    "ax[1].plot(mcal_moments.moments['dd_masked']['0_0']/m2_masked)\n",
    "\n",
    "\n",
    "ax[1].plot(mcal_moments.moments['dd_masked']['0_0']/f_sky/mcal_moments.moments['dd']['0_0'])\n",
    "\n",
    "ax[0].set_ylim([0.8,1.2])\n",
    "ax[1].set_ylim([0.8,1.2])\n",
    "#\n"
   ]
  },
  {
   "cell_type": "markdown",
   "metadata": {},
   "source": [
    "# test extra information in FLASK 4096 maps"
   ]
  },
  {
   "cell_type": "code",
   "execution_count": null,
   "metadata": {},
   "outputs": [
    {
     "name": "stdout",
     "output_type": "stream",
     "text": [
      "1024\n",
      "4096\n"
     ]
    }
   ],
   "source": [
    "%matplotlib inline\n",
    "import matplotlib.pyplot as plt\n",
    "import healpy as hp\n",
    "import numpy as np\n",
    "import pyfits as pf\n",
    "mute = pf.open('/global/cscratch1/sd/mgatti/Mass_Mapping/taka/maps_0/k_1024_10.fits')\n",
    "k = mute[1].data['field']\n",
    "mute = pf.open('/global/cscratch1/sd/mgatti/Mass_Mapping/taka/maps_0/k_4096_10.fits')\n",
    "k_4096 = mute[1].data['field']\n",
    "\n",
    "# compute Cl\n",
    "print (1024)\n",
    "Cl_k = hp.anafast(k)\n",
    "print (4096)\n",
    "Cl_k_4096 = hp.anafast(k_4096)\n",
    "\n",
    "print('done')\n",
    "conf = dict()\n",
    "conf['smoothing_scales'] = np.array([3.2,5.1,8.2,13.1,21.0,33.6,54.,86.,138,221.]) # arcmin\n",
    "_,Cl_pix = hp.sphtfunc.pixwin(1024,pol=True)\n",
    "\n",
    "m2 = compute_masked_2m(Cl_k, conf['smoothing_scales'], lmax = 2048)\n",
    "m2_4096_2048 = compute_masked_2m(Cl_k_4096[:len(Cl_pix)]*Cl_pix**2, conf['smoothing_scales'], lmax = 2048)\n",
    "m2_4096 = compute_masked_2m(Cl_k_4096[:len(Cl_pix)]*Cl_pix**2, conf['smoothing_scales'], lmax = 3072)\n",
    "\n",
    "\n",
    "plt.plot(conf['smoothing_scales'],m2_4096/m2_4096_2048,label = 'lmax cut')\n",
    "plt.plot(conf['smoothing_scales'],m2_4096_2048/m2, label ='ud_grade')\n",
    "plt.legend()\n",
    "plt.xscale('log', nonposx='clip')\n",
    "\n",
    "'''\n",
    "caveat: \n",
    "ud_grade : 4096 should be deconvolved by pix functionat nside = 4096.\n",
    "lmax_cut: in principle, we cut that bit during the KS process, so it should'nt really be important\n",
    "\n",
    "'''"
   ]
  },
  {
   "cell_type": "code",
   "execution_count": 1,
   "metadata": {},
   "outputs": [
    {
     "data": {
      "text/plain": [
       "1"
      ]
     },
     "execution_count": 1,
     "metadata": {},
     "output_type": "execute_result"
    }
   ],
   "source": [
    "1"
   ]
  },
  {
   "cell_type": "code",
   "execution_count": null,
   "metadata": {},
   "outputs": [],
   "source": [
    "IndexToDeclRa(index, nside,nest= False):\n",
    "theta,phi=hp.pixelfunc.pix2ang(nside ,index,nest=nest)\n",
    "return -np.degrees(theta-np.pi/2.),np.degrees(phi)"
   ]
  },
  {
   "cell_type": "code",
   "execution_count": 2,
   "metadata": {},
   "outputs": [
    {
     "ename": "NameError",
     "evalue": "name 'ra1' is not defined",
     "output_type": "error",
     "traceback": [
      "\u001b[0;31m---------------------------------------------------------------------------\u001b[0m",
      "\u001b[0;31mNameError\u001b[0m                                 Traceback (most recent call last)",
      "\u001b[0;32m<ipython-input-2-5839283932fc>\u001b[0m in \u001b[0;36m<module>\u001b[0;34m\u001b[0m\n\u001b[0;32m----> 1\u001b[0;31m \u001b[0mlen\u001b[0m\u001b[0;34m(\u001b[0m\u001b[0mra1\u001b[0m\u001b[0;34m)\u001b[0m\u001b[0;34m,\u001b[0m\u001b[0mlen\u001b[0m\u001b[0;34m(\u001b[0m\u001b[0mnp\u001b[0m\u001b[0;34m.\u001b[0m\u001b[0munique\u001b[0m\u001b[0;34m(\u001b[0m\u001b[0mpix\u001b[0m\u001b[0;34m)\u001b[0m\u001b[0;34m)\u001b[0m\u001b[0;34m\u001b[0m\u001b[0;34m\u001b[0m\u001b[0m\n\u001b[0m",
      "\u001b[0;31mNameError\u001b[0m: name 'ra1' is not defined"
     ]
    }
   ],
   "source": [
    "len(ra1),len(np.unique(pix))"
   ]
  },
  {
   "cell_type": "code",
   "execution_count": 16,
   "metadata": {},
   "outputs": [],
   "source": [
    "'''\n",
    "Need to compare four cases\n",
    "1) uniform distribution across the footprint\n",
    "2) not uniform distribution\n",
    "3) impact of weights\n",
    "4) de-noise\n",
    "\n",
    "'''\n",
    "\n",
    "\n",
    "import gc\n",
    "import pyfits as pf\n",
    "import pickle\n",
    "import numpy as np\n",
    "import healpy as hp\n",
    "import os\n",
    "from Moments_analysis import convert_to_pix_coord, IndexToDeclRa, apply_random_rotation, addSourceEllipticity\n",
    "def save_obj(name, obj):\n",
    "    with open(name + '.pkl', 'wb') as f:\n",
    "        pickle.dump(obj, f, pickle.HIGHEST_PROTOCOL)\n",
    "        f.close()\n",
    "\n",
    "def load_obj(name):\n",
    "    with open(name + '.pkl', 'rb') as f:\n",
    "        mute =  pickle.load(f)\n",
    "        f.close()\n",
    "    return mute\n",
    "\n",
    "\n",
    "\n",
    "seed = 1\n",
    "\n",
    "FLASK_path = '/global/cscratch1/sd/faoli/flask_desy3/4096/'\n",
    "output = '/global/cscratch1/sd/mgatti/Mass_Mapping/moments/flask/'\n",
    "mcal_catalog = load_obj('/project/projectdirs/des/mass_maps/Maps_final/data_catalogs_weighted')\n",
    "    \n",
    "i = 0 # first tomo bin\n",
    "FLASK_shear = pf.open(FLASK_path+'seed'+str(seed+1)+'/kappa-gamma-f10z'+str(i+1)+'.fits')\n",
    "k = FLASK_shear[1].data['signal'].reshape(196608*1024)\n",
    "g1 = FLASK_shear[1].data['Q-pol'].reshape(196608*1024)\n",
    "g2 = FLASK_shear[1].data['U-pol'].reshape(196608*1024)\n",
    "del FLASK_shear\n",
    "\n",
    "# pixels & random pixels **********\n",
    "dec1 = mcal_catalog[i]['dec']\n",
    "ra1 = mcal_catalog[i]['ra']\n",
    "w = mcal_catalog[i]['w']\n",
    "pix = convert_to_pix_coord(ra1,dec1, nside=4096)\n",
    "\n",
    "nside = 1024\n",
    "pix_1024 = convert_to_pix_coord(ra1,dec1, nside=nside)\n",
    "\n",
    "index_pix_rndm = np.random.randint(0,len(np.unique(pix)),len(pix))  \n",
    "pix_rndm = np.unique(pix)[index_pix_rndm]\n",
    "dec1_rndm, ra1_rndm = IndexToDeclRa(pix_rndm, 4096,nest= False)\n",
    "pix_rndm_1024 = convert_to_pix_coord(ra1_rndm,dec1_rndm, nside=nside)\n",
    "\n",
    "\n",
    "g1_y3 = g1[pix]\n",
    "g2_y3 = g2[pix]\n",
    "g1_rndm = g1[pix_rndm]\n",
    "g2_rndm = g2[pix_rndm]\n",
    "\n",
    "\n",
    "es1,es2 = apply_random_rotation(mcal_catalog[i]['e1'], mcal_catalog[i]['e2'])\n",
    "e1_y3,e2_y3 = addSourceEllipticity({'shear1':g1_y3,'shear2':g2_y3},{'e1':es1,'e2':es2},es_colnames=(\"e1\",\"e2\"))\n",
    "e1_y3_rndm,e2_y3_rndm = addSourceEllipticity({'shear1':g1_rndm,'shear2':g2_rndm},{'e1':es1,'e2':es2},es_colnames=(\"e1\",\"e2\"))\n",
    "         \n",
    "# repeat the rotation such that we have a different noise realisation for the noise map.\n",
    "es1,es2 = apply_random_rotation(mcal_catalog[i]['e1'], mcal_catalog[i]['e2'])\n",
    "        \n",
    "    \n",
    "\n",
    "k_orig = np.zeros(hp.nside2npix(nside))\n",
    "n_map = np.zeros(hp.nside2npix(nside))\n",
    "n_map_unif = np.zeros(hp.nside2npix(nside))\n",
    "\n",
    "g1_map = np.zeros(hp.nside2npix(nside))\n",
    "g2_map = np.zeros(hp.nside2npix(nside))\n",
    "g1_map_unif = np.zeros(hp.nside2npix(nside))\n",
    "g2_map_unif = np.zeros(hp.nside2npix(nside))\n",
    "e1_map = np.zeros(hp.nside2npix(nside))\n",
    "e2_map = np.zeros(hp.nside2npix(nside))\n",
    "e1_map_unif = np.zeros(hp.nside2npix(nside))\n",
    "e2_map_unif = np.zeros(hp.nside2npix(nside))\n",
    "       \n",
    "e1_noise_map = np.zeros(hp.nside2npix(nside))\n",
    "e2_noise_map = np.zeros(hp.nside2npix(nside))\n",
    "e1_noise_map_unif = np.zeros(hp.nside2npix(nside))\n",
    "e2_noise_map_unif = np.zeros(hp.nside2npix(nside))\n",
    "  \n",
    "unique_pix, idx, idx_rep = np.unique(pix_1024, return_index=True, return_inverse=True)\n",
    "n_map[unique_pix] += np.bincount(idx_rep, weights=np.ones(len(pix_1024)))\n",
    "g1_map[unique_pix] += np.bincount(idx_rep, weights= g1_y3)\n",
    "g2_map[unique_pix] += np.bincount(idx_rep, weights= g2_y3)\n",
    "e1_map[unique_pix] += np.bincount(idx_rep, weights= e1_y3)\n",
    "e2_map[unique_pix] += np.bincount(idx_rep, weights= e2_y3)\n",
    "e1_noise_map[unique_pix] += np.bincount(idx_rep, weights= es1)\n",
    "e2_noise_map[unique_pix] += np.bincount(idx_rep, weights= es2)\n",
    "mask_sims = n_map != 0.\n",
    "g1_map[mask_sims] = g1_map[mask_sims]/n_map[mask_sims]\n",
    "g2_map[mask_sims] = g2_map[mask_sims]/n_map[mask_sims]\n",
    "e1_map[mask_sims] = e1_map[mask_sims]/n_map[mask_sims]\n",
    "e2_map[mask_sims] = e2_map[mask_sims]/n_map[mask_sims]\n",
    "e1_noise_map[mask_sims] = e1_noise_map[mask_sims]/n_map[mask_sims]\n",
    "e2_noise_map[mask_sims] = e2_noise_map[mask_sims]/n_map[mask_sims]\n",
    "\n",
    "\n",
    "unique_pix, idx, idx_rep = np.unique(pix_rndm_1024, return_index=True, return_inverse=True)\n",
    "n_map_unif[unique_pix] += np.bincount(idx_rep, weights=np.ones(len(pix_rndm_1024)))\n",
    "g1_map_unif[unique_pix] += np.bincount(idx_rep, weights= g1_y3)\n",
    "g2_map_unif[unique_pix] += np.bincount(idx_rep, weights= g2_y3)\n",
    "e1_map_unif[unique_pix] += np.bincount(idx_rep, weights= e1_y3)\n",
    "e2_map_unif[unique_pix] += np.bincount(idx_rep, weights= e2_y3)\n",
    "e1_noise_map_unif[unique_pix] += np.bincount(idx_rep, weights= es1)\n",
    "e2_noise_map_unif[unique_pix] += np.bincount(idx_rep, weights= es2)\n",
    "\n",
    "mask_sims = n_map_unif != 0.\n",
    "g1_map_unif[mask_sims] = g1_map_unif[mask_sims]/n_map_unif[mask_sims]\n",
    "g2_map_unif[mask_sims] = g2_map_unif[mask_sims]/n_map_unif[mask_sims]\n",
    "e1_map_unif[mask_sims] = e1_map_unif[mask_sims]/n_map_unif[mask_sims]\n",
    "e2_map_unif[mask_sims] = e2_map_unif[mask_sims]/n_map_unif[mask_sims]\n",
    "e1_noise_map_unif[mask_sims] = e1_noise_map_unif[mask_sims]/n_map_unif[mask_sims]\n",
    "e2_noise_map_unif[mask_sims] = e2_noise_map_unif[mask_sims]/n_map_unif[mask_sims]\n"
   ]
  },
  {
   "cell_type": "code",
   "execution_count": 39,
   "metadata": {},
   "outputs": [
    {
     "data": {
      "image/png": "[encoded data removed]",
      "text/plain": [
       "<Figure size 612x388.8 with 2 Axes>"
      ]
     },
     "metadata": {
      "needs_background": "light"
     },
     "output_type": "display_data"
    }
   ],
   "source": [
    "hp.mollview(g1_map_unif-g1_map)"
   ]
  },
  {
   "cell_type": "code",
   "execution_count": 32,
   "metadata": {},
   "outputs": [
    {
     "name": "stderr",
     "output_type": "stream",
     "text": [
      "/global/homes/m/mgatti/.conda/envs/py3s/lib/python3.6/site-packages/ipykernel_launcher.py:7: RuntimeWarning: divide by zero encountered in true_divide\n",
      "  import sys\n",
      "/global/homes/m/mgatti/.conda/envs/py3s/lib/python3.6/site-packages/ipykernel_launcher.py:7: RuntimeWarning: invalid value encountered in multiply\n",
      "  import sys\n"
     ]
    }
   ],
   "source": [
    "# measure convergence field\n",
    "def return_Cl(shear1,shear2):\n",
    "    lmax = 2*nside\n",
    "    KQU_masked_maps = [shear1,shear1,shear2]\n",
    "    ell, emm = hp.Alm.getlm(lmax=lmax)\n",
    "    alms = hp.map2alm(KQU_masked_maps, lmax=lmax, pol=True)  # Spin transform!\n",
    "    alms_E = alms[1] * 1. * ((ell * (ell + 1.)) / ((ell + 2.) * (ell - 1))) ** 0.5\n",
    "    return hp.alm2cl(alms_E,lmax=lmax )\n",
    "    \n",
    "Cl_uniform = return_Cl(g1_map_unif,g2_map_unif)\n",
    "Cl = return_Cl(g1_map,g2_map)\n",
    "\n",
    "Cl_e_uniform = return_Cl(e1_map_unif,e2_map_unif)\n",
    "Cl_e = return_Cl(e1_map,e2_map)\n",
    "\n",
    "Cl_n_uniform = return_Cl(e1_noise_map_unif,e2_noise_map_unif)\n",
    "Cl_n = return_Cl(e1_noise_map,e2_noise_map)"
   ]
  },
  {
   "cell_type": "code",
   "execution_count": 46,
   "metadata": {},
   "outputs": [
    {
     "data": {
      "text/plain": [
       "[<matplotlib.lines.Line2D at 0x2aaae690bef0>]"
      ]
     },
     "execution_count": 46,
     "metadata": {},
     "output_type": "execute_result"
    },
    {
     "data": {
      "image/png": "[encoded data removed]",
      "text/plain": [
       "<Figure size 432x288 with 1 Axes>"
      ]
     },
     "metadata": {
      "needs_background": "light"
     },
     "output_type": "display_data"
    }
   ],
   "source": [
    "#plt.plot((Cl_e[3:]-Cl_n[3:])*np.arange(len(Cl_uniform[3:])))\n",
    "plt.plot(Cl_uniform[3:]*np.arange(len(Cl_uniform[3:])))\n",
    "plt.plot(Cl[3:]*np.arange(len(Cl_uniform[3:])))"
   ]
  },
  {
   "cell_type": "code",
   "execution_count": 50,
   "metadata": {},
   "outputs": [],
   "source": [
    "output_FLASK = '/global/cscratch1/sd/mgatti/Mass_Mapping/moments/flask/'\n",
    "\n",
    "n_FLASK_real = 50\n",
    "tomo_bins = [0]\n",
    "tomo_bins_lens = [0]\n",
    "\n",
    "\n",
    "seed = 1\n",
    "# I want to compute the full power spectrum of FLASK covariance for KS and density field as well. \n",
    "PS_dict = dict()\n",
    "for i in tomo_bins:\n",
    "    mute = pf.open(FLASK_path+'seed'+str(seed+1)+'/kappa-gamma-f10z{0}.fits'.format(i+1))\n",
    "#for i in tomo_bins_lens:\n",
    "    mute = pf.open(FLASK_path+'seed'+str(seed+1)+'/map-f{0}z{0}.fits'.format(i+1))\n",
    "#"
   ]
  },
  {
   "cell_type": "code",
   "execution_count": 54,
   "metadata": {},
   "outputs": [],
   "source": []
  },
  {
   "cell_type": "code",
   "execution_count": 55,
   "metadata": {},
   "outputs": [
    {
     "ename": "NameError",
     "evalue": "name 'FLASK_shear' is not defined",
     "output_type": "error",
     "traceback": [
      "\u001b[0;31m---------------------------------------------------------------------------\u001b[0m",
      "\u001b[0;31mNameError\u001b[0m                                 Traceback (most recent call last)",
      "\u001b[0;32m<ipython-input-55-d10ecee799aa>\u001b[0m in \u001b[0;36m<module>\u001b[0;34m\u001b[0m\n\u001b[0;32m----> 1\u001b[0;31m \u001b[0mg1\u001b[0m \u001b[0;34m=\u001b[0m \u001b[0mFLASK_shear\u001b[0m\u001b[0;34m[\u001b[0m\u001b[0;36m1\u001b[0m\u001b[0;34m]\u001b[0m\u001b[0;34m.\u001b[0m\u001b[0mdata\u001b[0m\u001b[0;34m[\u001b[0m\u001b[0;34m'Q-pol'\u001b[0m\u001b[0;34m]\u001b[0m\u001b[0;34m.\u001b[0m\u001b[0mreshape\u001b[0m\u001b[0;34m(\u001b[0m\u001b[0;36m196608\u001b[0m\u001b[0;34m*\u001b[0m\u001b[0;36m1024\u001b[0m\u001b[0;34m)\u001b[0m\u001b[0;34m\u001b[0m\u001b[0;34m\u001b[0m\u001b[0m\n\u001b[0m\u001b[1;32m      2\u001b[0m \u001b[0mg2\u001b[0m \u001b[0;34m=\u001b[0m \u001b[0mFLASK_shear\u001b[0m\u001b[0;34m[\u001b[0m\u001b[0;36m1\u001b[0m\u001b[0;34m]\u001b[0m\u001b[0;34m.\u001b[0m\u001b[0mdata\u001b[0m\u001b[0;34m[\u001b[0m\u001b[0;34m'U-pol'\u001b[0m\u001b[0;34m]\u001b[0m\u001b[0;34m.\u001b[0m\u001b[0mreshape\u001b[0m\u001b[0;34m(\u001b[0m\u001b[0;36m196608\u001b[0m\u001b[0;34m*\u001b[0m\u001b[0;36m1024\u001b[0m\u001b[0;34m)\u001b[0m\u001b[0;34m\u001b[0m\u001b[0;34m\u001b[0m\u001b[0m\n\u001b[1;32m      3\u001b[0m \u001b[0;34m\u001b[0m\u001b[0m\n\u001b[1;32m      4\u001b[0m \u001b[0mKQU_masked_maps\u001b[0m \u001b[0;34m=\u001b[0m \u001b[0;34m[\u001b[0m\u001b[0mg1\u001b[0m\u001b[0;34m,\u001b[0m\u001b[0mg1\u001b[0m\u001b[0;34m,\u001b[0m\u001b[0mg2\u001b[0m\u001b[0;34m]\u001b[0m\u001b[0;34m\u001b[0m\u001b[0;34m\u001b[0m\u001b[0m\n\u001b[1;32m      5\u001b[0m \u001b[0mell\u001b[0m\u001b[0;34m,\u001b[0m \u001b[0memm\u001b[0m \u001b[0;34m=\u001b[0m \u001b[0mhp\u001b[0m\u001b[0;34m.\u001b[0m\u001b[0mAlm\u001b[0m\u001b[0;34m.\u001b[0m\u001b[0mgetlm\u001b[0m\u001b[0;34m(\u001b[0m\u001b[0mlmax\u001b[0m\u001b[0;34m=\u001b[0m\u001b[0;36m2048\u001b[0m\u001b[0;34m)\u001b[0m\u001b[0;34m\u001b[0m\u001b[0;34m\u001b[0m\u001b[0m\n",
      "\u001b[0;31mNameError\u001b[0m: name 'FLASK_shear' is not defined"
     ]
    }
   ],
   "source": [
    "g1 = FLASK_shear[1].data['Q-pol'].reshape(196608*1024)\n",
    "g2 = FLASK_shear[1].data['U-pol'].reshape(196608*1024)\n",
    "\n",
    "KQU_masked_maps = [g1,g1,g2]\n",
    "ell, emm = hp.Alm.getlm(lmax=2048)\n",
    "alms = hp.map2alm(KQU_masked_maps, lmax=2048, pol=True)  # Spin transform!\n",
    "alms_E = alms[1] * 1. * ((ell * (ell + 1.)) / ((ell + 2.) * (ell - 1))) ** 0.5\n",
    "Cl_k = hp.alm2cl(alms_E,lmax=2048)"
   ]
  },
  {
   "cell_type": "code",
   "execution_count": null,
   "metadata": {},
   "outputs": [],
   "source": []
  }
 ],
 "metadata": {
  "kernelspec": {
   "display_name": "Custom Env",
   "language": "python",
   "name": "py3s"
  },
  "language_info": {
   "codemirror_mode": {
    "name": "ipython",
    "version": 3
   },
   "file_extension": ".py",
   "mimetype": "text/x-python",
   "name": "python",
   "nbconvert_exporter": "python",
   "pygments_lexer": "ipython3",
   "version": "3.6.10"
  }
 },
 "nbformat": 4,
 "nbformat_minor": 4
}
