{
 "cells": [
  {
   "cell_type": "code",
   "execution_count": 16,
   "metadata": {},
   "outputs": [
    {
     "name": "stdout",
     "output_type": "stream",
     "text": [
      "done\n"
     ]
    }
   ],
   "source": [
    "'''\n",
    "This code reads all the moments from FLASK simulations;\n",
    "it performs the noise subtraction (FLASK moments haven0t been de-noised)\n",
    "and if needed add the 'modelling uncertainties'. Then it saves a list of corrected\n",
    "FLASK moments objects - this is what is needed to run the analysis.\n",
    "\n",
    "'''\n",
    "\n",
    "'''\n",
    "de-noise.\n",
    "Based on FLASK:\n",
    "only auto-moments for <dd> ans <ddd>.\n",
    "<dd> : <nn> needs to be subtracted, <nd>  2order smaller\n",
    "<ddd> : <nnn> needs to be subtracted, <ndd>, <nnd>  2order smaller\n",
    "\n",
    "<dK> : need to subtract <dKN> , others zero.\n",
    "<dKK>: need to subtract everything, dkNkN dominant\n",
    "<KKd>: need to subtract everything\n",
    "'''\n",
    "\n",
    "import copy\n",
    "import os\n",
    "import pickle\n",
    "from Moments_analysis import moments_map\n",
    "\n",
    "def save_obj(name, obj):\n",
    "    with open(name + '.pkl', 'wb') as f:\n",
    "        pickle.dump(obj, f, pickle.HIGHEST_PROTOCOL)\n",
    "        \n",
    "def load_obj(name):\n",
    "    with open(name + '.pkl', 'rb') as f:\n",
    "        return pickle.load(f)#, encoding='latin1')\n",
    "    \n",
    "output_FLASK = '/global/cscratch1/sd/mgatti/Mass_Mapping/moments/flask/'\n",
    "N_rel = 130\n",
    "mapp = []\n",
    "bins_lenses = [0, 1, 2, 3]\n",
    "bins_WL = [0, 1, 2, 3]\n",
    "# dict_keys(['kEkE', 'kBkB', 'kEkN', 'kNkN', 'kNkE', 'dKK', 'Kdd', 'dkNkN', 'nKK', 'nkNkN', 'kNdd', 'knn', 'kNnn', 'dd', 'nn', 'dnn', 'ndd'])\n",
    " \n",
    "for i in range(N_rel):\n",
    "    mute = load_obj(output_FLASK+'moments_seed_'+str(i+1))\n",
    "    mapp.append(mute)\n",
    "    if i == 0 :\n",
    "        mapp_ave = copy.copy(mute)\n",
    "        for key in mapp_ave.moments.keys():\n",
    "            for key2 in mapp_ave.moments[key].keys():\n",
    "                mapp_ave.moments[key][key2] = mapp_ave.moments[key][key2]/N_rel\n",
    "    else:\n",
    "        for key in mapp_ave.moments.keys():\n",
    "            for key2 in mapp_ave.moments[key].keys():\n",
    "                mapp_ave.moments[key][key2] += mute.moments[key][key2]/N_rel\n",
    "    for b1 in bins_WL:\n",
    "        # noise subtraction\n",
    "        binx = '{0}_{0}'.format(b1)\n",
    "        mapp[i].moments['kEkE'][binx] -= mapp[i].moments['kNkN'][binx]\n",
    "        mapp[i].moments['kBkB'][binx] -= mapp[i].moments['kNkN'][binx]\n",
    "    for b1 in bins_lenses:\n",
    "        for b2 in bins_WL:\n",
    "            binx = '{0}_{1}'.format(b1,b2)\n",
    "            mapp[i].moments['dKK'][binx] -= mapp[i].moments['dkNkN'][binx]\n",
    "            binx = '{0}_{1}'.format(b2,b1)\n",
    "            mapp[i].moments['Kdd'][binx] -= mapp[i].moments['kNdd'][binx]\n",
    "    \n",
    "    \n",
    "    for b1 in bins_lenses:\n",
    "        for b2 in bins_WL:\n",
    "            for b3 in bins_WL:\n",
    "                try:\n",
    "                    binx = '{0}_{1}_{2}'.format(b1, b2, b3)\n",
    "                    mapp[i].moments['dKK'][binx] -= (mapp[i].moments['nkNkN'][binx]+3*mapp[i].moments['nKK'][binx]+3*mapp[i].moments['dkNkN'][binx])\n",
    "                except:\n",
    "                    pass\n",
    "    for b1 in bins_WL:\n",
    "        for b2 in bins_lenses:\n",
    "            for b3 in bins_lenses:\n",
    "                try:\n",
    "                    binx = '{0}_{1}_{2}'.format(b1, b2, b3)\n",
    "                    mapp[i].moments['Kdd'][binx] -= (mapp[i].moments['kNnn'][binx]+3*mapp[i].moments['kNdd'][binx]+3*mapp[i].moments['knn'][binx])\n",
    "                except:\n",
    "                    pass\n",
    "                \n",
    "save_obj('/global/project/projectdirs/des/mgatti/Moments_analysis/Cov_FLASK_Y3',mapp)\n",
    "print ('done')"
   ]
  },
  {
   "cell_type": "code",
   "execution_count": 20,
   "metadata": {},
   "outputs": [
    {
     "data": {
      "text/plain": [
       "array([1.15327364e-06, 9.19870978e-07, 6.53626521e-07, 4.45364663e-07,\n",
       "       3.02788315e-07, 2.06406157e-07, 1.36987339e-07, 8.74736920e-08,\n",
       "       5.45059935e-08, 3.20869008e-08])"
      ]
     },
     "execution_count": 20,
     "metadata": {},
     "output_type": "execute_result"
    }
   ],
   "source": [
    "map_flask_reals[20].moments['kEkE']['0_0']"
   ]
  },
  {
   "cell_type": "code",
   "execution_count": 2,
   "metadata": {},
   "outputs": [
    {
     "name": "stderr",
     "output_type": "stream",
     "text": [
      "/global/homes/m/mgatti/.conda/envs/py3s/lib/python3.6/site-packages/pyfits/__init__.py:22: PyFITSDeprecationWarning: PyFITS is deprecated, please use astropy.io.fits\n",
      "  PyFITSDeprecationWarning)  # noqa\n"
     ]
    }
   ],
   "source": []
  },
  {
   "cell_type": "code",
   "execution_count": 18,
   "metadata": {},
   "outputs": [
    {
     "name": "stdout",
     "output_type": "stream",
     "text": [
      "load covariance\n"
     ]
    }
   ],
   "source": [
    "import numpy as np\n",
    "import copy\n",
    "import os\n",
    "import pickle\n",
    "from Moments_analysis import moments_map, make_covariance\n",
    "\n",
    "def save_obj(name, obj):\n",
    "    with open(name + '.pkl', 'wb') as f:\n",
    "        pickle.dump(obj, f, pickle.HIGHEST_PROTOCOL)\n",
    "        \n",
    "def load_obj(name):\n",
    "    with open(name + '.pkl', 'rb') as f:\n",
    "        return pickle.load(f)#, encoding='latin1')\n",
    "    \n",
    "    \n",
    "nside = 1024\n",
    "smoothing_scales = np.array([3.2,5.1,8.2,13.1,21.0,33.6,54.,86.,138,221.])\n",
    "bins = ['0.2_0.43','0.43_0.63','0.63_0.9','0.9_1.3','0.2_1.3']\n",
    "\n",
    "print (\"load covariance\")\n",
    "numb_of_real = 100\n",
    "\n",
    "path_cov = \"/global/project/projectdirs/des/mgatti/Moments_analysis/Cov_FLASK_Y3\".format(nside)\n",
    "map_flask_reals = load_obj(path_cov)\n",
    "\n",
    "scales = dict()\n",
    "smoothing_scales = np.array([3.2,5.1,8.2,13.1,21.0,33.6,54.,86.,138,221.])\n",
    "\n",
    "scales['scales_2'] =  smoothing_scales #[21.0,54.,138.0]\n",
    "scales['scales_3'] =  smoothing_scales #[8.2, 21.0,54.,138.0]\n",
    "\n",
    "bins_dictionary = dict()\n",
    "bins_dictionary['2 tomo'] =dict()\n",
    "bins_dictionary['2 tomo']['bins2'] = [[1,1],[2,2],[3,3],[4,4],[5,5]]\n",
    "bins_dictionary['2 tomo']['bins3'] = [] \n",
    "\n",
    "bins_dictionary['3 tomo'] =dict()\n",
    "bins_dictionary['3 tomo']['bins2'] = []\n",
    "bins_dictionary['3 tomo']['bins3'] = [[1,1,1],[2,2,2],[3,3,3],[4,4,4],[5,5,5]]\n",
    "\n",
    "bins_dictionary['2 + 3 tomo cross'] =dict()\n",
    "bins_dictionary['2 + 3 tomo cross']['bins2'] = [[1,1],[2,2],[3,3],[4,4],[1,2],[1,3],[1,4],[2,3],[2,4],[3,4],[5,5]] \n",
    "bins_dictionary['2 + 3 tomo cross']['bins3'] = [[1,1,1],[2,2,2],[3,3,3],[4,4,4],[2,1,1],[3,1,1],[3,2,2],[4,1,1],[4,2,2],[4,3,3],[1,2,2],[1,3,3],[1,4,4],[2,3,3],[2,4,4],[3,4,4],[1,2,3],[1,2,4],[1,3,4],[2,3,4],[5,5,5]] \n",
    "\n",
    "\n",
    "\n",
    "label_cov = 'kEkE'\n",
    "cov2,v2,err2 = make_covariance(bins_dictionary['2 tomo'],label_cov,map_flask_reals,numb_of_real,scales)\n"
   ]
  },
  {
   "cell_type": "code",
   "execution_count": 23,
   "metadata": {},
   "outputs": [
    {
     "ename": "TypeError",
     "evalue": "list indices must be integers or slices, not str",
     "output_type": "error",
     "traceback": [
      "\u001b[0;31m---------------------------------------------------------------------------\u001b[0m",
      "\u001b[0;31mTypeError\u001b[0m                                 Traceback (most recent call last)",
      "\u001b[0;32m<ipython-input-23-8fddc9e47236>\u001b[0m in \u001b[0;36m<module>\u001b[0;34m\u001b[0m\n\u001b[1;32m    126\u001b[0m     \u001b[0;32mreturn\u001b[0m \u001b[0mcov_dict\u001b[0m\u001b[0;34m,\u001b[0m\u001b[0mvector\u001b[0m\u001b[0;34m,\u001b[0m\u001b[0merr_dict_plot\u001b[0m\u001b[0;34m\u001b[0m\u001b[0;34m\u001b[0m\u001b[0m\n\u001b[1;32m    127\u001b[0m \u001b[0;34m\u001b[0m\u001b[0m\n\u001b[0;32m--> 128\u001b[0;31m \u001b[0mcov2\u001b[0m\u001b[0;34m,\u001b[0m\u001b[0mv2\u001b[0m\u001b[0;34m,\u001b[0m\u001b[0merr2\u001b[0m \u001b[0;34m=\u001b[0m \u001b[0mmake_covarianceu\u001b[0m\u001b[0;34m(\u001b[0m\u001b[0mbins_dictionary\u001b[0m\u001b[0;34m[\u001b[0m\u001b[0;34m'2 tomo'\u001b[0m\u001b[0;34m]\u001b[0m\u001b[0;34m,\u001b[0m\u001b[0mlabel_cov\u001b[0m\u001b[0;34m,\u001b[0m\u001b[0mmap_flask_reals\u001b[0m\u001b[0;34m,\u001b[0m\u001b[0mnumb_of_real\u001b[0m\u001b[0;34m,\u001b[0m\u001b[0mscales\u001b[0m\u001b[0;34m)\u001b[0m\u001b[0;34m\u001b[0m\u001b[0;34m\u001b[0m\u001b[0m\n\u001b[0m",
      "\u001b[0;32m<ipython-input-23-8fddc9e47236>\u001b[0m in \u001b[0;36mmake_covarianceu\u001b[0;34m(bins_dict, label_cov, mapp, num_real, scales, physical_scale_cut, Nz_mean)\u001b[0m\n\u001b[1;32m     45\u001b[0m         \u001b[0;31m#try:\u001b[0m\u001b[0;34m\u001b[0m\u001b[0;34m\u001b[0m\u001b[0;34m\u001b[0m\u001b[0m\n\u001b[1;32m     46\u001b[0m         \u001b[0;32mfor\u001b[0m \u001b[0mbi\u001b[0m \u001b[0;32min\u001b[0m \u001b[0mbins_dict\u001b[0m\u001b[0;34m[\u001b[0m\u001b[0;34m'bins2'\u001b[0m\u001b[0;34m]\u001b[0m\u001b[0;34m:\u001b[0m\u001b[0;34m\u001b[0m\u001b[0;34m\u001b[0m\u001b[0m\n\u001b[0;32m---> 47\u001b[0;31m                     \u001b[0mprint\u001b[0m \u001b[0;34m(\u001b[0m\u001b[0mmapp\u001b[0m\u001b[0;34m[\u001b[0m\u001b[0mstr\u001b[0m\u001b[0;34m(\u001b[0m\u001b[0;36m0\u001b[0m\u001b[0;34m)\u001b[0m\u001b[0;34m]\u001b[0m\u001b[0;34m.\u001b[0m\u001b[0mconf\u001b[0m\u001b[0;34m[\u001b[0m\u001b[0;34m'bins'\u001b[0m\u001b[0;34m]\u001b[0m\u001b[0;34m)\u001b[0m\u001b[0;34m\u001b[0m\u001b[0;34m\u001b[0m\u001b[0m\n\u001b[0m\u001b[1;32m     48\u001b[0m                     \u001b[0mprint\u001b[0m \u001b[0;34m(\u001b[0m\u001b[0mbi\u001b[0m\u001b[0;34m[\u001b[0m\u001b[0;36m0\u001b[0m\u001b[0;34m]\u001b[0m\u001b[0;34m)\u001b[0m\u001b[0;34m\u001b[0m\u001b[0;34m\u001b[0m\u001b[0m\n\u001b[1;32m     49\u001b[0m                     \u001b[0mbinx\u001b[0m \u001b[0;34m=\u001b[0m \u001b[0mstr\u001b[0m\u001b[0;34m(\u001b[0m\u001b[0mmapp\u001b[0m\u001b[0;34m[\u001b[0m\u001b[0mstr\u001b[0m\u001b[0;34m(\u001b[0m\u001b[0;36m0\u001b[0m\u001b[0;34m)\u001b[0m\u001b[0;34m]\u001b[0m\u001b[0;34m.\u001b[0m\u001b[0mconf\u001b[0m\u001b[0;34m[\u001b[0m\u001b[0;34m'bins'\u001b[0m\u001b[0;34m]\u001b[0m\u001b[0;34m[\u001b[0m\u001b[0mbi\u001b[0m\u001b[0;34m[\u001b[0m\u001b[0;36m0\u001b[0m\u001b[0;34m]\u001b[0m\u001b[0;34m-\u001b[0m\u001b[0;36m1\u001b[0m\u001b[0;34m]\u001b[0m\u001b[0;34m)\u001b[0m\u001b[0;34m+\u001b[0m\u001b[0;34m\"_\"\u001b[0m\u001b[0;34m+\u001b[0m\u001b[0mstr\u001b[0m\u001b[0;34m(\u001b[0m\u001b[0mmapp\u001b[0m\u001b[0;34m[\u001b[0m\u001b[0mstr\u001b[0m\u001b[0;34m(\u001b[0m\u001b[0;36m0\u001b[0m\u001b[0;34m)\u001b[0m\u001b[0;34m]\u001b[0m\u001b[0;34m.\u001b[0m\u001b[0mconf\u001b[0m\u001b[0;34m[\u001b[0m\u001b[0;34m'bins'\u001b[0m\u001b[0;34m]\u001b[0m\u001b[0;34m[\u001b[0m\u001b[0mbi\u001b[0m\u001b[0;34m[\u001b[0m\u001b[0;36m1\u001b[0m\u001b[0;34m]\u001b[0m\u001b[0;34m-\u001b[0m\u001b[0;36m1\u001b[0m\u001b[0;34m]\u001b[0m\u001b[0;34m)\u001b[0m\u001b[0;34m\u001b[0m\u001b[0;34m\u001b[0m\u001b[0m\n",
      "\u001b[0;31mTypeError\u001b[0m: list indices must be integers or slices, not str"
     ]
    }
   ],
   "source": [
    "def make_covarianceu(bins_dict,label_cov,mapp,num_real,scales,physical_scale_cut=None,Nz_mean=None):\n",
    "    cosmo = {'omega_M_0':0.3,\n",
    "             'omega_lambda_0':1-0.3,\n",
    "              'omega_k_0': 0.0,\n",
    "              'omega_b_0' : 0.047,\n",
    "               'h':0.7,\n",
    "               'sigma_8' : 0.82}\n",
    "    \n",
    "    import numpy as np\n",
    "    # setup bins ************************************\n",
    "    bins =[]\n",
    "    len_v = 0\n",
    "    try:\n",
    "        for bi in bins_dict['bins2']:\n",
    "            bins.append(bi)\n",
    "\n",
    "            zzm=0.\n",
    "            min_theta_rp=0.\n",
    "            if physical_scale_cut:\n",
    "                for bx in bi:\n",
    "                    zzm+=Nz_mean[bx-1]\n",
    "                min_theta_rp=(physical_scale_cut[0]/((1.+zzm/2.)*cd.comoving_distance(zzm/2.,**cosmo)*(2*math.pi)/360)*60)\n",
    "            masku =np.array(scales['scales_2'])>min_theta_rp\n",
    "            len_v+= len(np.array(scales['scales_2'])[masku])\n",
    "    except:\n",
    "        pass\n",
    "    try:\n",
    "        for bi in bins_dict['bins3']:\n",
    "            bins.append(bi)\n",
    "            zzm=0.\n",
    "            min_theta_rp=0.\n",
    "            if physical_scale_cut:\n",
    "                for bx in bi:\n",
    "                    zzm+=Nz_mean[bx-1]\n",
    "                min_theta_rp=(physical_scale_cut[1]/((1.+zzm/3.)*cd.comoving_distance(zzm/3.,**cosmo)*(2*math.pi)/360)*60)\n",
    "            masku = np.array(scales['scales_3'])>min_theta_rp\n",
    "            len_v+= len(np.array(scales['scales_3'])[masku])\n",
    "    except:\n",
    "        pass\n",
    "    vector = np.zeros((num_real,len_v))\n",
    "    \n",
    "\n",
    "    for jk in range(num_real):\n",
    "        count=0\n",
    "        #try:\n",
    "        for bi in bins_dict['bins2']:\n",
    "                    print (mapp[str(0)].conf['bins'])\n",
    "                    print (bi[0])\n",
    "                    binx = str(mapp[str(0)].conf['bins'][bi[0]-1])+\"_\"+str(mapp[str(0)].conf['bins'][bi[1]-1])\n",
    "                    print (binx)\n",
    "                    zzm=0.\n",
    "                    min_theta_rp=0.\n",
    "                    if physical_scale_cut:\n",
    "                        for bx in bi:\n",
    "                            zzm+=Nz_mean[bx-1]\n",
    "                        min_theta_rp=(physical_scale_cut[0]/((1.+zzm/2.)*cd.comoving_distance(zzm/2.,**cosmo)*(2*math.pi)/360)*60)\n",
    "                    masku = np.array(scales['scales_2'])>min_theta_rp\n",
    "                    lent = len(np.array(scales['scales_2'])[ masku])\n",
    "\n",
    "\n",
    "                    mask = np.in1d(mapp[str(0)].conf['smoothing_scales'],np.array(scales['scales_2'])[masku])\n",
    "                    try:\n",
    "                        vector[jk,count:(count+lent)]=mapp[str(jk)].moments[label_cov][binx][mask]\n",
    "                    except:\n",
    "                        vector[jk,count:(count+lent)]=mapp[str(jk)].moments[label_cov][binx]['2_moment'][mask]\n",
    "                    count+=lent\n",
    "        #except:\n",
    "        #    pass\n",
    "        try:\n",
    "            for bi in bins_dict['bins3']:\n",
    "\n",
    "\n",
    "                    zzm=0.\n",
    "                    min_theta_rp=0.\n",
    "                    if physical_scale_cut:\n",
    "                        for bx in bi:\n",
    "                            zzm+=Nz_mean[bx-1]\n",
    "                        min_theta_rp=(physical_scale_cut[1]/((1.+zzm/3.)*cd.comoving_distance(zzm/3.,**cosmo)*(2*math.pi)/360)*60)\n",
    "                    masku = np.array(scales['scales_3'])>min_theta_rp\n",
    "                    lent = len(np.array(scales['scales_3'])[ masku])\n",
    "\n",
    "                    mask = np.in1d(mapp[str(0)].conf['smoothing_scales'],np.array(scales['scales_3'])[masku])\n",
    "                    binx = str(mapp[str(0)].conf['bins'][bi[0]-1])+\"_\"+str(mapp[str(0)].conf['bins'][bi[1]-1])+\"_\"+str(mapp[str(0)].conf['bins'][bi[2]-1])\n",
    "                    try:\n",
    "                        vector[jk,count:(count+lent)]=mapp[str(jk)].moments[label_cov][binx][mask]\n",
    "                    except:\n",
    "                        vector[jk,count:(count+lent)]=mapp[str(jk)].moments[label_cov][binx]['3_moment'][mask]\n",
    "                    count+=lent\n",
    "        except:\n",
    "            pass\n",
    "    cov_dict = covariance_jck(vector.T,num_real,\"bootstrap\")\n",
    "    \n",
    "    err_dict_plot = dict()\n",
    "    count = 0\n",
    "    try:\n",
    "        for bi in bins_dict['bins2']:\n",
    "            zzm=0.\n",
    "            min_theta_rp=0.\n",
    "            if physical_scale_cut:\n",
    "                for bx in bi:\n",
    "                    zzm+=Nz_mean[bx-1]\n",
    "                min_theta_rp=(physical_scale_cut[0]/((1.+zzm/2.)*cd.comoving_distance(zzm/2.,**cosmo)*(2*math.pi)/360)*60)\n",
    "            masku =np.array(scales['scales_2'])>min_theta_rp\n",
    "\n",
    "            lent = len(np.array(scales['scales_2'])[masku])\n",
    "            binx = str(mapp[str(0)].conf['bins'][bi[0]-1])+\"_\"+str(mapp[str(0)].conf['bins'][bi[1]-1])\n",
    "            err_dict_plot[binx] = cov_dict['err'][count:(count+lent)]\n",
    "            count+=lent\n",
    "    except:\n",
    "        pass\n",
    "    try:\n",
    "        for bi in bins_dict['bins3']:\n",
    "            zzm=0.\n",
    "            min_theta_rp=0.\n",
    "            if physical_scale_cut:\n",
    "                for bx in bi:\n",
    "                    zzm+=Nz_mean[bx-1]\n",
    "                min_theta_rp=(physical_scale_cut[1]/((1.+zzm/3.)*cd.comoving_distance(zzm/3.,**cosmo)*(2*math.pi)/360)*60)\n",
    "            masku = np.array(scales['scales_3'])>min_theta_rp\n",
    "            lent = len(np.array(scales['scales_3'])[masku])\n",
    "            binx = str(mapp[str(0)].conf['bins'][bi[0]-1])+\"_\"+str(mapp[str(0)].conf['bins'][bi[1]-1])+\"_\"+str(mapp[str(0)].conf['bins'][bi[2]-1])\n",
    "            err_dict_plot[binx] = cov_dict['err'][count:(count+lent)]\n",
    "            count+=lent\n",
    "    except:\n",
    "            pass\n",
    "    return cov_dict,vector,err_dict_plot\n",
    "\n",
    "cov2,v2,err2 = make_covarianceu(bins_dictionary['2 tomo'],label_cov,map_flask_reals,numb_of_real,scales)\n"
   ]
  },
  {
   "cell_type": "code",
   "execution_count": 95,
   "metadata": {},
   "outputs": [
    {
     "data": {
      "text/plain": [
       "<matplotlib.legend.Legend at 0x2aaadadec3c8>"
      ]
     },
     "execution_count": 95,
     "metadata": {},
     "output_type": "execute_result"
    },
    {
     "data": {
      "image/png": "[encoded data removed]",
      "text/plain": [
       "<Figure size 216x144 with 1 Axes>"
      ]
     },
     "metadata": {
      "needs_background": "light"
     },
     "output_type": "display_data"
    }
   ],
   "source": [
    "'''\n",
    "<dK> : neglgible <dKN> , others zero.\n",
    "<dKK>: need to subtract everything, dkNkN dominant\n",
    "\n",
    "'''\n",
    "\n",
    "%matplotlib inline\n",
    "import numpy as np\n",
    "import matplotlib.pyplot as plt\n",
    "binx = '3_1'\n",
    "\n",
    "fig, ax = plt.subplots(1,1, figsize=(3,2), sharey = 'row')\n",
    "\n",
    "ax.plot(mapp_ave.moments['dKK'][binx], label = 'kkk')\n",
    "ax.plot(mapp_ave.moments['nkNkN'][binx], label = 'nnn')\n",
    "ax.plot(mapp_ave.moments['nKK'][binx], label = 'nkk')\n",
    "ax.plot(mapp_ave.moments['dkNkN'][binx], label = 'dnn')\n",
    "ax.plot(np.arange(12),np.zeros(12),color='black')\n",
    "ax.set_yscale('log')\n",
    "plt.legend()"
   ]
  },
  {
   "cell_type": "code",
   "execution_count": 99,
   "metadata": {},
   "outputs": [
    {
     "data": {
      "text/plain": [
       "<matplotlib.legend.Legend at 0x2aaadb11d358>"
      ]
     },
     "execution_count": 99,
     "metadata": {},
     "output_type": "execute_result"
    },
    {
     "data": {
      "image/png": "[encoded data removed]",
      "text/plain": [
       "<Figure size 216x144 with 1 Axes>"
      ]
     },
     "metadata": {
      "needs_background": "light"
     },
     "output_type": "display_data"
    }
   ],
   "source": [
    "%matplotlib inline\n",
    "import numpy as np\n",
    "import matplotlib.pyplot as plt\n",
    "binx = '3_3_3'\n",
    "\n",
    "fig, ax = plt.subplots(1,1, figsize=(3,2), sharey = 'row')\n",
    "\n",
    "ax.plot(mapp_ave.moments['Kdd'][binx], label = 'kkk')\n",
    "ax.plot(mapp_ave.moments['kNnn'][binx], label = 'nnn')\n",
    "ax.plot(mapp_ave.moments['knn'][binx], label = 'nnk')\n",
    "ax.plot(mapp_ave.moments['kNdd'][binx], label = 'nkk')\n",
    "ax.plot(np.arange(12),np.zeros(12),color='black')\n",
    "ax.set_yscale('log')\n",
    "plt.legend()"
   ]
  },
  {
   "cell_type": "code",
   "execution_count": 74,
   "metadata": {},
   "outputs": [
    {
     "data": {
      "text/plain": [
       "'\\nde-noise.\\nBased on FLASK:\\n<dd> : <nn> needs to be subtracted, <nd>  2order smaller\\n<ddd> : <nnn> needs to be subtracted, <ndd>, <nnd>  2order smaller\\n\\n'"
      ]
     },
     "execution_count": 74,
     "metadata": {},
     "output_type": "execute_result"
    },
    {
     "data": {
      "image/png": "[encoded data removed]",
      "text/plain": [
       "<Figure size 216x144 with 1 Axes>"
      ]
     },
     "metadata": {
      "needs_background": "light"
     },
     "output_type": "display_data"
    }
   ],
   "source": [
    "%matplotlib inline\n",
    "import numpy as np\n",
    "import matplotlib.pyplot as plt\n",
    "binx = '3_1_3'\n",
    "fig, ax = plt.subplots(1,1, figsize=(3,2), sharey = 'row')\n",
    "\n",
    "\n",
    "ax.plot(mapp_ave.moments['dd'][binx], label = 'kkk')\n",
    "ax.plot(mapp_ave.moments['nn'][binx], label = 'nnn')\n",
    "ax.plot(-mapp_ave.moments['dnn'][binx], label = 'nnk')\n",
    "ax.plot(mapp_ave.moments['ndd'][binx], label = 'nkk')\n",
    "ax.plot(np.arange(12),np.zeros(12),color='black')\n",
    "ax.set_yscale('log')\n",
    "plt.legend()\n",
    "\n",
    "'''\n",
    "de-noise.\n",
    "Based on FLASK:\n",
    "only auto-moments for <dd> ans <ddd>.\n",
    "<dd> : <nn> needs to be subtracted, <nd>  2order smaller\n",
    "<ddd> : <nnn> needs to be subtracted, <ndd>, <nnd>  2order smaller\n",
    "\n",
    "'''"
   ]
  },
  {
   "cell_type": "code",
   "execution_count": 58,
   "metadata": {},
   "outputs": [
    {
     "data": {
      "text/plain": [
       "<matplotlib.legend.Legend at 0x2aaad95f4160>"
      ]
     },
     "execution_count": 58,
     "metadata": {},
     "output_type": "execute_result"
    },
    {
     "data": {
      "image/png": "[encoded data removed]",
      "text/plain": [
       "<Figure size 216x144 with 1 Axes>"
      ]
     },
     "metadata": {
      "needs_background": "light"
     },
     "output_type": "display_data"
    }
   ],
   "source": [
    "%matplotlib inline\n",
    "import numpy as np\n",
    "import matplotlib.pyplot as plt\n",
    "binx = '3_3_3'\n",
    "fig, ax = plt.subplots(1,1, figsize=(3,2), sharey = 'row')\n",
    "\n",
    "ax.plot(mapp_ave.moments['kEkE'][binx], label = 'kkk')\n",
    "ax.plot(mapp_ave.moments['kEkN'][binx], label = 'knn')\n",
    "ax.plot(mapp_ave.moments['kNkE'][binx], label = 'nnk')\n",
    "ax.plot(mapp_ave.moments['kNkN'][binx], label = 'nnn')\n",
    "ax.plot(np.arange(12),np.zeros(12),color='black')\n",
    "ax.set_yscale('log')\n",
    "plt.legend()"
   ]
  },
  {
   "cell_type": "code",
   "execution_count": null,
   "metadata": {},
   "outputs": [],
   "source": []
  },
  {
   "cell_type": "code",
   "execution_count": null,
   "metadata": {},
   "outputs": [],
   "source": [
    "noise_subtraction = mcal_moments.moments['nn']['{0}_{0}_{0}'.format(i)] -3*mcal_moments.moments['dnn']['{0}_{0}_{0}'.format(i)] -3*mcal_moments.moments['ndd']['{0}_{0}_{0}'.format(i)]\n",
    "    ax[i].plot(theta,mcal_moments.moments['dd']['{0}_{0}_{0}'.format(i)] - noise_subtraction)\n",
    "    "
   ]
  }
 ],
 "metadata": {
  "kernelspec": {
   "display_name": "Custom Env",
   "language": "python",
   "name": "py3s"
  },
  "language_info": {
   "codemirror_mode": {
    "name": "ipython",
    "version": 3
   },
   "file_extension": ".py",
   "mimetype": "text/x-python",
   "name": "python",
   "nbconvert_exporter": "python",
   "pygments_lexer": "ipython3",
   "version": "3.6.10"
  }
 },
 "nbformat": 4,
 "nbformat_minor": 4
}
