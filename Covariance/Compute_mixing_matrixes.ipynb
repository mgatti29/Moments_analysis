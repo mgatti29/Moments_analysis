{
 "cells": [
  {
   "cell_type": "code",
   "execution_count": 18,
   "metadata": {},
   "outputs": [
    {
     "name": "stdout",
     "output_type": "stream",
     "text": [
      "f_sky:  0.11542924245198567\n",
      "Sigma is 1.273983 arcmin (0.000371 rad) \n",
      "-> fwhm is 3.000000 arcmin\n",
      "Sigma is 0.000000 arcmin (0.000000 rad) \n",
      "-> fwhm is 0.000000 arcmin\n"
     ]
    }
   ],
   "source": [
    "import pickle\n",
    "import numpy as np\n",
    "import copy\n",
    "def save_obj(name, obj):\n",
    "    with open(name + '.pkl', 'wb') as f:\n",
    "        pickle.dump(obj, f, protocol = 2)\n",
    "        \n",
    "def load_obj(name):\n",
    "    with open(name + '.pkl', 'rb') as f:\n",
    "        return pickle.load(f)#, encoding='latin1')\n",
    "\n",
    "import healpy as hp\n",
    "\n",
    "'''\n",
    "This notebook compute the mixing matrixes (see, e.g., https://arxiv.org/pdf/1603.07818.pdf)\n",
    "for a given mask.\n",
    "\n",
    "'''\n",
    "# load the mask\n",
    "mask = load_obj(\"mask_DES_y3_py2\")\n",
    "#save_obj(\"mask_DES_y3_py2\",mask)\n",
    "print ('f_sky: ', 1./(len(mask)*1./len(mask[mask])))\n",
    "mask_sm =  hp.sphtfunc.smoothing(mask, (3./60.)*np.pi/180.  )\n",
    "mask_sm[mask] = 1.\n",
    "mask = copy.copy(mask_sm)\n",
    "# computes Cl.\n",
    "lmax = 2048\n",
    "alms_mask = hp.map2alm(mask, lmax=lmax)  # Spin transform\n",
    "Cl_mask =  hp.sphtfunc.alm2cl(alms_mask)\n",
    "\n",
    "#print ('f_sky: ', 1./(len(mask_sm)*1./np.sum(mask_sm)))"
   ]
  },
  {
   "cell_type": "markdown",
   "metadata": {},
   "source": [
    "# NaMaster matrix"
   ]
  },
  {
   "cell_type": "code",
   "execution_count": 19,
   "metadata": {},
   "outputs": [
    {
     "name": "stdout",
     "output_type": "stream",
     "text": [
      "loaded\n"
     ]
    }
   ],
   "source": [
    "import h5py\n",
    "\n",
    "# compute coupling matries with Namaster.\n",
    "\n",
    "import pymaster as nmt\n",
    "print('loaded')\n",
    "# Read mask and apodize it on a scale of ~1deg\n",
    "#mask = nmt.mask_apodization(mask,1., apotype=\"Smooth\")\n",
    "#hp.mollview(mask, coord=['G', 'C'], title='Apodized mask')\n",
    "#plt.show()\n",
    "\n",
    "# Read healpix maps and initialize a spin-0 and spin-2 field\n",
    "f_0 = nmt.NmtField(mask, [mask])\n",
    "f_2 = nmt.NmtField(mask, [mask,mask])\n",
    "bins = nmt.bins.NmtBin.from_lmax_linear(2048, 1, is_Dell=False)#nmt.bins.NmtBin(nside=1024, ells=2048)\n",
    "\n",
    "\n",
    "w = nmt.NmtWorkspace()\n",
    "w.compute_coupling_matrix(f_0, f_0, bins, is_teb=False)\n",
    "Mgg = w.get_coupling_matrix()\n",
    "save_obj('Mgg',Mgg)\n",
    "\n",
    "w = nmt.NmtWorkspace()\n",
    "w.compute_coupling_matrix(f_2, f_2, bins, is_teb=False)\n",
    "M = w.get_coupling_matrix()\n",
    "ME = (M[::4,:][:,::4])\n",
    "\n",
    "\n",
    "name_file ='/global/project/projectdirs/des/mgatti/Moments_analysis/mode_coupling_matrix_NaMaster_3arcmin_sm_{0}_{1}.h5'.format(lmax,nside)\n",
    "\n",
    "\n",
    "# you might need to transpose these. check it ***\n",
    "h5f = h5py.File(name_file, 'w')\n",
    "h5f.create_dataset('ME', data=(ME[:2048,:][:,:2048]).reshape(2048*2048))\n",
    "h5f.create_dataset('MB', data=Mgg*0)\n",
    "h5f.create_dataset('MgE', data=Mgg*0)\n",
    "h5f.create_dataset('Mgg', data=(Mgg[:2048,:][:,:2048]).reshape(2048*2048))\n",
    "h5f.close()"
   ]
  },
  {
   "cell_type": "code",
   "execution_count": 3,
   "metadata": {},
   "outputs": [],
   "source": [
    "\n",
    "import numpy as np\n",
    "from numba import double\n",
    "from numba.decorators import jit\n",
    "import numpy as np\n",
    "import wignerpy._wignerpy as wp\n",
    "\n",
    "'''\n",
    "This is the function that computes all the mixing matrixes as a function of l1.\n",
    "'''\n",
    "def triple_cycle_3(l1,u,lenU):\n",
    "    '''\n",
    "    ME = MEE,EE\n",
    "    MB = MEE,BB\n",
    "    MgE = MGE,GE (gg lensing)\n",
    "    Mgg = Mgg,gg (clustering)\n",
    "     \n",
    "    '''\n",
    "    a = 1./(8*np.pi)\n",
    "    l3 = np.arange(3*lenU)\n",
    "    mask1 = l3<lenU\n",
    "    ME = np.zeros(lenU)\n",
    "    MB = np.zeros(lenU)\n",
    "    MgE = np.zeros(lenU)\n",
    "    Mgg = np.zeros(lenU)\n",
    "    for l2 in range(2,lenU):\n",
    " \n",
    "        \n",
    "        mask = ((l1-l2)**2 <= l3*l3) & ((l1+l2)>=l3) \n",
    "        mask2 = l3[mask]<lenU\n",
    "        #print len(mask),len(l3), len(u),len(u[mask])\n",
    "       \n",
    "        v1 = wp.wigner3jvec(l1,l2, 2,-2)\n",
    "        v0 = wp.wigner3jvec(l1,l2, 0, 0)\n",
    "\n",
    "        ME[l2] += np.sum((2*l2+1)*(2*l3[mask&mask1]+1)* a * u[mask[mask1]] * ( 1 + (-1.)**(l1+l2+l3[mask&mask1]))*v1[mask2]**2.)\n",
    "        MB[l2] += np.sum((2*l2+1)*(2*l3[mask&mask1]+1)* a * u[mask[mask1]] * ( 1 - (-1.)**(l1+l2+l3[mask&mask1]))*v1[mask2]**2.)\n",
    "        MgE[l2] += 2.*np.sum((2*l2+1)*(2*l3[mask&mask1]+1)* a * u[mask[mask1]] *(v0[mask2]*v1[mask2])**2)\n",
    "        Mgg[l2] += 2.*np.sum((2*l2+1)*(2*l3[mask&mask1]+1)* a * u[mask[mask1]] *v0[mask2]**2.)\n",
    "\n",
    "    return ME, MB, MgE, Mgg,l1\n"
   ]
  },
  {
   "cell_type": "code",
   "execution_count": 4,
   "metadata": {},
   "outputs": [
    {
     "name": "stdout",
     "output_type": "stream",
     "text": [
      "185.960356951\n",
      "done\n"
     ]
    }
   ],
   "source": [
    "import timeit\n",
    "import numpy as np\n",
    "from multiprocessing import Pool,sharedctypes\n",
    "from functools import partial\n",
    "from contextlib import closing\n",
    "import h5py\n",
    "import wignerpy._wignerpy as wp\n",
    "def _init(arr_to_populate):\n",
    "    global arr\n",
    "    arr = arr_to_populate\n",
    "    \n",
    "nside=1024\n",
    "lmax = nside*2\n",
    "agents = 64\n",
    "\n",
    "\n",
    "l1 = range(2,lmax)\n",
    "    \n",
    "\n",
    "ME_final = np.zeros(lmax*lmax)\n",
    "MB_final = np.zeros(lmax*lmax)\n",
    "MgE_final = np.zeros(lmax*lmax)\n",
    "Mgg_final = np.zeros(lmax*lmax)\n",
    "t3 = timeit.default_timer()\n",
    "\n",
    "mute_list = []\n",
    "l2l = (2*np.arange(lmax)+1)\n",
    "\n",
    "with closing(Pool(processes=agents)) as pool:\n",
    "     mute_list.append(pool.map(partial(triple_cycle_3, u = Cl_mask[:lmax], lenU = lmax),l1))\n",
    "        \n",
    "        \n",
    "for i in range(np.array(mute_list).shape[1]):\n",
    "    ME_final[lmax*(i):lmax*(i+1)] = np.array(mute_list)[0,i,0]\n",
    "    MB_final[lmax*(i):lmax*(i+1)] = np.array(mute_list)[0,i,1]\n",
    "    MgE_final[lmax*(i):lmax*(i+1)] = np.array(mute_list)[0,i,2]\n",
    "    Mgg_final[lmax*(i):lmax*(i+1)] = np.array(mute_list)[0,i,3]\n",
    "t4 = timeit.default_timer()\n",
    "print (t4-t3)\n",
    "\n",
    "name_file ='/global/project/projectdirs/des/mgatti/Moments_analysis/mode_coupling_matrix_sm6arcmin_{0}_{1}.h5'.format(lmax,nside)\n",
    "\n",
    "h5f = h5py.File(name_file, 'w')\n",
    "h5f.create_dataset('ME', data=ME_final)\n",
    "h5f.create_dataset('MB', data=MB_final)\n",
    "h5f.create_dataset('MgE', data=MgE_final)\n",
    "h5f.create_dataset('Mgg', data=Mgg_final)\n",
    "h5f.close()\n",
    "print \"done\""
   ]
  },
  {
   "cell_type": "code",
   "execution_count": null,
   "metadata": {},
   "outputs": [],
   "source": []
  }
 ],
 "metadata": {
  "kernelspec": {
   "display_name": "Custom Env",
   "language": "python",
   "name": "py3s"
  },
  "language_info": {
   "codemirror_mode": {
    "name": "ipython",
    "version": 3
   },
   "file_extension": ".py",
   "mimetype": "text/x-python",
   "name": "python",
   "nbconvert_exporter": "python",
   "pygments_lexer": "ipython3",
   "version": "3.6.10"
  }
 },
 "nbformat": 4,
 "nbformat_minor": 4
}
