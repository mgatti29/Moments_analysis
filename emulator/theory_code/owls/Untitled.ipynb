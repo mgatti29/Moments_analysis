{
 "cells": [
  {
   "cell_type": "code",
   "execution_count": 12,
   "metadata": {
    "collapsed": true
   },
   "outputs": [],
   "source": [
    "import numpy as np\n",
    "mute = np.loadtxt(\"powtable_AGN_all.dat\")\n",
    "np.savetxt(\"powtable_AGN_all_z.txt\", mute[:,0])\n",
    "np.savetxt(\"powtable_AGN_all_k.txt\", mute[:,1])\n",
    "np.savetxt(\"powtable_AGN_all_P.txt\", mute[:,2])\n",
    "\n",
    "mute = np.loadtxt(\"powtable_AGN_all.dat\")\n",
    "np.savetxt(\"powtable_AGN_all_z.txt\", mute[:,0])\n",
    "np.savetxt(\"powtable_AGN_all_k.txt\", mute[:,1])\n",
    "np.savetxt(\"powtable_AGN_all_P.txt\", mute[:,2])\n",
    "\n",
    "mute = np.loadtxt(\"powtable_AGN_all.dat\")\n",
    "np.savetxt(\"powtable_AGN_all_z.txt\", mute[:,0])\n",
    "np.savetxt(\"powtable_AGN_all_k.txt\", mute[:,1])\n",
    "np.savetxt(\"powtable_AGN_all_P.txt\", mute[:,2])"
   ]
  },
  {
   "cell_type": "code",
   "execution_count": 49,
   "metadata": {},
   "outputs": [],
   "source": [
    "mute = np.loadtxt(\"powtable_AGN_all.dat\")\n",
    "mute1 = np.loadtxt(\"powtable_DMONLY_all.dat\")"
   ]
  },
  {
   "cell_type": "code",
   "execution_count": 62,
   "metadata": {},
   "outputs": [],
   "source": [
    "mask = mute[:,1] <20."
   ]
  },
  {
   "cell_type": "code",
   "execution_count": 63,
   "metadata": {},
   "outputs": [
    {
     "data": {
      "text/plain": [
       "[<matplotlib.lines.Line2D at 0x2aaadc226a90>]"
      ]
     },
     "execution_count": 63,
     "metadata": {},
     "output_type": "execute_result"
    },
    {
     "data": {
      "image/png": "[encoded data removed]",
      "text/plain": [
       "<matplotlib.figure.Figure at 0x2aaadc00c850>"
      ]
     },
     "metadata": {},
     "output_type": "display_data"
    }
   ],
   "source": [
    "plt.plot(mute[mask,2]/mute1[mask,2])"
   ]
  },
  {
   "cell_type": "code",
   "execution_count": 80,
   "metadata": {},
   "outputs": [],
   "source": [
    "cosmo = {'omega_M_0':0.286, \n",
    "         'omega_lambda_0':1-0.286,\n",
    "         'omega_k_0':0.0, \n",
    "         'omega_b_0' : 0.048,\n",
    "         'h':0.69,\n",
    " 'omega_n_0' : 0.0,\n",
    " 'N_nu' : 0,\n",
    "         'sigma_8' : 0.82,\n",
    "         'n': 0.96}\n",
    "import cosmolopy.distance as cd\n",
    "\n",
    "import os\n",
    "import scipy\n",
    "from scipy import interpolate\n",
    "dirname = \"./\"\n",
    "\n",
    "# File names\n",
    "DM_FILENAME = os.path.join(dirname, 'powtable_DMONLY_all.dat')\n",
    "UPPER_FILENAME = os.path.join(dirname, 'powtable_NOSN_all.dat')\n",
    "LOWER_FILENAME = os.path.join(dirname, 'powtable_AGN_all.dat')\n",
    "\n",
    "\n",
    "MIN_K_MODULATION = 0.05\n",
    "MIN_Z_MODULATION = 0.0\n",
    "MAX_Z_MODULATION = 5.0\n",
    "\n",
    "\n",
    "def _load_file(filename):\n",
    "        data = np.loadtxt(filename, comments='%').T\n",
    "        z = data[0]\n",
    "    \n",
    "        k = data[1]\n",
    "        P = data[2]\n",
    "        out_z = np.unique(data[0])\n",
    "        out_z = out_z[out_z < 3.1]\n",
    "        kmin = k.min()\n",
    "        kmax = k.max()\n",
    "        nk_out = 100\n",
    "        nz_out = out_z.size\n",
    "        out_k = np.linspace(np.log10(kmin), np.log10(kmax), nk_out)\n",
    "        out_P = np.zeros((nk_out, nz_out))\n",
    "\n",
    "        for i, z_i in enumerate(out_z):\n",
    "            w = (z == z_i)\n",
    "            k_i = k[w]\n",
    "            P_i = P[w]\n",
    "            # if z_i==0.5:\n",
    "            # \timport pylab\n",
    "            # \tpylab.loglog(k_i, P_i, label=filename)\n",
    "            ok = P_i > 0\n",
    "            k_i = np.log10(k_i[ok])\n",
    "            P_i = np.log10(P_i[ok])\n",
    "            S = interpolate.InterpolatedUnivariateSpline(\n",
    "                k_i, P_i)  # , s=3)\n",
    "            P_fit = S(out_k)\n",
    "            out_P[:, i] = P_fit\n",
    "        out_l = np.zeros(len(out_k)*len(out_z))\n",
    "        count_i = 0\n",
    "        count_j = 0\n",
    "        for i in range(len(out_l)):\n",
    "            out_k\n",
    "            out_l[i] = 10**out_k[count_j]/0.7*cd.comoving_distance(out_z[count_i], **cosmo)\n",
    "            count_i+=1\n",
    "            if count_i==14:\n",
    "                count_i=0\n",
    "                count_j+=1\n",
    "        return out_k, out_z, out_P, out_l\n",
    "\n",
    "\n",
    "dm_k, dm_z, dm_P,dm_l =_load_file(DM_FILENAME)\n",
    "#np.savetxt(\"powtable_DMONLY_all_z.txt\", dm_z)\n",
    "#np.savetxt(\"powtable_DMONLY_all_k.txt\", dm_k)\n",
    "a = open(\"powtable_DMONLY_all_P.txt\",'w')\n",
    "for pm in dm_P.reshape(len(dm_k)*len(dm_z)):\n",
    "    a.write(\"{0:2.8f} \\n\".format(pm))\n",
    "a.close()\n",
    "\n",
    "\n",
    "dm_k, dm_z, dm_P,dm_l =_load_file(LOWER_FILENAME)\n",
    "#np.savetxt(\"powtable_AGN_all_z.txt\", dm_z)\n",
    "#np.savetxt(\"powtable_AGN_all_k.txt\", dm_k)\n",
    "\n",
    "a = open(\"powtable_AGN_all_P.txt\",'w')\n",
    "for pm in dm_P.reshape(len(dm_k)*len(dm_z)):\n",
    "    a.write(\"{0:2.8f} \\n\".format(pm))\n",
    "a.close()\n",
    "\n",
    "dm_k, dm_z, dm_P,dm_l =_load_file(UPPER_FILENAME)\n",
    "\n",
    "a = open(\"powelle.txt\",'w')\n",
    "for pm in dm_l.reshape(len(dm_k)*len(dm_z)):\n",
    "    a.write(\"{0:2.8f} \\n\".format(pm))\n",
    "    \n",
    "a = open(\"powtable_NOSN_all_P.txt\",'w')\n",
    "for pm in dm_P.reshape(len(dm_k)*len(dm_z)):\n",
    "    a.write(\"{0:2.8f} \\n\".format(pm))\n",
    "a.close()\n",
    "np.savetxt(\"powtable_z.txt\", dm_z)\n",
    "np.savetxt(\"powtable_k.txt\", np.log10(10**dm_k))\n",
    "#np.savetxt(\"powtable_NOSN_all_P.txt\", dm_P.reshape(len(dm_k)*len(dm_z)))"
   ]
  },
  {
   "cell_type": "code",
   "execution_count": 79,
   "metadata": {},
   "outputs": [
    {
     "data": {
      "text/plain": [
       "(-1.2018201321381388, -1.2018201321381388)"
      ]
     },
     "execution_count": 79,
     "metadata": {},
     "output_type": "execute_result"
    }
   ],
   "source": [
    "dm_k[0],np.log10(10**dm_k)[0]"
   ]
  },
  {
   "cell_type": "code",
   "execution_count": 563,
   "metadata": {},
   "outputs": [
    {
     "data": {
      "image/png": "[encoded data removed]",
      "text/plain": [
       "<matplotlib.figure.Figure at 0x12e46f210>"
      ]
     },
     "metadata": {},
     "output_type": "display_data"
    }
   ],
   "source": [
    "x0 = 1./cd.comoving_distance(0.5, **cosmo)\n",
    "\n",
    "mute_agn = np.loadtxt(\"powtable_DMONLY_all_P.txt\")\n",
    "yy = mute_agn.reshape(len(dm_k),len(dm_z))[:,3]\n",
    "h = 0.7\n",
    "yy_agn = 10**yy*10#(10**dm_k/h)**2#**3\n",
    "x = np.log10(10**dm_k/h)\n",
    "ell = 10**dm_k/h/x0/1000\n",
    "#plt.plot(x,yy_agn,label='dm')\n",
    "\n",
    "mute_agn1 = np.loadtxt(\"powtable_NOSN_all_P.txt\")\n",
    "mute_agn1 = np.loadtxt(\"powtable_AGN_all_P.txt\")\n",
    "\n",
    "yy = mute_agn1.reshape(len(dm_k),len(dm_z))[:,3]\n",
    "h = 0.7\n",
    "yy_agn1 = 10**yy*10#(10**dm_k/h)**2#**3\n",
    "plt.plot(x,yy_agn/yy_agn1,label='sn')\n",
    "f = yy_agn/yy_agn1\n",
    "x = np.log10(10**dm_k/h)\n",
    "ell = 10**dm_k/h/x0/1000\n",
    "import scipy\n",
    "from scipy import interpolate\n",
    "#print x,f\n",
    "fd = interpolate.interp1d(x,f)"
   ]
  },
  {
   "cell_type": "code",
   "execution_count": 572,
   "metadata": {},
   "outputs": [
    {
     "data": {
      "text/plain": [
       "array([-3.28451799, -2.98348778, -2.80739817, ...,  0.71535162,\n",
       "        0.71539505,  0.71543849])"
      ]
     },
     "execution_count": 572,
     "metadata": {},
     "output_type": "execute_result"
    }
   ],
   "source": [
    "np.log10(ell*x0)"
   ]
  },
  {
   "cell_type": "code",
   "execution_count": 573,
   "metadata": {},
   "outputs": [
    {
     "data": {
      "text/plain": [
       "<matplotlib.legend.Legend at 0x12f11b310>"
      ]
     },
     "execution_count": 573,
     "metadata": {},
     "output_type": "execute_result"
    },
    {
     "data": {
      "image/png": "[encoded data removed]",
      "text/plain": [
       "<matplotlib.figure.Figure at 0x12e9f8610>"
      ]
     },
     "metadata": {},
     "output_type": "display_data"
    }
   ],
   "source": [
    "x0 = 1./cd.comoving_distance(0.5, **cosmo)\n",
    "\n",
    "\n",
    "mute = np.loadtxt(\"../pk.txt\")\n",
    "ell = np.exp(mute[:,0])-0.5\n",
    "logk_real = np.log(x0*ell)\n",
    "one_over_w = (mute[:,1]/np.exp(mute[:,0]))[0]\n",
    "logk = mute[:,2]\n",
    "smoothing_factor_k = (np.sqrt(np.pi*((2*ell+1)*x0))/np.pi**2)\n",
    "smoothing_factor_k = (np.sqrt(np.pi*((2*ell+1)*one_over_w))/np.pi**2)\n",
    "\n",
    "smoothing_factor_l = (np.sqrt(np.pi*((2*ell+1)))/np.pi**2)\n",
    "\n",
    "#pow(exp(ln_k),2.0)\n",
    "yy=mute[:,-1]*smoothing_factor_l**2#**5#/(kk)**1.5/(4)/np.pi#/(4*np.pi)\n",
    "#plt.plot(logk_real ,yy, label ='oli')\n",
    "plt.plot(np.log10(ell*x0)  ,(yy), label ='oli')\n",
    "import copy\n",
    "yy1 = copy.copy(yy)\n",
    "mask = (np.log10(ell*x0)>min(x)) & (np.log10(ell*x0)<max(x))\n",
    "\n",
    "yy1[mask] =yy[mask]*fd(np.log10(ell*x0)[mask])\n",
    "plt.plot(np.log10(ell*x0)  ,(yy1), label ='oli agn')\n",
    "\n",
    "#plt.xlim([-2,2])\n",
    "#print min(yy),max(yy)\n",
    "#plt.ylim([min(yy),max(yy)])\n",
    "\n",
    "plt.legend()"
   ]
  },
  {
   "cell_type": "code",
   "execution_count": 567,
   "metadata": {},
   "outputs": [
    {
     "data": {
      "text/plain": [
       "[<matplotlib.lines.Line2D at 0x12f406290>]"
      ]
     },
     "execution_count": 567,
     "metadata": {},
     "output_type": "execute_result"
    },
    {
     "data": {
      "image/png": "[encoded data removed]",
      "text/plain": [
       "<matplotlib.figure.Figure at 0x12e73dd50>"
      ]
     },
     "metadata": {},
     "output_type": "display_data"
    }
   ],
   "source": [
    "mm1 = (ell[mask]>50) & (ell[mask]<2000)\n",
    "plt.plot(fd(np.log10(ell*x0)[mask])[mm1])"
   ]
  },
  {
   "cell_type": "markdown",
   "metadata": {},
   "source": [
    "# test agn owl"
   ]
  },
  {
   "cell_type": "code",
   "execution_count": 81,
   "metadata": {},
   "outputs": [
    {
     "name": "stdout",
     "output_type": "stream",
     "text": [
      "z\n",
      "0.75\n",
      "1.01114379833\n",
      "1.01114379833\n"
     ]
    },
    {
     "data": {
      "image/png": "[encoded data removed]",
      "text/plain": [
       "<matplotlib.figure.Figure at 0x2aaadc9a3990>"
      ]
     },
     "metadata": {},
     "output_type": "display_data"
    }
   ],
   "source": [
    "\n",
    "\n",
    "powz = np.loadtxt( 'powtable_z.txt')\n",
    "powk = np.loadtxt( 'powtable_k.txt')\n",
    "\n",
    "DM_FILENAME = np.loadtxt(  'powtable_DMONLY_all_P.txt').reshape(len(powk),len(powz))\n",
    "UPPER_FILENAME = np.loadtxt(  'powtable_NOSN_all_P.txt').reshape(len(powk),len(powz))\n",
    "LOWER_FILENAME = np.loadtxt(  'powtable_AGN_all_P.txt').reshape(len(powk),len(powz))\n",
    "binz = 4\n",
    "\n",
    "import numpy as np\n",
    "\n",
    "\n",
    "l = np.linspace(1,2000,2000)+0.5\n",
    "zz = powz[binz]\n",
    "print \"z\"\n",
    "print zz\n",
    "\n",
    "import cosmolopy.distance as cd\n",
    "import cosmolopy\n",
    "om = 0.28\n",
    "ob = 0.04\n",
    "ns=1\n",
    "s8=0.82\n",
    "h100=0.7\n",
    "cosmo = {'omega_M_0':om, \n",
    "                     'omega_lambda_0':1-om,\n",
    "                     'omega_k_0': 0.0, \n",
    "                     'omega_b_0' : ob,\n",
    "                     'h':h100,\n",
    "                     'sigma_8' : s8,\n",
    "                     'n': ns}\n",
    "\n",
    "\n",
    "dchis = cd.comoving_distance(zz ,**cosmo)#/(100*cosmo['h'])\n",
    "kk = l/(dchis*0.7)\n",
    "\n",
    "l1 = 700\n",
    "\n",
    "masks = (powk>np.log10(l1/(dchis/0.7)))# & (powk<np.log10(kk[-1]))\n",
    "\n",
    "%matplotlib inline\n",
    "import matplotlib.pyplot as plt\n",
    "masks = (powk>np.log10(kk[0])) & (powk<np.log10(kk[-1]))\n",
    "lll= 10**powk[masks]*(dchis)\n",
    "print np.sum(lll*10**DM_FILENAME[masks,binz])/np.sum(lll*10**LOWER_FILENAME[masks,binz])\n",
    "plt.plot(1./lll*180./np.pi*60.,10**DM_FILENAME[masks,binz]/10**LOWER_FILENAME[masks,binz])\n",
    "\n",
    "lll= 10**powk[masks]*(dchis*0.7)\n",
    "print np.sum(lll*10**DM_FILENAME[masks,binz])/np.sum(lll*10**LOWER_FILENAME[masks,binz])\n",
    "\n",
    "plt.plot(1./lll*180./np.pi*60.,10**DM_FILENAME[masks,binz]/10**LOWER_FILENAME[masks,binz],label=\"wrong\")\n",
    "plt.xlabel(\"k\")\n",
    "plt.xlim([0.0001,100])\n",
    "plt.legend()\n",
    "plt.xlabel(\"arcmin\")\n",
    "plt.xlim([0.1,100])\n",
    "plt.xscale('log', nonposy='clip')"
   ]
  },
  {
   "cell_type": "code",
   "execution_count": 90,
   "metadata": {},
   "outputs": [
    {
     "name": "stdout",
     "output_type": "stream",
     "text": [
      "z\n",
      "0.75\n",
      "1.04509968792\n",
      "1.04509968792\n"
     ]
    },
    {
     "data": {
      "image/png": "[encoded data removed]",
      "text/plain": [
       "<matplotlib.figure.Figure at 0x2aaadcc32750>"
      ]
     },
     "metadata": {},
     "output_type": "display_data"
    }
   ],
   "source": [
    "\n",
    "\n",
    "powz = np.loadtxt( 'powtable_z.txt')\n",
    "powk = np.loadtxt( 'powtable_k.txt')\n",
    "\n",
    "DM_FILENAME = np.loadtxt(  'powtable_DMONLY_all_P.txt').reshape(len(powk),len(powz))\n",
    "UPPER_FILENAME = np.loadtxt(  'powtable_NOSN_all_P.txt').reshape(len(powk),len(powz))\n",
    "LOWER_FILENAME = np.loadtxt(  'powtable_AGN_all_P.txt').reshape(len(powk),len(powz))\n",
    "binz = 4\n",
    "\n",
    "import numpy as np\n",
    "\n",
    "\n",
    "l = np.linspace(1,10000,2000)+0.5\n",
    "zz = powz[binz]\n",
    "print \"z\"\n",
    "print zz\n",
    "\n",
    "import cosmolopy.distance as cd\n",
    "import cosmolopy\n",
    "om = 0.28\n",
    "ob = 0.04\n",
    "ns=1\n",
    "s8=0.82\n",
    "h100=0.7\n",
    "cosmo = {'omega_M_0':om, \n",
    "                     'omega_lambda_0':1-om,\n",
    "                     'omega_k_0': 0.0, \n",
    "                     'omega_b_0' : ob,\n",
    "                     'h':h100,\n",
    "                     'sigma_8' : s8,\n",
    "                     'n': ns}\n",
    "\n",
    "\n",
    "dchis = cd.comoving_distance(zz ,**cosmo)#/(100*cosmo['h'])\n",
    "kk = l/(dchis*0.7)\n",
    "\n",
    "l1 = 700\n",
    "\n",
    "masks = (powk>np.log10(l1/(dchis/0.7)))# & (powk<np.log10(kk[-1]))\n",
    "\n",
    "%matplotlib inline\n",
    "import matplotlib.pyplot as plt\n",
    "masks = (powk>np.log10(kk[0])) & (powk<np.log10(kk[-1]))\n",
    "lll= 10**powk[masks]*(dchis)\n",
    "print np.sum(lll*10**DM_FILENAME[masks,binz])/np.sum(lll*10**LOWER_FILENAME[masks,binz])\n",
    "plt.plot(lll,10**LOWER_FILENAME[masks,binz]/10**DM_FILENAME[masks,binz])\n",
    "\n",
    "lll= 10**powk[masks]*(dchis*0.7)\n",
    "print np.sum(lll*10**DM_FILENAME[masks,binz])/np.sum(lll*10**LOWER_FILENAME[masks,binz])\n",
    "\n",
    "plt.plot(lll,10**LOWER_FILENAME[masks,binz]/10**DM_FILENAME[masks,binz],label=\"wrong\")\n",
    "plt.xlabel(\"l\")\n",
    "plt.xlim([10,10000])\n",
    "plt.legend()\n",
    "plt.xlabel(\"arcmin\")\n",
    "#plt.xlim([0.1,100])\n",
    "plt.xscale('log', nonposy='clip')"
   ]
  },
  {
   "cell_type": "code",
   "execution_count": 74,
   "metadata": {},
   "outputs": [
    {
     "data": {
      "text/plain": [
       "[<matplotlib.lines.Line2D at 0x2aaadc690790>]"
      ]
     },
     "execution_count": 74,
     "metadata": {},
     "output_type": "execute_result"
    },
    {
     "data": {
      "image/png": "[encoded data removed]",
      "text/plain": [
       "<matplotlib.figure.Figure at 0x2aaadc875cd0>"
      ]
     },
     "metadata": {},
     "output_type": "display_data"
    }
   ],
   "source": [
    "plt.plot(l,l/(dchis*0.7))"
   ]
  },
  {
   "cell_type": "code",
   "execution_count": 391,
   "metadata": {},
   "outputs": [
    {
     "data": {
      "text/plain": [
       "[<matplotlib.lines.Line2D at 0x12681a890>]"
      ]
     },
     "execution_count": 391,
     "metadata": {},
     "output_type": "execute_result"
    },
    {
     "data": {
      "image/png": "[encoded data removed]",
      "text/plain": [
       "<matplotlib.figure.Figure at 0x126747150>"
      ]
     },
     "metadata": {},
     "output_type": "display_data"
    }
   ],
   "source": [
    "import cosmolopy\n",
    "cosmo = {'omega_M_0' : 0.27,\n",
    "'omega_lambda_0' : 1-0.27,\n",
    " 'omega_b_0' : 0.045,\n",
    " 'omega_n_0' : 0.0,\n",
    " 'N_nu' : 0,\n",
    " 'h' : 0.72,\n",
    " 'n' : 1.0,\n",
    " 'sigma_8' : 0.8 }\n"
   ]
  },
  {
   "cell_type": "code",
   "execution_count": 227,
   "metadata": {},
   "outputs": [
    {
     "data": {
      "text/plain": [
       "[<matplotlib.lines.Line2D at 0x115838dd0>]"
      ]
     },
     "execution_count": 227,
     "metadata": {},
     "output_type": "execute_result"
    },
    {
     "data": {
      "image/png": "[encoded data removed]",
      "text/plain": [
       "<matplotlib.figure.Figure at 0x115170b10>"
      ]
     },
     "metadata": {},
     "output_type": "display_data"
    }
   ],
   "source": [
    "%matplotlib inline\n",
    "import matplotlib.pyplot as plt\n",
    "plt.plot(dm_k,dm_P[:,0])\n",
    "mute = np.loadtxt(\"../pk.txt\")\n",
    "plt.plot(np.log(mute[:,0]),100*mute[:,3])"
   ]
  },
  {
   "cell_type": "code",
   "execution_count": 43,
   "metadata": {},
   "outputs": [],
   "source": [
    "boia = dm_P.reshape(len(dm_k)*len(dm_z))\n",
    "dm_P_c = np.zeros((dm_k.shape[0],dm_z.shape[0]))\n",
    "for i in range(dm_k.shape[0]):\n",
    "    for j in range(dm_z.shape[0]):\n",
    "        dm_P_c[i,j] = boia[j+i*dm_z.shape[0]]"
   ]
  },
  {
   "cell_type": "code",
   "execution_count": null,
   "metadata": {},
   "outputs": [],
   "source": [
    "mute = np.loadtxt(\"powtable_NOSN_all_P.txt\")\n",
    "print len(mute)\n",
    "\n",
    "mute = np.loadtxt(\"powtable_DMONLY_all_P.txt\")\n",
    "print len(mute)\n",
    "\n",
    "mute = np.loadtxt(\"powtable_AGN_all_P.txt\")\n",
    "print len(mute)"
   ]
  },
  {
   "cell_type": "code",
   "execution_count": 51,
   "metadata": {},
   "outputs": [
    {
     "data": {
      "text/plain": [
       "1400"
      ]
     },
     "execution_count": 51,
     "metadata": {},
     "output_type": "execute_result"
    }
   ],
   "source": []
  },
  {
   "cell_type": "code",
   "execution_count": null,
   "metadata": {
    "collapsed": true
   },
   "outputs": [],
   "source": []
  }
 ],
 "metadata": {
  "kernelspec": {
   "display_name": "Python [conda env:myenv]",
   "language": "python",
   "name": "conda-env-myenv-py"
  },
  "language_info": {
   "codemirror_mode": {
    "name": "ipython",
    "version": 2
   },
   "file_extension": ".py",
   "mimetype": "text/x-python",
   "name": "python",
   "nbconvert_exporter": "python",
   "pygments_lexer": "ipython2",
   "version": "2.7.15"
  }
 },
 "nbformat": 4,
 "nbformat_minor": 2
}
