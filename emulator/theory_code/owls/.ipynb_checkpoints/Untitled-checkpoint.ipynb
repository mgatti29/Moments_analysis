{
 "cells": [
  {
   "cell_type": "code",
   "execution_count": 12,
   "metadata": {
    "collapsed": true
   },
   "outputs": [],
   "source": [
    "import numpy as np\n",
    "mute = np.loadtxt(\"powtable_AGN_all.dat\")\n",
    "np.savetxt(\"powtable_AGN_all_z.txt\", mute[:,0])\n",
    "np.savetxt(\"powtable_AGN_all_k.txt\", mute[:,1])\n",
    "np.savetxt(\"powtable_AGN_all_P.txt\", mute[:,2])\n",
    "\n",
    "mute = np.loadtxt(\"powtable_AGN_all.dat\")\n",
    "np.savetxt(\"powtable_AGN_all_z.txt\", mute[:,0])\n",
    "np.savetxt(\"powtable_AGN_all_k.txt\", mute[:,1])\n",
    "np.savetxt(\"powtable_AGN_all_P.txt\", mute[:,2])\n",
    "\n",
    "mute = np.loadtxt(\"powtable_AGN_all.dat\")\n",
    "np.savetxt(\"powtable_AGN_all_z.txt\", mute[:,0])\n",
    "np.savetxt(\"powtable_AGN_all_k.txt\", mute[:,1])\n",
    "np.savetxt(\"powtable_AGN_all_P.txt\", mute[:,2])"
   ]
  },
  {
   "cell_type": "code",
   "execution_count": 31,
   "metadata": {},
   "outputs": [],
   "source": [
    "import os\n",
    "import scipy\n",
    "from scipy import interpolate\n",
    "dirname = \"./\"\n",
    "\n",
    "# File names\n",
    "DM_FILENAME = os.path.join(dirname, 'powtable_DMONLY_all.dat')\n",
    "UPPER_FILENAME = os.path.join(dirname, 'powtable_NOSN_all.dat')\n",
    "LOWER_FILENAME = os.path.join(dirname, 'powtable_AGN_all.dat')\n",
    "\n",
    "\n",
    "MIN_K_MODULATION = 0.05\n",
    "MIN_Z_MODULATION = 0.0\n",
    "MAX_Z_MODULATION = 5.0\n",
    "\n",
    "\n",
    "def _load_file(filename):\n",
    "        data = np.loadtxt(filename, comments='%').T\n",
    "        z = data[0]\n",
    "        k = data[1]\n",
    "        P = data[2]\n",
    "        out_z = np.unique(data[0])\n",
    "        out_z = out_z[out_z < 3.1]\n",
    "        kmin = k.min()\n",
    "        kmax = k.max()\n",
    "        nk_out = 100\n",
    "        nz_out = out_z.size\n",
    "        out_k = np.linspace(np.log10(kmin), np.log10(kmax), nk_out)\n",
    "        out_P = np.zeros((nk_out, nz_out))\n",
    "\n",
    "        for i, z_i in enumerate(out_z):\n",
    "            w = (z == z_i)\n",
    "            k_i = k[w]\n",
    "            P_i = P[w]\n",
    "            # if z_i==0.5:\n",
    "            # \timport pylab\n",
    "            # \tpylab.loglog(k_i, P_i, label=filename)\n",
    "            ok = P_i > 0\n",
    "            k_i = np.log10(k_i[ok])\n",
    "            P_i = np.log10(P_i[ok])\n",
    "            S = interpolate.InterpolatedUnivariateSpline(\n",
    "                k_i, P_i)  # , s=3)\n",
    "            P_fit = S(out_k)\n",
    "            out_P[:, i] = P_fit\n",
    "\n",
    "        return out_k, out_z, out_P\n",
    "\n",
    "\n",
    "dm_k, dm_z, dm_P =_load_file(DM_FILENAME)\n",
    "np.savetxt(\"powtable_DMONLY_all_z.txt\", dm_z)\n",
    "np.savetxt(\"powtable_DMONLY_all_k.txt\", dm_k)\n",
    "np.savetxt(\"powtable_DMONLY_all_P.txt\",dm_P)\n",
    "\n",
    "\n",
    "dm_k, dm_z, dm_P =_load_file(LOWER_FILENAME)\n",
    "np.savetxt(\"powtable_AGN_all_z.txt\", dm_z)\n",
    "np.savetxt(\"powtable_AGN_all_k.txt\", dm_k)\n",
    "np.savetxt(\"powtable_AGN_all_P.txt\", dm_P)\n",
    "\n",
    "\n",
    "dm_k, dm_z, dm_P =_load_file(UPPER_FILENAME)\n",
    "np.savetxt(\"powtable_NOSN_all_z.txt\", dm_z)\n",
    "np.savetxt(\"powtable_NOSN_all_k.txt\", dm_k)\n",
    "np.savetxt(\"powtable_NOSN_all_P.txt\", dm_P)"
   ]
  },
  {
   "cell_type": "code",
   "execution_count": 30,
   "metadata": {},
   "outputs": [
    {
     "data": {
      "text/plain": [
       "array([0.   , 0.25 , 0.375, 0.5  , 0.75 , 1.   , 1.25 , 1.5  , 1.75 ,\n",
       "       2.   , 2.25 , 2.5  , 2.75 , 3.   ])"
      ]
     },
     "execution_count": 30,
     "metadata": {},
     "output_type": "execute_result"
    }
   ],
   "source": [
    "dm_z"
   ]
  },
  {
   "cell_type": "code",
   "execution_count": 4,
   "metadata": {},
   "outputs": [
    {
     "name": "stdout",
     "output_type": "stream",
     "text": [
      "None\n",
      "srun -u -l -n 8 -c 3 run-sim /global/cscratch1/sd/mgatti/image_sims/y3-wl_image_sims/deblend/submission_scripts/y3-imsim-cmc-griz-007-flat.yaml output-cmc-griz-007-flat-g10.02-nsim1 image.nproc=3  output.ntiles=1 eval_variables.imin_nobj=6000 eval_variables.imax_nobj=8000 stamp.shear.g1=0.02 --step_names galsim swarp sextractor meds\n"
     ]
    }
   ],
   "source": [
    "import os\n",
    "#os.system(\"source y3-wl_image_sims/setup_cori.sh\")\n",
    "print os.path.join(os.environ.get('IMSIM_DIR'))\n",
    "import os\n",
    "\n",
    "g1=0.02\n",
    "version=\"cmc-griz-007-flat\"\n",
    "\n",
    "#change dir to $SCRATCH to avoid filling up home area (even large log files can do this!)\n",
    "\n",
    "binn=\"run-sim\"\n",
    "#config_file=\n",
    "#echo \"using config file ${config_file}\"\n",
    "n_proc=8\n",
    "n_sim=1\n",
    "cores_per_job=3\n",
    "outdir=\"output-{0}-g1{1}-nsim{2}\".format(version,g1,n_sim)\n",
    "#nobjects_min=4000\n",
    "#nobjects_max=20000\n",
    "nobjects_min=6000#30000\n",
    "nobjects_max=8000#200000\n",
    "IMSIM_DIR=\"/global/cscratch1/sd/mgatti/image_sims/y3-wl_image_sims\"\n",
    "#Run up to MEDS\n",
    "print (\"srun -u -l -n {1} -c {0} {8} {7}/deblend/submission_scripts/y3-imsim-{2}.yaml {5} image.nproc={0}  output.ntiles={3} eval_variables.imin_nobj={9} eval_variables.imax_nobj={6} \\\n",
    "stamp.shear.g1={4} --step_names galsim swarp sextractor meds\".format(cores_per_job,n_proc,version,n_sim,g1,outdir,nobjects_max,IMSIM_DIR,binn,nobjects_min))\n"
   ]
  },
  {
   "cell_type": "code",
   "execution_count": null,
   "metadata": {
    "collapsed": true
   },
   "outputs": [],
   "source": []
  }
 ],
 "metadata": {
  "kernelspec": {
   "display_name": "py27",
   "language": "python",
   "name": "py27"
  },
  "language_info": {
   "codemirror_mode": {
    "name": "ipython",
    "version": 2
   },
   "file_extension": ".py",
   "mimetype": "text/x-python",
   "name": "python",
   "nbconvert_exporter": "python",
   "pygments_lexer": "ipython2",
   "version": "2.7.13"
  }
 },
 "nbformat": 4,
 "nbformat_minor": 2
}
